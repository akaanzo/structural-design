{
 "cells": [
  {
   "cell_type": "code",
   "execution_count": 14,
   "metadata": {},
   "outputs": [],
   "source": [
    "import os\n",
    "import plotly\n",
    "from plotly import graph_objects as go\n",
    "import plotly.express as px\n",
    "import matplotlib.pyplot as plt\n",
    "import numpy as np\n",
    "from sklearn import datasets\n",
    "import sympy as sym\n",
    "from sympy import symbols\n",
    "import pandas as pd"
   ]
  },
  {
   "cell_type": "code",
   "execution_count": 15,
   "metadata": {},
   "outputs": [
    {
     "data": {
      "text/html": [
       "<div>\n",
       "<style scoped>\n",
       "    .dataframe tbody tr th:only-of-type {\n",
       "        vertical-align: middle;\n",
       "    }\n",
       "\n",
       "    .dataframe tbody tr th {\n",
       "        vertical-align: top;\n",
       "    }\n",
       "\n",
       "    .dataframe thead th {\n",
       "        text-align: right;\n",
       "    }\n",
       "</style>\n",
       "<table border=\"1\" class=\"dataframe\">\n",
       "  <thead>\n",
       "    <tr style=\"text-align: right;\">\n",
       "      <th></th>\n",
       "      <th>Section</th>\n",
       "      <th>MEd+ [kN m]</th>\n",
       "      <th>smax [m]</th>\n",
       "      <th>MEd- [kN m]</th>\n",
       "      <th>smin [m]</th>\n",
       "    </tr>\n",
       "  </thead>\n",
       "  <tbody>\n",
       "    <tr>\n",
       "      <th>0</th>\n",
       "      <td>C1</td>\n",
       "      <td>95.189448</td>\n",
       "      <td>1.26</td>\n",
       "      <td>NaN</td>\n",
       "      <td>NaN</td>\n",
       "    </tr>\n",
       "    <tr>\n",
       "      <th>1</th>\n",
       "      <td>N2</td>\n",
       "      <td>NaN</td>\n",
       "      <td>NaN</td>\n",
       "      <td>-199.249367</td>\n",
       "      <td>3.00</td>\n",
       "    </tr>\n",
       "    <tr>\n",
       "      <th>2</th>\n",
       "      <td>C2</td>\n",
       "      <td>156.565614</td>\n",
       "      <td>5.32</td>\n",
       "      <td>0.000000</td>\n",
       "      <td>NaN</td>\n",
       "    </tr>\n",
       "    <tr>\n",
       "      <th>3</th>\n",
       "      <td>N3</td>\n",
       "      <td>NaN</td>\n",
       "      <td>NaN</td>\n",
       "      <td>-216.792778</td>\n",
       "      <td>7.50</td>\n",
       "    </tr>\n",
       "    <tr>\n",
       "      <th>4</th>\n",
       "      <td>C3</td>\n",
       "      <td>124.347537</td>\n",
       "      <td>9.55</td>\n",
       "      <td>-39.690612</td>\n",
       "      <td>9.47</td>\n",
       "    </tr>\n",
       "    <tr>\n",
       "      <th>5</th>\n",
       "      <td>N4</td>\n",
       "      <td>NaN</td>\n",
       "      <td>NaN</td>\n",
       "      <td>-210.348968</td>\n",
       "      <td>11.50</td>\n",
       "    </tr>\n",
       "    <tr>\n",
       "      <th>6</th>\n",
       "      <td>C4</td>\n",
       "      <td>151.829401</td>\n",
       "      <td>13.96</td>\n",
       "      <td>-6.190556</td>\n",
       "      <td>13.74</td>\n",
       "    </tr>\n",
       "    <tr>\n",
       "      <th>7</th>\n",
       "      <td>N5</td>\n",
       "      <td>NaN</td>\n",
       "      <td>NaN</td>\n",
       "      <td>-236.629193</td>\n",
       "      <td>16.50</td>\n",
       "    </tr>\n",
       "    <tr>\n",
       "      <th>8</th>\n",
       "      <td>C5</td>\n",
       "      <td>144.511198</td>\n",
       "      <td>19.56</td>\n",
       "      <td>0.000000</td>\n",
       "      <td>NaN</td>\n",
       "    </tr>\n",
       "    <tr>\n",
       "      <th>9</th>\n",
       "      <td>N6</td>\n",
       "      <td>NaN</td>\n",
       "      <td>NaN</td>\n",
       "      <td>-187.959174</td>\n",
       "      <td>22.65</td>\n",
       "    </tr>\n",
       "    <tr>\n",
       "      <th>10</th>\n",
       "      <td>C6</td>\n",
       "      <td>87.580801</td>\n",
       "      <td>25.00</td>\n",
       "      <td>NaN</td>\n",
       "      <td>NaN</td>\n",
       "    </tr>\n",
       "  </tbody>\n",
       "</table>\n",
       "</div>"
      ],
      "text/plain": [
       "   Section  MEd+ [kN m]  smax [m]  MEd- [kN m]  smin [m]\n",
       "0       C1    95.189448      1.26          NaN       NaN\n",
       "1       N2          NaN       NaN  -199.249367      3.00\n",
       "2       C2   156.565614      5.32     0.000000       NaN\n",
       "3       N3          NaN       NaN  -216.792778      7.50\n",
       "4       C3   124.347537      9.55   -39.690612      9.47\n",
       "5       N4          NaN       NaN  -210.348968     11.50\n",
       "6       C4   151.829401     13.96    -6.190556     13.74\n",
       "7       N5          NaN       NaN  -236.629193     16.50\n",
       "8       C5   144.511198     19.56     0.000000       NaN\n",
       "9       N6          NaN       NaN  -187.959174     22.65\n",
       "10      C6    87.580801     25.00          NaN       NaN"
      ]
     },
     "execution_count": 15,
     "metadata": {},
     "output_type": "execute_result"
    }
   ],
   "source": [
    "# %store -r Mmax\n",
    "# %store -r Mmin \n",
    "# %store -r MEd_slu\n",
    "# MEd_slu \n",
    "\n",
    "Mmax = np.loadtxt('/home/matteo/ownCloud/UNITN/Tecnica-delle-Costruzioni/Esercitazione/TdC/export/var/Mmax.txt')\n",
    "Mmin = np.loadtxt('/home/matteo/ownCloud/UNITN/Tecnica-delle-Costruzioni/Esercitazione/TdC/export/var/Mmin.txt')\n",
    "MEd_slu = pd.read_csv('/home/matteo/ownCloud/UNITN/Tecnica-delle-Costruzioni/Esercitazione/TdC/export/var/MEd_slu.csv')\n",
    "MEd_slu"
   ]
  },
  {
   "cell_type": "code",
   "execution_count": 16,
   "metadata": {},
   "outputs": [
    {
     "data": {
      "text/plain": [
       "array([ 1.26,  3.  ,  5.32,  7.5 ,  9.55,  9.55, 11.5 , 13.96, 13.96,\n",
       "       16.5 , 19.56, 22.65, 25.  ,   nan,   nan,   nan,   nan,   nan,\n",
       "         nan,   nan,   nan, 26.65,   nan])"
      ]
     },
     "execution_count": 16,
     "metadata": {},
     "output_type": "execute_result"
    }
   ],
   "source": [
    "smax = MEd_slu[['smax [m]']].to_numpy()\n",
    "smin = MEd_slu[['smin [m]']].to_numpy()\n",
    "\n",
    "smaxmin = np.sort((np.concatenate((smax, smin))).reshape(-1))\n",
    "smaxmin = np.insert(smaxmin, -1, 26.65)\n",
    "\n",
    "#s_plot is for plot label\n",
    "s_plot=smaxmin\n",
    "for i in range (0, len(s_plot)-1):\n",
    "    if s_plot[i+1] - s_plot[i] < 0.3:\n",
    "        s_plot[i] = s_plot[i+1]\n",
    "        \n",
    "s_plot"
   ]
  },
  {
   "cell_type": "code",
   "execution_count": 17,
   "metadata": {},
   "outputs": [
    {
     "data": {
      "text/plain": [
       "array([ 9.51940e+07, -1.99495e+08,  1.56566e+08, -2.17079e+08,\n",
       "        1.24348e+08, -3.96906e+07, -2.10615e+08,  1.51829e+08,\n",
       "       -6.19056e+06, -2.36891e+08,  1.44511e+08, -1.88161e+08,\n",
       "        8.75808e+07])"
      ]
     },
     "execution_count": 17,
     "metadata": {},
     "output_type": "execute_result"
    }
   ],
   "source": [
    "b_init = 300;\n",
    "fcd_init = 14.17;\n",
    "beta_init = .3;\n",
    "d1_init = 40;\n",
    "d2_init = 40;\n",
    "fyd_init = 391.3;\n",
    "psi_23 = .80952\n",
    "xi_23 = .2593;\n",
    "mylambda_23 = .416\n",
    "\n",
    "\n",
    "MEd_init = np.array([95.194, -199.495, 156.566, -217.079, 124.348, -39.6906, -210.615, 151.829, -6.19056, -236.891, 144.511, -188.161, 87.5808 ]) *10**6\n",
    "MEd_init.view()"
   ]
  },
  {
   "cell_type": "code",
   "execution_count": 5,
   "metadata": {},
   "outputs": [],
   "source": [
    "b, psi, xi, d, fcd, beta, As, fyd, d2, MEd, mylambda, x, A1s, Es, epsilon_su, epsilon_cs, epsilon_c2, epsilon_s, epsilon1_s = symbols('b psi xi d fcd beta As fyd d2 MEd lambda x A1s Es epsilon_su epsilon_cs epsilon_c2, epsilon_s, epsilon1_s')\n",
    "epsilon_se = 391.3/(210*10**3)"
   ]
  },
  {
   "cell_type": "code",
   "execution_count": 8,
   "metadata": {},
   "outputs": [],
   "source": [
    "# var ('mylambda psi')"
   ]
  },
  {
   "cell_type": "code",
   "execution_count": 9,
   "metadata": {},
   "outputs": [
    {
     "data": {
      "text/plain": [
       "(454.880811579090, -b*d*fcd*psi*xi/(fyd*(beta - 1)))"
      ]
     },
     "execution_count": 9,
     "metadata": {},
     "output_type": "execute_result"
    }
   ],
   "source": [
    "eqt = b*psi*xi*d*fcd+ beta*As*fyd-As*fyd; eqt\n",
    "As0 = sym.solve(eqt, As)[0]\n",
    "\n",
    "eqr = b*psi*xi*d**2*fcd*(1-mylambda*xi) + beta*As*fyd*(d-d2) - MEd;\n",
    "d_sol0 = sym.solve(eqr.subs({b:b_init, As:As0, fcd:fcd_init, beta:beta_init, d2:d2_init, fyd:fyd_init, psi:psi_23, xi:xi_23, mylambda:mylambda_23, MEd:np.abs(MEd_init).max()}))[1]\n",
    "d_sol0, As0"
   ]
  },
  {
   "cell_type": "code",
   "execution_count": 10,
   "metadata": {},
   "outputs": [
    {
     "data": {
      "text/plain": [
       "(-1037.31097756379/(beta - 1), 444.561847527339)"
      ]
     },
     "execution_count": 10,
     "metadata": {},
     "output_type": "execute_result"
    }
   ],
   "source": [
    "As0 = As0.subs({b:b_init, d:d_sol0, fcd:fcd_init, d2:d2_init, fyd:fyd_init, psi:psi_23, xi:xi_23})\n",
    "A1s0 = (As0 * beta).subs({b:b_init, d:d_sol0, fcd:fcd_init, beta:beta_init, d2:d2_init, fyd:fyd_init, psi:psi_23, xi:xi_23})\n",
    "\n",
    "As0, A1s0"
   ]
  },
  {
   "cell_type": "code",
   "execution_count": 11,
   "metadata": {},
   "outputs": [
    {
     "data": {
      "text/plain": [
       "(460, 1526.8140296446395, 508.93800988154646)"
      ]
     },
     "execution_count": 11,
     "metadata": {},
     "output_type": "execute_result"
    }
   ],
   "source": [
    "d_sol = 460;\n",
    "As_sol = 6*np.pi*18**2/4\n",
    "A1s_sol = 2*np.pi*18**2/4\n",
    "\n",
    "d_sol, As_sol, A1s_sol"
   ]
  },
  {
   "cell_type": "code",
   "execution_count": 12,
   "metadata": {},
   "outputs": [
    {
     "name": "stdout",
     "output_type": "stream",
     "text": [
      "HP campo 2b errato!\n",
      "0.253453257098057\n",
      "HP campo 2b corretto!\n"
     ]
    },
    {
     "ename": "NameError",
     "evalue": "name 'xin5_sol' is not defined",
     "output_type": "error",
     "traceback": [
      "\u001b[0;31m---------------------------------------------------------------------------\u001b[0m",
      "\u001b[0;31mNameError\u001b[0m                                 Traceback (most recent call last)",
      "\u001b[0;32m<ipython-input-12-2dc701f8ff6b>\u001b[0m in \u001b[0;36m<module>\u001b[0;34m\u001b[0m\n\u001b[1;32m     12\u001b[0m \u001b[0mepsilon1_s\u001b[0m \u001b[0;34m=\u001b[0m \u001b[0mepsilon_su\u001b[0m \u001b[0;34m*\u001b[0m \u001b[0;34m(\u001b[0m\u001b[0mxi\u001b[0m \u001b[0;34m-\u001b[0m \u001b[0;34m(\u001b[0m\u001b[0md2\u001b[0m\u001b[0;34m/\u001b[0m\u001b[0md\u001b[0m\u001b[0;34m)\u001b[0m\u001b[0;34m)\u001b[0m\u001b[0;34m/\u001b[0m\u001b[0;34m(\u001b[0m\u001b[0;36m1\u001b[0m\u001b[0;34m-\u001b[0m\u001b[0mxi\u001b[0m\u001b[0;34m)\u001b[0m\u001b[0;34m\u001b[0m\u001b[0;34m\u001b[0m\u001b[0m\n\u001b[1;32m     13\u001b[0m \u001b[0;34m\u001b[0m\u001b[0m\n\u001b[0;32m---> 14\u001b[0;31m \u001b[0mepsilon1_s_sol\u001b[0m \u001b[0;34m=\u001b[0m \u001b[0mepsilon1_s\u001b[0m\u001b[0;34m.\u001b[0m\u001b[0msubs\u001b[0m\u001b[0;34m(\u001b[0m\u001b[0;34m{\u001b[0m\u001b[0mepsilon_su\u001b[0m\u001b[0;34m:\u001b[0m\u001b[0;36m10\u001b[0m\u001b[0;34m/\u001b[0m\u001b[0;36m1000\u001b[0m\u001b[0;34m,\u001b[0m \u001b[0mxi\u001b[0m\u001b[0;34m:\u001b[0m\u001b[0mxin5_sol\u001b[0m\u001b[0;34m,\u001b[0m \u001b[0md2\u001b[0m\u001b[0;34m:\u001b[0m\u001b[0md2_init\u001b[0m\u001b[0;34m,\u001b[0m \u001b[0md\u001b[0m\u001b[0;34m:\u001b[0m\u001b[0md_sol\u001b[0m\u001b[0;34m}\u001b[0m\u001b[0;34m)\u001b[0m\u001b[0;34m\u001b[0m\u001b[0;34m\u001b[0m\u001b[0m\n\u001b[0m\u001b[1;32m     15\u001b[0m \u001b[0mepsilon1_s_sol\u001b[0m \u001b[0;34m<\u001b[0m \u001b[0mepsilon_se\u001b[0m\u001b[0;34m\u001b[0m\u001b[0;34m\u001b[0m\u001b[0m\n",
      "\u001b[0;31mNameError\u001b[0m: name 'xin5_sol' is not defined"
     ]
    }
   ],
   "source": [
    "eqt = b*psi*xi*d*fcd+ A1s*fyd-As*fyd; eqt\n",
    "xi1 = sym.solve(eqt.subs({b:b_init, As:As_sol, A1s:A1s_sol, d:d_sol, fcd:fcd_init, fyd:fyd_init, psi:psi_23}), xi)[0]\n",
    "if xi1 < xi_23:\n",
    "    print('HP campo 2b errato!')\n",
    "    psi_2 = (16*xi - 1)/(15*xi)\n",
    "    xi2 = sym.solve(eqt.subs({b:b_init, As:As_sol, A1s:A1s_sol, d:d_sol, fcd:fcd_init, fyd:fyd_init, psi:psi_2}), xi)[0]\n",
    "    print(xi2)\n",
    "    if xi2 < xi_23:\n",
    "        print('HP campo 2b corretto!')\n",
    "        xi_n5 = xi2\n",
    "        \n",
    "epsilon1_s = epsilon_su * (xi - (d2/d))/(1-xi)\n",
    "\n",
    "epsilon1_s_sol = epsilon1_s.subs({epsilon_su:10/1000, xi:xin5_sol, d2:d2_init, d:d_sol})\n",
    "epsilon1_s_sol < epsilon_se"
   ]
  },
  {
   "cell_type": "code",
   "execution_count": 13,
   "metadata": {},
   "outputs": [
    {
     "data": {
      "text/latex": [
       "$\\displaystyle \\frac{\\epsilon_{su} \\xi}{1 - \\xi}$"
      ],
      "text/plain": [
       "epsilon_su*xi/(1 - xi)"
      ]
     },
     "execution_count": 13,
     "metadata": {},
     "output_type": "execute_result"
    }
   ],
   "source": [
    "epsilon_c = epsilon_su * (xi/(1-xi))\n",
    "epsilon_c"
   ]
  },
  {
   "cell_type": "code",
   "execution_count": 119,
   "metadata": {},
   "outputs": [
    {
     "data": {
      "text/latex": [
       "$\\displaystyle \\text{True}$"
      ],
      "text/plain": [
       "True"
      ]
     },
     "execution_count": 119,
     "metadata": {},
     "output_type": "execute_result"
    }
   ],
   "source": [
    "epsilon_c_sol = epsilon_c.subs({epsilon_su:10/1000, xi:xi_n5})\n",
    "epsilon_c_sol < 3.5/1000 and epsilon_c_sol > 2/1000"
   ]
  },
  {
   "cell_type": "code",
   "execution_count": 125,
   "metadata": {},
   "outputs": [
    {
     "data": {
      "text/plain": [
       "(0.413812129258617, 0.803633287534062)"
      ]
     },
     "execution_count": 125,
     "metadata": {},
     "output_type": "execute_result"
    }
   ],
   "source": [
    "mylambda_2 = (6*epsilon_c**2 - 4*epsilon_c*epsilon_c2 + epsilon_c2**2)/(4*epsilon_c*(3*epsilon_c - epsilon_c2))\n",
    "mylambda_n5 = mylambda_2.subs({xi:xi_n5, epsilon_c2:2/1000, epsilon_su:10/1000})\n",
    "psi_n5 = psi_2.subs({xi:xi_n5})\n",
    "mylambda_n5, psi_n5"
   ]
  },
  {
   "cell_type": "code",
   "execution_count": 130,
   "metadata": {},
   "outputs": [
    {
     "data": {
      "text/latex": [
       "$\\displaystyle 247.641544543622$"
      ],
      "text/plain": [
       "247.641544543622"
      ]
     },
     "execution_count": 130,
     "metadata": {},
     "output_type": "execute_result"
    }
   ],
   "source": [
    "MRd = b*psi*xi*d**2*fcd*(1-mylambda*xi) + A1s*fyd*(d-d2)\n",
    "MRd_n5_pos = MRd.subs({b:b_init, psi:psi_n5, xi:xi_n5, d:d_sol, fcd:fcd_init, mylambda:mylambda_n5, A1s:A1s_sol, fyd:fyd_init, d2:d2_init})/10**6\n",
    "MRd_n5_pos"
   ]
  },
  {
   "cell_type": "code",
   "execution_count": 14,
   "metadata": {},
   "outputs": [],
   "source": [
    "s = np.arange(0,26.65, .001)\n",
    "\n",
    "s1 = s+ 517.5/1000\n",
    "for i in range (0, len(s)):\n",
    "    if s1[i] > 26.65:\n",
    "        s1[i] = 26.65\n",
    "\n",
    "s2 = s- 517.5/1000\n",
    "for i in range (0, len(s)):\n",
    "    if s2[i] < 0:\n",
    "        s2[i] = 0"
   ]
  },
  {
   "cell_type": "code",
   "execution_count": 16,
   "metadata": {
    "collapsed": true,
    "jupyter": {
     "outputs_hidden": true
    }
   },
   "outputs": [
    {
     "data": {
      "text/latex": [
       "$\\displaystyle \\frac{A1s Es \\left(- d_{2} + x\\right)}{x} - \\frac{As Es \\left(d - x\\right)}{x} + \\frac{b fcd x \\left(1 - \\frac{0.333333333333333 \\epsilon_{cs}}{\\epsilon_{c2}}\\right)}{\\epsilon_{c2}}$"
      ],
      "text/plain": [
       "A1s*Es*(-d2 + x)/x - As*Es*(d - x)/x + b*fcd*x*(1 - 0.333333333333333*epsilon_cs/epsilon_c2)/epsilon_c2"
      ]
     },
     "execution_count": 16,
     "metadata": {},
     "output_type": "execute_result"
    }
   ],
   "source": [
    "eqt = b*fcd*x/epsilon_c2 * (1-1/3 * (epsilon_cs/epsilon_c2)) + A1s*Es* (x-d2)/x - As*Es* (d-x)/x \n",
    "eqt"
   ]
  },
  {
   "cell_type": "code",
   "execution_count": 19,
   "metadata": {
    "collapsed": true,
    "jupyter": {
     "outputs_hidden": true
    }
   },
   "outputs": [
    {
     "data": {
      "text/latex": [
       "$\\displaystyle \\frac{1 - \\frac{0.25 \\epsilon_{cs}}{\\epsilon_{c2}}}{3 - \\frac{\\epsilon_{cs}}{\\epsilon_{c2}}}$"
      ],
      "text/plain": [
       "(1 - 0.25*epsilon_cs/epsilon_c2)/(3 - epsilon_cs/epsilon_c2)"
      ]
     },
     "execution_count": 19,
     "metadata": {},
     "output_type": "execute_result"
    }
   ],
   "source": [
    "mylambda_0 = (1-(1/4)*(epsilon_cs/epsilon_c2))/(3-(epsilon_cs/epsilon_c2))\n",
    "mylambda_0"
   ]
  },
  {
   "cell_type": "code",
   "execution_count": 79,
   "metadata": {
    "collapsed": true,
    "jupyter": {
     "outputs_hidden": true
    }
   },
   "outputs": [
    {
     "data": {
      "text/latex": [
       "$\\displaystyle \\frac{A1s Es \\epsilon_{cs} \\left(d_{2} - x\\right) \\left(d_{2} \\left(3 \\epsilon_{c2} - \\epsilon_{cs}\\right) - x \\left(\\epsilon_{c2} - 0.25 \\epsilon_{cs}\\right)\\right) + As Es \\epsilon_{cs} \\left(d - x\\right) \\left(d \\left(3 \\epsilon_{c2} - \\epsilon_{cs}\\right) - x \\left(\\epsilon_{c2} - 0.25 \\epsilon_{cs}\\right)\\right) - MEd x \\left(3 \\epsilon_{c2} - \\epsilon_{cs}\\right)}{x \\left(3 \\epsilon_{c2} - \\epsilon_{cs}\\right)}$"
      ],
      "text/plain": [
       "(A1s*Es*epsilon_cs*(d2 - x)*(d2*(3*epsilon_c2 - epsilon_cs) - x*(epsilon_c2 - 0.25*epsilon_cs)) + As*Es*epsilon_cs*(d - x)*(d*(3*epsilon_c2 - epsilon_cs) - x*(epsilon_c2 - 0.25*epsilon_cs)) - MEd*x*(3*epsilon_c2 - epsilon_cs))/(x*(3*epsilon_c2 - epsilon_cs))"
      ]
     },
     "execution_count": 79,
     "metadata": {},
     "output_type": "execute_result"
    }
   ],
   "source": [
    "# eqr = x**2 - ((1-mylambda_0)*(As*d+A1s*d2)+MEd)/((As+A1s)*mylambda_0) + (As*d**2 + A1s*d2**2)/((As+A1s)*mylambda_0)\n",
    "eqr = A1s*Es*epsilon_cs*(x-d2)/x * (mylambda_0*x - d2) + As*Es*epsilon_cs* (d-x)/x * (d-mylambda_0 * x) - MEd\n",
    "eqr = sym.simplify(eqr)\n",
    "eqr"
   ]
  },
  {
   "cell_type": "code",
   "execution_count": 88,
   "metadata": {
    "collapsed": true,
    "jupyter": {
     "outputs_hidden": true
    }
   },
   "outputs": [
    {
     "data": {
      "text/plain": [
       "[]"
      ]
     },
     "execution_count": 88,
     "metadata": {},
     "output_type": "execute_result"
    }
   ],
   "source": [
    "epsilon_cs0 = sym.solve(eqr.subs({epsilon_c2:2/1000, As:243*np.pi, A1s:162*np.pi, d2:40, d:460, MEd:61.53*10**6, Es:210*10**3, x:x0}), epsilon_cs)\n",
    "epsilon_cs0"
   ]
  },
  {
   "cell_type": "code",
   "execution_count": 85,
   "metadata": {
    "collapsed": true,
    "jupyter": {
     "outputs_hidden": true
    }
   },
   "outputs": [
    {
     "data": {
      "text/latex": [
       "$\\displaystyle \\frac{8.82145377558222 \\cdot 10^{-11} \\left(1680000000.0 As - 19690058151695.7 \\sqrt{7.2798857892474 \\cdot 10^{-9} As^{2} - 0.0225960721673678 As \\epsilon_{cs} + 0.000142986454175696 As - \\epsilon_{cs} + 0.00788562071409889} + 855015856601.0\\right)}{500.0 \\epsilon_{cs} - 3.0}$"
      ],
      "text/plain": [
       "8.82145377558222e-11*(1680000000.0*As - 19690058151695.7*sqrt(7.2798857892474e-9*As**2 - 0.0225960721673678*As*epsilon_cs + 0.000142986454175696*As - epsilon_cs + 0.00788562071409889) + 855015856601.0)/(500.0*epsilon_cs - 3.0)"
      ]
     },
     "execution_count": 85,
     "metadata": {},
     "output_type": "execute_result"
    }
   ],
   "source": [
    "x0 = sym.solve(\n",
    "    eqt.subs({A1s:162*np.pi, d2:40, d:460, Es:210*10**3, epsilon_c2:2/1000, b:300, fcd:14.17})\n",
    "    ,x)[0]\n",
    "x0"
   ]
  },
  {
   "cell_type": "code",
   "execution_count": 68,
   "metadata": {
    "collapsed": true,
    "jupyter": {
     "outputs_hidden": true
    }
   },
   "outputs": [
    {
     "data": {
      "text/latex": [
       "$\\displaystyle 0.00213421125755782$"
      ],
      "text/plain": [
       "0.00213421125755782"
      ]
     },
     "execution_count": 68,
     "metadata": {},
     "output_type": "execute_result"
    }
   ],
   "source": [
    "epsilon_cs0.subs({x:331.5})"
   ]
  },
  {
   "cell_type": "code",
   "execution_count": 43,
   "metadata": {
    "collapsed": true,
    "jupyter": {
     "outputs_hidden": true
    }
   },
   "outputs": [
    {
     "data": {
      "text/latex": [
       "$\\displaystyle 0.00245339086599976$"
      ],
      "text/plain": [
       "0.00245339086599976"
      ]
     },
     "execution_count": 43,
     "metadata": {},
     "output_type": "execute_result"
    }
   ],
   "source": [
    "(460 - 331.5)/331.5 * epsilon_cs0.subs({x:371.677})"
   ]
  },
  {
   "cell_type": "markdown",
   "metadata": {},
   "source": [
    "---"
   ]
  },
  {
   "cell_type": "markdown",
   "metadata": {},
   "source": [
    "## Progetto sezione N5\n",
    "\n",
    "Si ipotizzi di essere sulla retta limite tra il campo 2 e il campo 3. In questo modo:\n",
    "$$\n",
    "\\xi_{2/3} = \\dfrac{\\varepsilon_{cu}}{\\varepsilon_{cu} + \\varepsilon_{su}}\n",
    "$$\n",
    "\n",
    "Assumendo \n",
    "\\begin{align*}\n",
    "\\varepsilon_{cu} &= 0.35\\%\\\\\n",
    "\\varepsilon_{su} &= 1.0\\%\n",
    "\\end{align*}\n",
    "risulta\n",
    "$$\n",
    "\\xi_{2/3} = 0.2593\n",
    "$$\n",
    "\n",
    "Essendo sulla retta limite tra i campi 2 e 3, i valori di $\\psi$ e $\\lambda$ sono costanti e valgono\n",
    "\\begin{align*}\n",
    "\\psi &= 0.80952\\\\\n",
    "\\lambda &= 0.416\n",
    "\\end{align*}"
   ]
  },
  {
   "cell_type": "code",
   "execution_count": 13,
   "metadata": {},
   "outputs": [
    {
     "data": {
      "text/plain": [
       "sympy.core.symbol.Symbol"
      ]
     },
     "execution_count": 13,
     "metadata": {},
     "output_type": "execute_result"
    }
   ],
   "source": [
    "b, psi, xi, d, fcd, beta, As, fyd, d2, MEd, mylambda, x, A1s, Es, epsilon_su, epsilon_cs, epsilon_c2 = symbols('b psi xi d fcd beta As fyd d2 MEd mylambda x A1s Es epsilon_su epsilon_cs epsilon_c2')\n",
    "type(d)"
   ]
  },
  {
   "cell_type": "code",
   "execution_count": null,
   "metadata": {},
   "outputs": [],
   "source": [
    "MEd_N5 = 234.169 #kN m"
   ]
  },
  {
   "cell_type": "code",
   "execution_count": 50,
   "metadata": {},
   "outputs": [
    {
     "data": {
      "text/plain": [
       "sympy.core.add.Add"
      ]
     },
     "execution_count": 50,
     "metadata": {},
     "output_type": "execute_result"
    }
   ],
   "source": [
    "eq = b*psi*xi*d**2 * fcd* (1-mylambda) + beta* (b*psi*xi*d*fcd / (1-beta)) * (d-d2) - MEd\n",
    "type(eq)"
   ]
  },
  {
   "cell_type": "code",
   "execution_count": 51,
   "metadata": {},
   "outputs": [
    {
     "data": {
      "text/latex": [
       "$\\displaystyle 513.832172638218 d^{2} + 376.317920005007 d \\left(d - 40\\right) - 234169000.0$"
      ],
      "text/plain": [
       "513.832172638218*d**2 + 376.317920005007*d*(d - 40) - 234169000.0"
      ]
     },
     "execution_count": 51,
     "metadata": {},
     "output_type": "execute_result"
    }
   ],
   "source": [
    "eq.subs({b:300, psi:0.806399941030868, xi:0.256147482947766, fcd:14.17, beta:0.3, mylambda:0.41481981971363, fyd:391.3, d2:40, MEd:234.169*10**6})"
   ]
  },
  {
   "cell_type": "code",
   "execution_count": 54,
   "metadata": {},
   "outputs": [],
   "source": [
    "num_eq = eq.subs({b:300, psi:0.80952, xi:0.2593, fcd:14.17, beta:0.3, mylambda:0.416, fyd:391.3, d2:40, MEd:236.89*10**6})"
   ]
  },
  {
   "cell_type": "code",
   "execution_count": 55,
   "metadata": {},
   "outputs": [
    {
     "data": {
      "text/latex": [
       "$\\displaystyle 520.570307775434$"
      ],
      "text/plain": [
       "520.570307775434"
      ]
     },
     "execution_count": 55,
     "metadata": {},
     "output_type": "execute_result"
    }
   ],
   "source": [
    "d_sol=sym.solve(num_eq, d)\n",
    "d_sol[1]"
   ]
  },
  {
   "cell_type": "code",
   "execution_count": null,
   "metadata": {},
   "outputs": [],
   "source": [
    "sol_As = b*psi*xi*d*fcd / (fyd*(1-beta))\n",
    "sol_As"
   ]
  },
  {
   "cell_type": "code",
   "execution_count": null,
   "metadata": {},
   "outputs": [],
   "source": [
    "num_As = sol_As.subs({b:300, psi:0.80952, xi:0.2593, fcd:14.17, beta:0.3, fyd:391.3, d:d_sol[1]})\n",
    "num_As"
   ]
  },
  {
   "cell_type": "code",
   "execution_count": null,
   "metadata": {
    "collapsed": true,
    "jupyter": {
     "outputs_hidden": true
    }
   },
   "outputs": [],
   "source": [
    "num_A1s = .3 * num_As\n",
    "num_A1s"
   ]
  },
  {
   "cell_type": "markdown",
   "metadata": {},
   "source": [
    "Adottando\n",
    "\\begin{align}\n",
    "d &= 460\\,mm\\\\\n",
    "\\end{align}\n",
    "si ottiene"
   ]
  },
  {
   "cell_type": "code",
   "execution_count": null,
   "metadata": {
    "collapsed": true,
    "jupyter": {
     "outputs_hidden": true,
     "source_hidden": true
    }
   },
   "outputs": [],
   "source": [
    "d_sol1=460 #è verificata anche con d = 460mm"
   ]
  },
  {
   "cell_type": "code",
   "execution_count": null,
   "metadata": {
    "collapsed": true,
    "jupyter": {
     "outputs_hidden": true,
     "source_hidden": true
    }
   },
   "outputs": [],
   "source": [
    "num1_As = sol_As.subs({b:300, psi:0.80952, xi:0.2593, fcd:14.17, beta:0.3, fyd:391.3, d:d_sol1})\n",
    "num1_As"
   ]
  },
  {
   "cell_type": "code",
   "execution_count": null,
   "metadata": {
    "collapsed": true,
    "jupyter": {
     "outputs_hidden": true,
     "source_hidden": true
    }
   },
   "outputs": [],
   "source": [
    "num1_A1s = .3 * num1_As\n",
    "num1_A1s"
   ]
  },
  {
   "cell_type": "markdown",
   "metadata": {},
   "source": [
    "Si sceglie allora\n",
    "\\begin{align}\n",
    "A_s &= 6\\Phi\\,18mm = 486\\pi\\,mm^2\\\\\n",
    "A'_s &= 2\\Phi\\,18mm = 162\\pi\\,mm^2\n",
    "\\end{align}"
   ]
  },
  {
   "cell_type": "code",
   "execution_count": null,
   "metadata": {
    "collapsed": true,
    "jupyter": {
     "outputs_hidden": true,
     "source_hidden": true
    }
   },
   "outputs": [],
   "source": [
    "As_sol1 = np.pi*6*18**2 /4 #mm**2\n",
    "A1s_sol1 = np.pi*2*18**2 /4 #mm**2"
   ]
  },
  {
   "cell_type": "markdown",
   "metadata": {},
   "source": [
    "## Verifica sezione N5\n",
    "Se ipotizziamo di essere in campo 3, $\\psi$ e $\\lambda$ sono costanti. Il copriferro superiore al limite elastico tra i campi 2 e 3 vale\n",
    "$$\n",
    "d''_{\\varepsilon'_{2/3}} = \\dfrac{\\varepsilon_{cu} - \\varepsilon'_{se}}{\\varepsilon_{cu}}\\,x_{2/3} = \\dfrac{0.35-0.1863}{0.35}\\%\\,\\cdot0.2593 \\cdot 560\\,mm = 55.788\\,mm \n",
    "$$\n",
    "\n",
    "Poiché $d'' = 40\\,mm < d''_{\\varepsilon'_{2/3}} = 67.916\\,mm$ le armature superiori snervano in campo 2, sottocampo 2b).\n",
    "\n",
    "Allora\n",
    "$$\n",
    "b\\,\\psi\\,x\\,fcd + A'_s\\,f'_{yd} - A_s\\,f_{yd} = 0\n",
    "$$\n",
    "\n",
    "da cui si ricava $x$"
   ]
  },
  {
   "cell_type": "code",
   "execution_count": null,
   "metadata": {
    "collapsed": true,
    "jupyter": {
     "outputs_hidden": true,
     "source_hidden": true
    }
   },
   "outputs": [],
   "source": [
    "eq2 = b*psi*x*fcd+A1s*fyd-As*fyd\n",
    "sol_eq2 = eq2.subs({b:300, psi:0.80952, fcd:14.17, A1s:A1s_sol1, As:As_sol1, fyd:391.3})\n",
    "x2 = sym.solve(sol_eq2, x)\n",
    "sol_eq2, x2\n",
    "x2 = x2[0]\n",
    "xi2 = x2/d_sol1\n",
    "print(xi2,'< 0.2593')\n",
    "xi2 < 0.2593"
   ]
  },
  {
   "cell_type": "markdown",
   "metadata": {},
   "source": [
    "L'ipotesi di campo 3 è **errata**!\n",
    "\n",
    "Si ipotizza di essere in campo 2. Allora $\\{\\psi, \\lambda\\} \\neq cost$.\n",
    "\n",
    "**HP: sottocampo 2b ($\\sigma'_s = f_{yd}$)**\n",
    "\n",
    "Se $\\varepsilon_c \\in [\\varepsilon_{c2}, \\varepsilon_{cu}]$ allora\n",
    "$$\n",
    "\\psi = 1 - \\dfrac{1}{3}\\,\\dfrac{\\varepsilon_{c2}}{\\varepsilon_{c}} = 1 - \\dfrac{1}{3}\\,\\dfrac{\\varepsilon_{c2}}{\\varepsilon_{su}}\\,\\dfrac{1-\\xi}{\\xi} = 1 - \\dfrac{1}{3}\\,\\dfrac{2}{10}\\cdot\\dfrac{1-\\xi}{\\xi} = \\frac{16 \\xi - 1}{15 \\xi}\n",
    "$$"
   ]
  },
  {
   "cell_type": "code",
   "execution_count": null,
   "metadata": {
    "collapsed": true,
    "jupyter": {
     "outputs_hidden": true,
     "source_hidden": true
    }
   },
   "outputs": [],
   "source": [
    "sym.simplify(1-(1/3) * (2/10) * (1-xi)/xi, rational=True)"
   ]
  },
  {
   "cell_type": "markdown",
   "metadata": {},
   "source": [
    "Essendo per ipotesi in campo 2b, le equazioni di equilibrio risultano\n",
    "\\begin{align}\n",
    "b\\,\\psi\\,\\dfrac{x}{d}\\,d\\,f_{cd} + A'_s\\,f_{yd} - A_s\\,f_{yd} &= 0\n",
    "\\end{align}\n",
    "cioè\n",
    "$$\n",
    "b\\,\\psi\\,\\xi\\,d\\,f_{cd} = f_{yd}\\,(A_s - A'_s)\n",
    "$$\n",
    "ovvero\n",
    "$$ \n",
    "\\psi\\,\\xi = \\dfrac{f_{yd}\\,(A_s - A'_s)}{b\\,d\\,f_{cd}}\n",
    "$$\n",
    "Sostituendo la relazione di $\\psi$ trovata sopra\n",
    "$$\n",
    "\\frac{16 \\xi - 1}{15 \\xi}\\,\\xi = \\dfrac{f_{yd}\\,(A_s - A'_s)}{b\\,d\\,f_{cd}}\n",
    "$$"
   ]
  },
  {
   "cell_type": "code",
   "execution_count": null,
   "metadata": {
    "collapsed": true,
    "jupyter": {
     "outputs_hidden": true,
     "source_hidden": true
    }
   },
   "outputs": [],
   "source": [
    "eq3 = (16*xi-1)/(15*xi)*xi - (fyd*(As-A1s))/(b*d*fcd)\n",
    "eq3"
   ]
  },
  {
   "cell_type": "code",
   "execution_count": null,
   "metadata": {
    "collapsed": true,
    "jupyter": {
     "outputs_hidden": true,
     "source_hidden": true
    }
   },
   "outputs": [],
   "source": [
    "sym.solve(eq3, xi)[0]"
   ]
  },
  {
   "cell_type": "code",
   "execution_count": null,
   "metadata": {
    "collapsed": true,
    "jupyter": {
     "outputs_hidden": true,
     "source_hidden": true
    }
   },
   "outputs": [],
   "source": [
    "num_eq3 = eq3.subs({fyd:391.3, As:As_sol1, A1s:A1s_sol1, b:300, d:d_sol1, fcd:14.17})\n",
    "xi3 = sym.solve(num_eq3, xi)[0]\n",
    "xi3"
   ]
  },
  {
   "cell_type": "markdown",
   "metadata": {},
   "source": [
    "Risolvendo si ottiene\n",
    "$$\\xi = 0.253453257098057$$\n",
    "\n",
    "Il limite di $\\xi$ per il campo elastico delle armature superiori è \n",
    "$$\n",
    "\\xi_{\\varepsilon'_{se_{2a/2b}}} = \\dfrac{1}{d}\\left[\\dfrac{\\varepsilon'_{se}}{\\varepsilon'_{se} + \\varepsilon_{su}}\\,(d-d'') + d''\\right] = \\dfrac{1}{460}\\left[\\dfrac{1.863}{1.863 + 10}\\,(460-40) + 40\\right] = 0.23034352334074892\n",
    "$$"
   ]
  },
  {
   "cell_type": "code",
   "execution_count": null,
   "metadata": {
    "collapsed": true,
    "jupyter": {
     "outputs_hidden": true,
     "source_hidden": true
    }
   },
   "outputs": [],
   "source": [
    "sym.simplify((1.863/(1.863+10)) * (d-d2) + d2, rational=True)"
   ]
  },
  {
   "cell_type": "code",
   "execution_count": null,
   "metadata": {
    "collapsed": true,
    "jupyter": {
     "outputs_hidden": true,
     "source_hidden": true
    }
   },
   "outputs": [],
   "source": [
    "xi3lim_2a2b = ((1.863/(1.863+10)) * (d-d2) + d2).subs({d:d_sol1, d2:40})/d_sol1"
   ]
  },
  {
   "cell_type": "code",
   "execution_count": null,
   "metadata": {
    "collapsed": true,
    "jupyter": {
     "outputs_hidden": true,
     "source_hidden": true
    }
   },
   "outputs": [],
   "source": [
    "print(xi3, '<', xi3lim_2a2b)\n",
    "xi3 < xi3lim_2a2b"
   ]
  },
  {
   "cell_type": "markdown",
   "metadata": {},
   "source": [
    "Inoltre la deformazione delle armature superiori"
   ]
  },
  {
   "cell_type": "code",
   "execution_count": null,
   "metadata": {
    "collapsed": true,
    "jupyter": {
     "outputs_hidden": true,
     "source_hidden": true
    }
   },
   "outputs": [],
   "source": [
    "print('epsilon1_s =', (10/1000)/(d_sol1 - xi3*d_sol1) * (xi3*d_sol1 - 40), '> epsilon1_se = ',1.863/1000)\n",
    "(10/1000)/(d_sol1 - xi3*d_sol1) * (xi3*d_sol1 - 40) > 1.863/1000 \n",
    "#epsilon'_s > epsilon'_se => OK CAMPO 2B"
   ]
  },
  {
   "cell_type": "markdown",
   "metadata": {},
   "source": [
    "Ci si trova effettivamente in campo 2b. Allora\n",
    "$$\n",
    "\\sigma'_s = f_{yd}\n",
    "$$\n",
    "\n",
    "È necessario verificare in che campo di deformazioni è il cls"
   ]
  },
  {
   "cell_type": "code",
   "execution_count": null,
   "metadata": {
    "collapsed": true,
    "jupyter": {
     "outputs_hidden": true,
     "source_hidden": true
    }
   },
   "outputs": [],
   "source": [
    "epsilon_c = (10/1000) * (xi3*d_sol1)/(d_sol1*(1-xi3)) \n",
    "\n",
    "print('epsilon_c =', epsilon_c,'< epsilon_c2 = .002')\n",
    "\n",
    "epsilon_c < 2/1000\n",
    "\n",
    "\n",
    "#epsilon_c > epsilon_c2 => OK psi calcolato sopra!!!"
   ]
  },
  {
   "cell_type": "markdown",
   "metadata": {},
   "source": [
    "Il cls ha deformazione\n",
    "$$\n",
    "\\varepsilon_c \\in [\\varepsilon_{c2}, \\varepsilon_{cu}]\n",
    "$$\n",
    "perciò i valori di $\\psi$ e $\\lambda$ calcolati sopra sono corretti."
   ]
  },
  {
   "cell_type": "code",
   "execution_count": null,
   "metadata": {
    "collapsed": true,
    "jupyter": {
     "outputs_hidden": true,
     "source_hidden": true
    },
    "scrolled": true
   },
   "outputs": [],
   "source": [
    "psi3 = sym.simplify(1-(1/3) * (2/10) * (1-xi)/xi, rational=True).subs({xi:xi3})\n",
    "psi3"
   ]
  },
  {
   "cell_type": "code",
   "execution_count": null,
   "metadata": {
    "collapsed": true,
    "jupyter": {
     "outputs_hidden": true,
     "source_hidden": true
    }
   },
   "outputs": [],
   "source": [
    "mylambda3 = (6*((10/1000) * (xi3*d_sol1)/(d_sol1*(1-xi3)))**2 - 4*((10/1000) * (xi3*d_sol1)/(d_sol1*(1-xi3))) * 2/1000 + (2/1000)**2)/(4*((10/1000) * (xi3*d_sol1)/(d_sol1*(1-xi3)))*(3*((10/1000) * (xi3*d_sol1)/(d_sol1*(1-xi3)))-(2/1000)))\n",
    "mylambda3"
   ]
  },
  {
   "cell_type": "markdown",
   "metadata": {},
   "source": [
    "Sono verificate le ipotesi di $\\varepsilon_c  = 0.344\\% \\in [\\varepsilon_{c2}, \\varepsilon_{cu}] = [0.2, 0.35]\\%$ e di campo 2b con le armature superiori snervate, essendo $\\varepsilon'_{s} = 0.223\\% > 0.1863\\% = \\varepsilon'_{se}$.\n",
    "\n",
    "Allora, i valori di $\\psi$ e $\\lambda$ sono\n",
    "\\begin{align}\n",
    "\\psi &= 0.803633287534062\\\\\n",
    "\\lambda &= 0.413812129258617\n",
    "\\end{align}"
   ]
  },
  {
   "cell_type": "code",
   "execution_count": null,
   "metadata": {
    "collapsed": true,
    "jupyter": {
     "outputs_hidden": true,
     "source_hidden": true
    }
   },
   "outputs": [],
   "source": [
    "MRd = b*psi*xi*d*fcd*(d-mylambda*xi*d) + A1s*fyd*(d-d2)\n",
    "MRd = MRd.subs({b:300, psi:psi3, xi:xi3, mylambda:mylambda3, d:d_sol1, fcd:14.17, A1s:A1s_sol1, fyd:391.3, d2:40})/10**6\n",
    "print(MRd, 'kN m')"
   ]
  },
  {
   "cell_type": "code",
   "execution_count": null,
   "metadata": {
    "collapsed": true,
    "jupyter": {
     "outputs_hidden": true,
     "source_hidden": true
    }
   },
   "outputs": [],
   "source": [
    "MRd > MEd_N5"
   ]
  },
  {
   "cell_type": "markdown",
   "metadata": {},
   "source": [
    "### La sezione N5 è verificata!"
   ]
  },
  {
   "cell_type": "code",
   "execution_count": null,
   "metadata": {
    "collapsed": true,
    "jupyter": {
     "outputs_hidden": true,
     "source_hidden": true
    }
   },
   "outputs": [],
   "source": [
    "bmin = 6*18+2*10+5*25+2*20\n",
    "bmin"
   ]
  },
  {
   "cell_type": "code",
   "execution_count": null,
   "metadata": {
    "collapsed": true,
    "jupyter": {
     "outputs_hidden": true,
     "source_hidden": true
    }
   },
   "outputs": [],
   "source": [
    "bmin < 300"
   ]
  },
  {
   "cell_type": "markdown",
   "metadata": {},
   "source": [
    "Usando\n",
    "$$\n",
    "d = 560\\,mm \\quad A_s = 6\\,\\Phi 20\\,mm\\quad A'_s = 2\\,\\Phi 20\\,mm\n",
    "$$\n",
    "la sezione è largamente verificata ma è necessario distribuire le armature metalliche inferiori su due file, oltre ad avere una trave molto alta.\n",
    "\n",
    "Usando, in alternativa, \n",
    "$$\n",
    "d = 460\\,mm \\quad A_s = 6\\,\\Phi 18\\,mm \\quad A'_s = 2\\,\\Phi 18\\,mm\n",
    "$$ \n",
    "la trave è comunque verificata agli SLU (campo 2b come in precedenza) e inoltre l'armatura può essere contenuta tutta su una fila (in prima approssimazione e salvo calcoli corretti).\n",
    "\n",
    "<!--È necessario mettere le armature tese su due file!-->"
   ]
  },
  {
   "cell_type": "markdown",
   "metadata": {},
   "source": [
    "---"
   ]
  },
  {
   "cell_type": "markdown",
   "metadata": {},
   "source": [
    "## Progetto sezione C1\n",
    "\n",
    "Si ipotizzi di essere sulla retta limite tra il campo 2 e il campo 3. In questo modo:\n",
    "$$\n",
    "\\xi_{2/3} = \\dfrac{\\varepsilon_{cu}}{\\varepsilon_{cu} + \\varepsilon_{su}}\n",
    "$$\n",
    "\n",
    "Assumendo \n",
    "\\begin{align*}\n",
    "\\varepsilon_{cu} &= 0.35\\%\\\\\n",
    "\\varepsilon_{su} &= 1.0\\%\n",
    "\\end{align*}\n",
    "risulta\n",
    "$$\n",
    "\\xi_{2/3} = 0.2593\n",
    "$$\n",
    "\n",
    "Essendo sulla retta limite tra i campi 2 e 3, i valori di $\\psi$ e $\\lambda$ sono costanti e valgono\n",
    "\\begin{align*}\n",
    "\\psi &= 0.80952\\\\\n",
    "\\lambda &= 0.416\n",
    "\\end{align*}\n",
    "\n",
    "Inoltre sono note le caratteristiche geometriche della sezione\n",
    "\\begin{align}\n",
    "b &= 300\\,mm\\\\\n",
    "d &= 460\\,mm\n",
    "\\end{align}\n",
    "\n",
    "Per calcolare le armature si fa l'equilibrio alla rotazione attorno a $T'_s$\n",
    "$$\n",
    "-b\\,\\psi\\,\\xi\\,d\\,f_{cd}\\,(\\lambda\\,\\xi\\,d - d'') + A_s\\,f_{yd}\\,(d-d'') = M_{Ed}^{C1}\n",
    "$$\n",
    "\n",
    "dove \n",
    "$$\n",
    "M_{Ed}^{C1} = 95.1842\\,kN\\,m\n",
    "$$"
   ]
  },
  {
   "cell_type": "code",
   "execution_count": null,
   "metadata": {
    "collapsed": true,
    "jupyter": {
     "outputs_hidden": true,
     "source_hidden": true
    }
   },
   "outputs": [],
   "source": [
    "MEd_C1 = 95.1842*10**6"
   ]
  },
  {
   "cell_type": "code",
   "execution_count": null,
   "metadata": {
    "collapsed": true,
    "jupyter": {
     "outputs_hidden": true,
     "source_hidden": true
    }
   },
   "outputs": [],
   "source": [
    "eq = -b*psi*xi*d*fcd*(mylambda* xi *d - d2) + As * fyd *(d-d2) - MEd\n",
    "eq"
   ]
  },
  {
   "cell_type": "code",
   "execution_count": null,
   "metadata": {
    "collapsed": true,
    "jupyter": {
     "outputs_hidden": true,
     "source_hidden": true
    }
   },
   "outputs": [],
   "source": [
    "eq = eq.subs({b:300, d:d_sol1, d2:40, fyd:391.3, fcd:14.17, psi:0.80952, mylambda:0.416, xi:.2593, MEd:MEd_C1})\n",
    "eq_sol = sym.solve(eq, As)[0]\n",
    "eq_sol"
   ]
  },
  {
   "cell_type": "markdown",
   "metadata": {},
   "source": [
    "Si adottano\n",
    "\\begin{align}\n",
    "A_s &= 3\\Phi 18\\,mm = 243\\pi\\,mm^2\\\\\n",
    "A'_s &= 2\\Phi 18\\,mm = 162\\pi\\,mm^2\n",
    "\\end{align}"
   ]
  },
  {
   "cell_type": "code",
   "execution_count": null,
   "metadata": {
    "collapsed": true,
    "jupyter": {
     "outputs_hidden": true,
     "source_hidden": true
    }
   },
   "outputs": [],
   "source": [
    "As_sol1 = 3*np.pi * 18**2 /4\n",
    "A1s_sol1 = 2* np.pi *18**2 /4\n",
    "\n",
    "print(As_sol1, A1s_sol1)"
   ]
  },
  {
   "cell_type": "markdown",
   "metadata": {},
   "source": [
    "## Verifica sezione C1\n",
    "Se ipotizziamo di essere in campo 3, $\\psi$ e $\\lambda$ sono costanti. Il copriferro superiore al limite elastico tra i campi 2 e 3 vale\n",
    "$$\n",
    "d''_{\\varepsilon'_{2/3}} = \\dfrac{\\varepsilon_{cu} - \\varepsilon'_{se}}{\\varepsilon_{cu}}\\,x_{2/3} = \\dfrac{0.35-0.1863}{0.35}\\%\\,\\cdot0.2593 \\cdot 460\\,mm = 55.788\\,mm \n",
    "$$\n",
    "\n",
    "Poiché $d'' = 40\\,mm < d''_{\\varepsilon'_{2/3}} = 55.788\\,mm$ le armature superiori snervano in campo 2, sottocampo 2b).\n",
    "\n",
    "Allora\n",
    "$$\n",
    "b\\,\\psi\\,x\\,fcd + A'_s\\,f'_{yd} - A_s\\,f_{yd} = 0\n",
    "$$\n",
    "\n",
    "da cui si ricava $x$"
   ]
  },
  {
   "cell_type": "code",
   "execution_count": null,
   "metadata": {
    "collapsed": true,
    "jupyter": {
     "outputs_hidden": true,
     "source_hidden": true
    }
   },
   "outputs": [],
   "source": [
    "eq2 = (16*xi -1)/(15*xi) * xi - (fyd * (As - A1s))/(b*d*fcd)\n",
    "eq2"
   ]
  },
  {
   "cell_type": "code",
   "execution_count": null,
   "metadata": {
    "collapsed": true,
    "jupyter": {
     "outputs_hidden": true,
     "source_hidden": true
    }
   },
   "outputs": [],
   "source": [
    "eq2 = eq2.subs({fyd:391.3, A1s:A1s_sol1, As:As_sol1, b:300, d:d_sol1, fcd:14.17})\n",
    "eq2"
   ]
  },
  {
   "cell_type": "code",
   "execution_count": null,
   "metadata": {
    "collapsed": true,
    "jupyter": {
     "outputs_hidden": true,
     "source_hidden": true
    }
   },
   "outputs": [],
   "source": [
    "xi1 = sym.solve(eq2, xi)[0]\n",
    "xi1"
   ]
  },
  {
   "cell_type": "markdown",
   "metadata": {},
   "source": [
    "$$\n",
    "\\xi = 0.110238314274515 < \\xi_{2a/2b} = 0.23034\n",
    "$$\n",
    "\n",
    "Ci si trova in campo 2a. **Le armature superiori sono in campo elastico**\n",
    "$$\n",
    "\\varepsilon'_s = \\varepsilon_{su} \\,\\dfrac{\\xi\\,d - d''}{d\\,(1-\\xi)} = 0.026\\,\\%< 0.1863\\,\\% = \\varepsilon'_{se}\n",
    "$$\n",
    "Si deve ricalcolare il valore di $\\xi$ corretto da\n",
    "$$\n",
    "b\\,\\psi\\,\\xi\\,d\\,f_{cd} + A'_s\\,\\sigma'_s - A_s\\,f_{yd} = 0\n",
    "$$\n",
    "cioè\n",
    "$$\n",
    "b\\,\\psi\\,\\xi\\,d\\,f_{cd} + A'_s\\,E_s\\,\\varepsilon'_s - A_s\\,f_{yd} = 0\n",
    "$$\n",
    "dove\n",
    "$$\n",
    "\\varepsilon'_s = \\varepsilon_{su} \\,\\dfrac{\\xi\\,d - d''}{d\\,(1-\\xi)}\n",
    "$$\n",
    "In definitiva l'equazione da risolvere è\n",
    "$$\n",
    "b\\,\\dfrac{16\\,\\xi -1}{15\\xi}\\,\\xi\\,d\\,f_{cd} + A'_s\\,E_s\\, \\varepsilon_{su} \\,\\dfrac{\\xi\\,d - d''}{d\\,(1-\\xi)} - A_s\\,f_{yd} = 0\n",
    "$$"
   ]
  },
  {
   "cell_type": "code",
   "execution_count": null,
   "metadata": {
    "collapsed": true,
    "jupyter": {
     "outputs_hidden": true,
     "source_hidden": true
    }
   },
   "outputs": [],
   "source": [
    "eq3 = b*((16*xi-1)/(15*xi)) * xi * d * fcd + A1s*Es*(epsilon_su)*((xi*d-d2)/(d*(1-xi)))- As*fyd\n",
    "eq3"
   ]
  },
  {
   "cell_type": "code",
   "execution_count": null,
   "metadata": {
    "collapsed": true,
    "jupyter": {
     "outputs_hidden": true,
     "source_hidden": true
    }
   },
   "outputs": [],
   "source": [
    "eq3 = eq3.subs({b:300, d:d_sol1, As:As_sol1, A1s:A1s_sol1, fyd:391.3, fcd:14.17, Es:210*10**3, epsilon_su:10/1000, d2:40})\n",
    "eq3"
   ]
  },
  {
   "cell_type": "code",
   "execution_count": null,
   "metadata": {
    "collapsed": true,
    "jupyter": {
     "outputs_hidden": true,
     "source_hidden": true
    }
   },
   "outputs": [],
   "source": [
    "xi2 = sym.solve(eq3, xi)[0]\n",
    "print(xi2, '< xi_2a2b = 0.23034')\n",
    "xi2 < 0.23034"
   ]
  },
  {
   "cell_type": "code",
   "execution_count": null,
   "metadata": {
    "collapsed": true,
    "jupyter": {
     "outputs_hidden": true,
     "source_hidden": true
    }
   },
   "outputs": [],
   "source": [
    "10/1000 * (xi2*d_sol1 - 40)/(d_sol1 - xi2*d_sol1)"
   ]
  },
  {
   "cell_type": "code",
   "execution_count": null,
   "metadata": {
    "collapsed": true,
    "jupyter": {
     "outputs_hidden": true,
     "source_hidden": true
    }
   },
   "outputs": [],
   "source": [
    "epsilon_c2 = 2/1000\n",
    "epsilon_cu = 3.5/1000\n",
    "epsilon_su = 10/1000"
   ]
  },
  {
   "cell_type": "markdown",
   "metadata": {},
   "source": [
    "Ci si trova effettivamente in campo 2a.\n",
    "$$\n",
    "\\varepsilon'_s = \\varepsilon_{su} \\,\\dfrac{\\xi\\,d - d''}{d\\,(1-\\xi)} = 0.08785\\% < \\varepsilon'_{se}\n",
    "$$\n",
    "$$\n",
    "\\dfrac{\\varepsilon_{su} + \\varepsilon_c}{d} = \\dfrac{\\varepsilon_{su}}{d(1-\\xi)}\n",
    "$$\n",
    "da cui\n",
    "$$\n",
    "\\varepsilon_c = 0.1914\\% < \\varepsilon_{c2} = 0.2\\%\n",
    "$$\n",
    "e perciò si deve ricalcolare $\\psi$ e $\\lambda$ con\n",
    "$$\n",
    "\\psi = \\dfrac{\\varepsilon_c}{3\\varepsilon_{c2}^2}\\,(3\\varepsilon_{c2} - \\varepsilon_c) = \\dfrac{\\xi}{1-\\xi}\\,\\dfrac{\\varepsilon_{su}}{3\\varepsilon_{c2}^2}\\,(3\\varepsilon_{c2} - \\dfrac{\\xi}{1-\\xi}\\,\\varepsilon_{su}) \n",
    "$$"
   ]
  },
  {
   "cell_type": "code",
   "execution_count": null,
   "metadata": {
    "collapsed": true,
    "jupyter": {
     "outputs_hidden": true,
     "source_hidden": true
    }
   },
   "outputs": [],
   "source": [
    "eq3 = b*xi/(1-xi) * epsilon_su/(3*epsilon_c2**2) * (3*epsilon_c2-(xi/(1-xi))*epsilon_su) * xi*d*fcd + A1s*Es*epsilon_su* ((xi*d-d2)/(d-xi*d)) - As*fyd\n",
    "eq3 = eq3.subs({b:300, d:d_sol1, fcd:14.17, A1s:A1s_sol1, Es:210*10**3, d2:40, As:As_sol1, fyd:391.3})\n",
    "xi3 = sym.solve(eq3, xi)[1]\n",
    "print(xi3 )\n",
    "xi3 =0.160694044934078\n",
    "xi3"
   ]
  },
  {
   "cell_type": "code",
   "execution_count": null,
   "metadata": {
    "collapsed": true,
    "jupyter": {
     "outputs_hidden": true,
     "source_hidden": true
    }
   },
   "outputs": [],
   "source": [
    "epsilon_c = symbols('epsilon_c')\n",
    "eq4 = (epsilon_su/(d-xi*d) - (epsilon_su + epsilon_c)/d).subs({d:d_sol1, xi:xi3})\n",
    "eq4_sol = sym.solve(eq4, epsilon_c)[0]\n",
    "eq4_sol"
   ]
  },
  {
   "cell_type": "code",
   "execution_count": null,
   "metadata": {
    "collapsed": true,
    "jupyter": {
     "outputs_hidden": true,
     "source_hidden": true
    }
   },
   "outputs": [],
   "source": [
    "mylambda4 = (4*epsilon_c2 - eq4_sol)/(4*(3*epsilon_c2 - eq4_sol))\n",
    "mylambda4"
   ]
  },
  {
   "cell_type": "code",
   "execution_count": null,
   "metadata": {
    "collapsed": true,
    "jupyter": {
     "outputs_hidden": true,
     "source_hidden": true
    }
   },
   "outputs": [],
   "source": [
    "psi4 = (eq4_sol/(3*epsilon_c2**2)) * (3*epsilon_c2 - eq4_sol)\n",
    "psi4"
   ]
  },
  {
   "cell_type": "markdown",
   "metadata": {},
   "source": [
    "$$\n",
    "\\xi = 0.16069405\n",
    "$$\n",
    "$$\n",
    "\\varepsilon_c = 0.19146\\%\n",
    "$$\n",
    "$$\n",
    "\\lambda = \\dfrac{4\\varepsilon_{c2} - \\varepsilon_c}{4\\,(3\\varepsilon_{c2} - \\varepsilon_c)} = 0.372387224786834\n",
    "$$\n",
    "$$\n",
    "\\psi = \\dfrac{\\varepsilon_c}{3\\varepsilon_{c2}^2}\\,(3\\varepsilon_{c2} - \\varepsilon_c) = \\dfrac{\\xi}{1-\\xi}\\,\\dfrac{\\varepsilon_{su}}{3\\varepsilon_{c2}^2}\\,(3\\varepsilon_{c2} - \\dfrac{\\xi}{1-\\xi}\\,\\varepsilon_{su}) = 0.65182670538706\n",
    "$$"
   ]
  },
  {
   "cell_type": "code",
   "execution_count": null,
   "metadata": {
    "collapsed": true,
    "jupyter": {
     "outputs_hidden": true,
     "source_hidden": true
    }
   },
   "outputs": [],
   "source": [
    "MRd_C1 = round((-b*psi*xi*d*fcd*(mylambda*xi*d-d2) + As*fyd*(d-d2)).subs({b:300, psi:psi4, xi:xi3, d:d_sol1, fcd:14.17, mylambda:mylambda4, d2:40, As:As_sol1, fyd:391.3}),4)\n",
    "MRd_C1/10**6"
   ]
  },
  {
   "cell_type": "code",
   "execution_count": null,
   "metadata": {
    "collapsed": true,
    "jupyter": {
     "outputs_hidden": true,
     "source_hidden": true
    }
   },
   "outputs": [],
   "source": [
    "MRd_C1 > MEd_C1"
   ]
  },
  {
   "cell_type": "markdown",
   "metadata": {},
   "source": [
    "### La sezione C1 è verificata!"
   ]
  },
  {
   "cell_type": "markdown",
   "metadata": {},
   "source": [
    "---"
   ]
  },
  {
   "cell_type": "markdown",
   "metadata": {},
   "source": [
    "## Progetto sezione N2\n",
    "\n",
    "Si ipotizzi di essere sulla retta limite tra il campo 2 e il campo 3. In questo modo:\n",
    "$$\n",
    "\\xi_{2/3} = \\dfrac{\\varepsilon_{cu}}{\\varepsilon_{cu} + \\varepsilon_{su}}\n",
    "$$\n",
    "\n",
    "Assumendo \n",
    "\\begin{align*}\n",
    "\\varepsilon_{cu} &= 0.35\\%\\\\\n",
    "\\varepsilon_{su} &= 1.0\\%\n",
    "\\end{align*}\n",
    "risulta\n",
    "$$\n",
    "\\xi_{2/3} = 0.2593\n",
    "$$\n",
    "\n",
    "Essendo sulla retta limite tra i campi 2 e 3, i valori di $\\psi$ e $\\lambda$ sono costanti e valgono\n",
    "\\begin{align*}\n",
    "\\psi &= 0.80952\\\\\n",
    "\\lambda &= 0.416\n",
    "\\end{align*}\n",
    "\n",
    "Inoltre sono note le caratteristiche geometriche della sezione\n",
    "\\begin{align}\n",
    "b &= 300\\,mm\\\\\n",
    "d &= 460\\,mm\n",
    "\\end{align}\n",
    "\n",
    "Per calcolare le armature si fa l'equilibrio alla rotazione attorno a $T'_s$\n",
    "$$\n",
    "-b\\,\\psi\\,\\xi\\,d\\,f_{cd}\\,(\\lambda\\,\\xi\\,d - d'') + A_s\\,f_{yd}\\,(d-d'') = M_{Ed}^{C1}\n",
    "$$\n",
    "\n",
    "dove \n",
    "$$\n",
    "M_{Ed}^{C1} = -196.506\\,kN\\,m\n",
    "$$"
   ]
  },
  {
   "cell_type": "code",
   "execution_count": null,
   "metadata": {
    "collapsed": true,
    "jupyter": {
     "outputs_hidden": true,
     "source_hidden": true
    }
   },
   "outputs": [],
   "source": [
    "MEd_N2 = 196.506*10**6"
   ]
  },
  {
   "cell_type": "code",
   "execution_count": null,
   "metadata": {
    "collapsed": true,
    "jupyter": {
     "outputs_hidden": true,
     "source_hidden": true
    }
   },
   "outputs": [],
   "source": [
    "eq = -b*psi*xi*d*fcd*(mylambda* xi *d - d2) + As * fyd *(d-d2) - MEd\n",
    "eq"
   ]
  },
  {
   "cell_type": "code",
   "execution_count": null,
   "metadata": {
    "collapsed": true,
    "jupyter": {
     "outputs_hidden": true,
     "source_hidden": true
    }
   },
   "outputs": [],
   "source": [
    "eq = eq.subs({b:300, d:d_sol1, d2:40, fyd:391.3, fcd:14.17, psi:0.80952, mylambda:0.416, xi:.2593, MEd:MEd_N2})\n",
    "eq_sol = sym.solve(eq, As)[0]\n",
    "print(eq_sol)\n",
    "print(eq_sol*.3)"
   ]
  },
  {
   "cell_type": "markdown",
   "metadata": {},
   "source": [
    "Si adottano\n",
    "\\begin{align}\n",
    "A_s &= 5\\Phi 18\\,mm = 405\\pi\\,mm^2\\\\\n",
    "A'_s &= 2\\Phi 18\\,mm = 162\\pi\\,mm^2\n",
    "\\end{align}"
   ]
  },
  {
   "cell_type": "code",
   "execution_count": null,
   "metadata": {
    "collapsed": true,
    "jupyter": {
     "outputs_hidden": true,
     "source_hidden": true
    }
   },
   "outputs": [],
   "source": [
    "As_sol1 = round(5*np.pi * 18**2 /4,4)\n",
    "A1s_sol1 = round(2* np.pi *18**2 /4,4)\n",
    "\n",
    "print(As_sol1, A1s_sol1)"
   ]
  },
  {
   "cell_type": "markdown",
   "metadata": {},
   "source": [
    "## Verifica sezione N2\n",
    "Se ipotizziamo di essere in campo 3, $\\psi$ e $\\lambda$ sono costanti. Il copriferro superiore al limite elastico tra i campi 2 e 3 vale\n",
    "$$\n",
    "d''_{\\varepsilon'_{2/3}} = \\dfrac{\\varepsilon_{cu} - \\varepsilon'_{se}}{\\varepsilon_{cu}}\\,x_{2/3} = \\dfrac{0.35-0.1863}{0.35}\\%\\,\\cdot0.2593 \\cdot 460\\,mm = 55.788\\,mm \n",
    "$$\n",
    "\n",
    "Poiché $d'' = 40\\,mm < d''_{\\varepsilon'_{2/3}} = 55.788\\,mm$ le armature superiori snervano in campo 2, sottocampo 2b).\n",
    "\n",
    "Allora\n",
    "$$\n",
    "b\\,\\psi\\,x\\,fcd + A'_s\\,f'_{yd} - A_s\\,f_{yd} = 0\n",
    "$$\n",
    "\n",
    "da cui si ricava $x$"
   ]
  },
  {
   "cell_type": "code",
   "execution_count": null,
   "metadata": {
    "collapsed": true,
    "jupyter": {
     "outputs_hidden": true,
     "source_hidden": true
    }
   },
   "outputs": [],
   "source": [
    "eq2 = (16*xi -1)/(15*xi) * xi - (fyd * (As - A1s))/(b*d*fcd)\n",
    "eq2"
   ]
  },
  {
   "cell_type": "code",
   "execution_count": null,
   "metadata": {
    "collapsed": true,
    "jupyter": {
     "outputs_hidden": true,
     "source_hidden": true
    }
   },
   "outputs": [],
   "source": [
    "eq2 = eq2.subs({fyd:391.3, A1s:A1s_sol1, As:As_sol1, b:300, d:d_sol1, fcd:14.17})\n",
    "eq2"
   ]
  },
  {
   "cell_type": "code",
   "execution_count": null,
   "metadata": {
    "collapsed": true,
    "jupyter": {
     "outputs_hidden": true,
     "source_hidden": true
    }
   },
   "outputs": [],
   "source": [
    "xi1 = sym.solve(eq2, xi)[0]\n",
    "xi1"
   ]
  },
  {
   "cell_type": "markdown",
   "metadata": {},
   "source": [
    "$$\n",
    "\\xi = 0.20571494004288 < \\xi_{2a/2b} = 0.23034\n",
    "$$\n",
    "\n",
    "Ci si trova in campo 2a. **Le armature superiori sono in campo elastico**\n",
    "$$\n",
    "\\varepsilon'_s = \\varepsilon_{su} \\,\\dfrac{\\xi\\,d - d''}{d\\,(1-\\xi)} = 0.1495\\,\\%< 0.1863\\,\\% = \\varepsilon'_{se}\n",
    "$$\n",
    "Si deve ricalcolare il valore di $\\xi$ corretto da\n",
    "$$\n",
    "b\\,\\psi\\,\\xi\\,d\\,f_{cd} + A'_s\\,\\sigma'_s - A_s\\,f_{yd} = 0\n",
    "$$\n",
    "cioè\n",
    "$$\n",
    "b\\,\\psi\\,\\xi\\,d\\,f_{cd} + A'_s\\,E_s\\,\\varepsilon'_s - A_s\\,f_{yd} = 0\n",
    "$$\n",
    "dove\n",
    "$$\n",
    "\\varepsilon'_s = \\varepsilon_{su} \\,\\dfrac{\\xi\\,d - d''}{d\\,(1-\\xi)}\n",
    "$$\n",
    "In definitiva l'equazione da risolvere è\n",
    "$$\n",
    "b\\,\\dfrac{16\\,\\xi -1}{15\\xi}\\,\\xi\\,d\\,f_{cd} + A'_s\\,E_s\\, \\varepsilon_{su} \\,\\dfrac{\\xi\\,d - d''}{d\\,(1-\\xi)} - A_s\\,f_{yd} = 0\n",
    "$$"
   ]
  },
  {
   "cell_type": "code",
   "execution_count": null,
   "metadata": {
    "collapsed": true,
    "jupyter": {
     "outputs_hidden": true,
     "source_hidden": true
    }
   },
   "outputs": [],
   "source": [
    "eq3 = b*((16*xi-1)/(15*xi)) * xi * d * fcd + A1s*Es*(epsilon_su)*((xi*d-d2)/(d*(1-xi)))- As*fyd\n",
    "eq3"
   ]
  },
  {
   "cell_type": "code",
   "execution_count": null,
   "metadata": {
    "collapsed": true,
    "jupyter": {
     "outputs_hidden": true,
     "source_hidden": true
    }
   },
   "outputs": [],
   "source": [
    "eq3 = eq3.subs({b:300, d:d_sol1, As:As_sol1, A1s:A1s_sol1, fyd:391.3, fcd:14.17, Es:210*10**3, epsilon_su:10/1000, d2:40})\n",
    "eq3"
   ]
  },
  {
   "cell_type": "code",
   "execution_count": null,
   "metadata": {
    "collapsed": true,
    "jupyter": {
     "outputs_hidden": true,
     "source_hidden": true
    }
   },
   "outputs": [],
   "source": [
    "xi2 = sym.solve(eq3, xi)[0]\n",
    "print(xi2, '< xi_2a2b = 0.23034')\n",
    "xi2 < 0.23034"
   ]
  },
  {
   "cell_type": "code",
   "execution_count": null,
   "metadata": {
    "collapsed": true,
    "jupyter": {
     "outputs_hidden": true,
     "source_hidden": true
    }
   },
   "outputs": [],
   "source": [
    "10/1000 * (xi2*d_sol1 - 40)/(d_sol1 - xi2*d_sol1)\n",
    "\n",
    "#epsilon1_s"
   ]
  },
  {
   "cell_type": "code",
   "execution_count": null,
   "metadata": {
    "collapsed": true,
    "jupyter": {
     "outputs_hidden": true,
     "source_hidden": true
    }
   },
   "outputs": [],
   "source": [
    "epsilon_c = (10/1000)*(xi2*d_sol1)/(d_sol1*(1-xi2))\n",
    "\n",
    "#epsilon_c"
   ]
  },
  {
   "cell_type": "code",
   "execution_count": null,
   "metadata": {
    "collapsed": true,
    "jupyter": {
     "outputs_hidden": true,
     "source_hidden": true
    }
   },
   "outputs": [],
   "source": [
    "psi_2 = (16*xi2-1)/(15*xi2)\n",
    "psi_2"
   ]
  },
  {
   "cell_type": "code",
   "execution_count": null,
   "metadata": {
    "collapsed": true,
    "jupyter": {
     "outputs_hidden": true,
     "source_hidden": true
    }
   },
   "outputs": [],
   "source": [
    "mylambda_2 = ((6*epsilon_c**2 - 4*epsilon_c*2/1000 + (2/1000)**2)/(4*epsilon_c*(3*epsilon_c-2/1000)))\n",
    "mylambda_2"
   ]
  },
  {
   "cell_type": "markdown",
   "metadata": {},
   "source": [
    "Ci si trova effettivamente in campo 2a.\n",
    "$$\n",
    "\\varepsilon'_s = \\varepsilon_{su} \\,\\dfrac{\\xi\\,d - d''}{d\\,(1-\\xi)} = 0.165316\\% < \\varepsilon'_{se}\n",
    "$$\n",
    "$$\n",
    "\\dfrac{\\varepsilon_{su} + \\varepsilon_c}{d} = \\dfrac{\\varepsilon_{su}}{d(1-\\xi)}\n",
    "$$\n",
    "da cui\n",
    "$$\n",
    "\\varepsilon_c = 0.2763\\% > \\varepsilon_{c2} = 0.2\\%\n",
    "$$\n",
    "e perciò si deve ricalcolare $\\psi$ e $\\lambda$ con\n",
    "$$\n",
    "\\psi = 1 - \\dfrac{1}{3}\\,\\dfrac{\\varepsilon_{c2}}{\\varepsilon_{c}} = 1 - \\dfrac{1}{3}\\,\\dfrac{\\varepsilon_{c2}}{\\varepsilon_{su}}\\,\\dfrac{1-\\xi}{\\xi} = 1 - \\dfrac{1}{3}\\,\\dfrac{2}{10}\\cdot\\dfrac{1-\\xi}{\\xi} = \\frac{16 \\xi - 1}{15 \\xi} = 0.758714991993199\n",
    "$$\n",
    "$$\n",
    "\\lambda = \\dfrac{6\\varepsilon_c^2 - 4\\varepsilon_c\\,\\varepsilon_{c2} + \\varepsilon_{c2}^2}{4\\varepsilon_c\\,(3\\varepsilon_c - \\varepsilon_{c2}} =0.39854073861841\n",
    "$$"
   ]
  },
  {
   "cell_type": "code",
   "execution_count": null,
   "metadata": {
    "collapsed": true,
    "jupyter": {
     "outputs_hidden": true,
     "source_hidden": true
    }
   },
   "outputs": [],
   "source": [
    "MRd_N2 = -b*psi*xi*d*fcd*(mylambda*xi*d-d2) + As*fyd*(d-d2)\n",
    "MRd_N2 = round(MRd_N2.subs({b:300, psi:psi_2, xi:xi2, d:d_sol1, fcd:14.17, mylambda:mylambda_2, d2:40, As:As_sol1, fyd:391.3}),4)\n",
    "MRd_N2/10**6"
   ]
  },
  {
   "cell_type": "code",
   "execution_count": null,
   "metadata": {
    "collapsed": true,
    "jupyter": {
     "outputs_hidden": true,
     "source_hidden": true
    }
   },
   "outputs": [],
   "source": [
    "MRd_N2 > MEd_N2"
   ]
  },
  {
   "cell_type": "markdown",
   "metadata": {},
   "source": [
    "### La sezione N2 è verificata!\n",
    "---"
   ]
  },
  {
   "cell_type": "code",
   "execution_count": null,
   "metadata": {
    "collapsed": true,
    "jupyter": {
     "outputs_hidden": true,
     "source_hidden": true
    }
   },
   "outputs": [],
   "source": []
  }
 ],
 "metadata": {
  "kernelspec": {
   "display_name": "Python 3",
   "language": "python",
   "name": "python3"
  },
  "language_info": {
   "codemirror_mode": {
    "name": "ipython",
    "version": 3
   },
   "file_extension": ".py",
   "mimetype": "text/x-python",
   "name": "python",
   "nbconvert_exporter": "python",
   "pygments_lexer": "ipython3",
   "version": "3.7.3"
  }
 },
 "nbformat": 4,
 "nbformat_minor": 4
}
