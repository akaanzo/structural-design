{
 "cells": [
  {
   "cell_type": "code",
   "execution_count": 1,
   "metadata": {},
   "outputs": [],
   "source": [
    "#import plotly.graph_objects as go\n",
    "from plotly import graph_objects as go\n",
    "import plotly.express as px\n",
    "import matplotlib.pyplot as plt\n",
    "import numpy as np\n",
    "from sklearn import datasets\n",
    "import sympy as sym\n",
    "from sympy import symbols\n",
    "import pandas as pd"
   ]
  },
  {
   "cell_type": "code",
   "execution_count": 2,
   "metadata": {},
   "outputs": [
    {
     "data": {
      "text/html": [
       "<div>\n",
       "<style scoped>\n",
       "    .dataframe tbody tr th:only-of-type {\n",
       "        vertical-align: middle;\n",
       "    }\n",
       "\n",
       "    .dataframe tbody tr th {\n",
       "        vertical-align: top;\n",
       "    }\n",
       "\n",
       "    .dataframe thead th {\n",
       "        text-align: right;\n",
       "    }\n",
       "</style>\n",
       "<table border=\"1\" class=\"dataframe\">\n",
       "  <thead>\n",
       "    <tr style=\"text-align: right;\">\n",
       "      <th></th>\n",
       "      <th>Section</th>\n",
       "      <th>MEd+ [kN m]</th>\n",
       "      <th>smax [m]</th>\n",
       "      <th>MEd- [kN m]</th>\n",
       "      <th>smin [m]</th>\n",
       "    </tr>\n",
       "  </thead>\n",
       "  <tbody>\n",
       "    <tr>\n",
       "      <th>0</th>\n",
       "      <td>C1</td>\n",
       "      <td>95.189448</td>\n",
       "      <td>1.26</td>\n",
       "      <td>NaN</td>\n",
       "      <td>NaN</td>\n",
       "    </tr>\n",
       "    <tr>\n",
       "      <th>1</th>\n",
       "      <td>N2</td>\n",
       "      <td>NaN</td>\n",
       "      <td>NaN</td>\n",
       "      <td>-199.249367</td>\n",
       "      <td>3.00</td>\n",
       "    </tr>\n",
       "    <tr>\n",
       "      <th>2</th>\n",
       "      <td>C2</td>\n",
       "      <td>156.565614</td>\n",
       "      <td>5.32</td>\n",
       "      <td>0.000000</td>\n",
       "      <td>NaN</td>\n",
       "    </tr>\n",
       "    <tr>\n",
       "      <th>3</th>\n",
       "      <td>N3</td>\n",
       "      <td>NaN</td>\n",
       "      <td>NaN</td>\n",
       "      <td>-216.792778</td>\n",
       "      <td>7.50</td>\n",
       "    </tr>\n",
       "    <tr>\n",
       "      <th>4</th>\n",
       "      <td>C3</td>\n",
       "      <td>124.347537</td>\n",
       "      <td>9.55</td>\n",
       "      <td>-39.690612</td>\n",
       "      <td>9.47</td>\n",
       "    </tr>\n",
       "    <tr>\n",
       "      <th>5</th>\n",
       "      <td>N4</td>\n",
       "      <td>NaN</td>\n",
       "      <td>NaN</td>\n",
       "      <td>-210.348968</td>\n",
       "      <td>11.50</td>\n",
       "    </tr>\n",
       "    <tr>\n",
       "      <th>6</th>\n",
       "      <td>C4</td>\n",
       "      <td>151.829401</td>\n",
       "      <td>13.96</td>\n",
       "      <td>-6.190556</td>\n",
       "      <td>13.74</td>\n",
       "    </tr>\n",
       "    <tr>\n",
       "      <th>7</th>\n",
       "      <td>N5</td>\n",
       "      <td>NaN</td>\n",
       "      <td>NaN</td>\n",
       "      <td>-236.629193</td>\n",
       "      <td>16.50</td>\n",
       "    </tr>\n",
       "    <tr>\n",
       "      <th>8</th>\n",
       "      <td>C5</td>\n",
       "      <td>144.511198</td>\n",
       "      <td>19.56</td>\n",
       "      <td>0.000000</td>\n",
       "      <td>NaN</td>\n",
       "    </tr>\n",
       "    <tr>\n",
       "      <th>9</th>\n",
       "      <td>N6</td>\n",
       "      <td>NaN</td>\n",
       "      <td>NaN</td>\n",
       "      <td>-187.959174</td>\n",
       "      <td>22.65</td>\n",
       "    </tr>\n",
       "    <tr>\n",
       "      <th>10</th>\n",
       "      <td>C6</td>\n",
       "      <td>87.580801</td>\n",
       "      <td>25.00</td>\n",
       "      <td>NaN</td>\n",
       "      <td>NaN</td>\n",
       "    </tr>\n",
       "  </tbody>\n",
       "</table>\n",
       "</div>"
      ],
      "text/plain": [
       "   Section  MEd+ [kN m]  smax [m]  MEd- [kN m]  smin [m]\n",
       "0       C1    95.189448      1.26          NaN       NaN\n",
       "1       N2          NaN       NaN  -199.249367      3.00\n",
       "2       C2   156.565614      5.32     0.000000       NaN\n",
       "3       N3          NaN       NaN  -216.792778      7.50\n",
       "4       C3   124.347537      9.55   -39.690612      9.47\n",
       "5       N4          NaN       NaN  -210.348968     11.50\n",
       "6       C4   151.829401     13.96    -6.190556     13.74\n",
       "7       N5          NaN       NaN  -236.629193     16.50\n",
       "8       C5   144.511198     19.56     0.000000       NaN\n",
       "9       N6          NaN       NaN  -187.959174     22.65\n",
       "10      C6    87.580801     25.00          NaN       NaN"
      ]
     },
     "execution_count": 2,
     "metadata": {},
     "output_type": "execute_result"
    }
   ],
   "source": [
    "#%store -r Mmax\n",
    "#%store -r Mmin \n",
    "#%store -r MEd_slu\n",
    "#MEd_slu \n",
    "\n",
    "# Mmax = np.loadtxt('/home/matteo/ownCloud/UNITN/Tecnica-delle-Costruzioni/Esercitazione/TdC/export/var/Mmax.txt') #Linux\n",
    "Mmax = np.loadtxt('C:\\\\Users\\\\anzo5\\\\ownCloud\\\\UNITN\\\\Tecnica-delle-Costruzioni\\\\Esercitazione\\\\TdC\\\\export\\\\var\\\\Mmax.txt') #Windows\n",
    "# Mmin = np.loadtxt('/home/matteo/ownCloud/UNITN/Tecnica-delle-Costruzioni/Esercitazione/TdC/export/var/Mmin.txt') #Linux\n",
    "Mmin = np.loadtxt('C:\\\\Users\\\\anzo5\\\\ownCloud\\\\UNITN\\\\Tecnica-delle-Costruzioni\\\\Esercitazione\\\\TdC\\\\export\\\\var\\\\Mmin.txt')#Windows\n",
    "# MEd_slu = pd.read_csv('/home/matteo/ownCloud/UNITN/Tecnica-delle-Costruzioni/Esercitazione/TdC/export/var/MEd_slu.csv') #Linux\n",
    "MEd_slu = pd.read_csv('C:\\\\Users\\\\anzo5\\\\ownCloud\\\\UNITN\\\\Tecnica-delle-Costruzioni\\\\Esercitazione\\\\TdC\\\\export\\\\var\\\\MEd_slu.csv')#Windows\n",
    "# MEd_slu.to_latex('MEd_slu.tex')\n",
    "MEd_slu"
   ]
  },
  {
   "cell_type": "code",
   "execution_count": 3,
   "metadata": {},
   "outputs": [
    {
     "data": {
      "text/plain": [
       "array([ 1.26,  3.  ,  5.32,  7.5 ,  9.55,  9.55, 11.5 , 13.96, 13.96,\n",
       "       16.5 , 19.56, 22.65, 25.  ,   nan,   nan,   nan,   nan,   nan,\n",
       "         nan,   nan,   nan, 26.65,   nan])"
      ]
     },
     "execution_count": 3,
     "metadata": {},
     "output_type": "execute_result"
    }
   ],
   "source": [
    "smax = MEd_slu[['smax [m]']].to_numpy()\n",
    "smin = MEd_slu[['smin [m]']].to_numpy()\n",
    "\n",
    "smaxmin = np.sort((np.concatenate((smax, smin))).reshape(-1))\n",
    "smaxmin = np.insert(smaxmin, -1, 26.65)\n",
    "\n",
    "#ss is for plot\n",
    "ss=smaxmin\n",
    "for i in range (0, len(ss)-1):\n",
    "    if ss[i+1] - ss[i] < 0.5:\n",
    "        ss[i] = ss[i+1]\n",
    "        \n",
    "ss"
   ]
  },
  {
   "cell_type": "code",
   "execution_count": 5,
   "metadata": {},
   "outputs": [
    {
     "ename": "NoSuchProcess",
     "evalue": "psutil.NoSuchProcess no process found with pid 28084",
     "output_type": "error",
     "traceback": [
      "\u001b[1;31m---------------------------------------------------------------------------\u001b[0m",
      "\u001b[1;31mConnectionRefusedError\u001b[0m                    Traceback (most recent call last)",
      "\u001b[1;32mc:\\python38\\lib\\site-packages\\urllib3\\connection.py\u001b[0m in \u001b[0;36m_new_conn\u001b[1;34m(self)\u001b[0m\n\u001b[0;32m    158\u001b[0m         \u001b[1;32mtry\u001b[0m\u001b[1;33m:\u001b[0m\u001b[1;33m\u001b[0m\u001b[1;33m\u001b[0m\u001b[0m\n\u001b[1;32m--> 159\u001b[1;33m             conn = connection.create_connection(\n\u001b[0m\u001b[0;32m    160\u001b[0m                 \u001b[1;33m(\u001b[0m\u001b[0mself\u001b[0m\u001b[1;33m.\u001b[0m\u001b[0m_dns_host\u001b[0m\u001b[1;33m,\u001b[0m \u001b[0mself\u001b[0m\u001b[1;33m.\u001b[0m\u001b[0mport\u001b[0m\u001b[1;33m)\u001b[0m\u001b[1;33m,\u001b[0m \u001b[0mself\u001b[0m\u001b[1;33m.\u001b[0m\u001b[0mtimeout\u001b[0m\u001b[1;33m,\u001b[0m \u001b[1;33m**\u001b[0m\u001b[0mextra_kw\u001b[0m\u001b[1;33m\u001b[0m\u001b[1;33m\u001b[0m\u001b[0m\n",
      "\u001b[1;32mc:\\python38\\lib\\site-packages\\urllib3\\util\\connection.py\u001b[0m in \u001b[0;36mcreate_connection\u001b[1;34m(address, timeout, source_address, socket_options)\u001b[0m\n\u001b[0;32m     83\u001b[0m     \u001b[1;32mif\u001b[0m \u001b[0merr\u001b[0m \u001b[1;32mis\u001b[0m \u001b[1;32mnot\u001b[0m \u001b[1;32mNone\u001b[0m\u001b[1;33m:\u001b[0m\u001b[1;33m\u001b[0m\u001b[1;33m\u001b[0m\u001b[0m\n\u001b[1;32m---> 84\u001b[1;33m         \u001b[1;32mraise\u001b[0m \u001b[0merr\u001b[0m\u001b[1;33m\u001b[0m\u001b[1;33m\u001b[0m\u001b[0m\n\u001b[0m\u001b[0;32m     85\u001b[0m \u001b[1;33m\u001b[0m\u001b[0m\n",
      "\u001b[1;32mc:\\python38\\lib\\site-packages\\urllib3\\util\\connection.py\u001b[0m in \u001b[0;36mcreate_connection\u001b[1;34m(address, timeout, source_address, socket_options)\u001b[0m\n\u001b[0;32m     73\u001b[0m                 \u001b[0msock\u001b[0m\u001b[1;33m.\u001b[0m\u001b[0mbind\u001b[0m\u001b[1;33m(\u001b[0m\u001b[0msource_address\u001b[0m\u001b[1;33m)\u001b[0m\u001b[1;33m\u001b[0m\u001b[1;33m\u001b[0m\u001b[0m\n\u001b[1;32m---> 74\u001b[1;33m             \u001b[0msock\u001b[0m\u001b[1;33m.\u001b[0m\u001b[0mconnect\u001b[0m\u001b[1;33m(\u001b[0m\u001b[0msa\u001b[0m\u001b[1;33m)\u001b[0m\u001b[1;33m\u001b[0m\u001b[1;33m\u001b[0m\u001b[0m\n\u001b[0m\u001b[0;32m     75\u001b[0m             \u001b[1;32mreturn\u001b[0m \u001b[0msock\u001b[0m\u001b[1;33m\u001b[0m\u001b[1;33m\u001b[0m\u001b[0m\n",
      "\u001b[1;31mConnectionRefusedError\u001b[0m: [WinError 10061] Impossibile stabilire la connessione. Rifiuto persistente del computer di destinazione",
      "\nDuring handling of the above exception, another exception occurred:\n",
      "\u001b[1;31mNewConnectionError\u001b[0m                        Traceback (most recent call last)",
      "\u001b[1;32mc:\\python38\\lib\\site-packages\\urllib3\\connectionpool.py\u001b[0m in \u001b[0;36murlopen\u001b[1;34m(self, method, url, body, headers, retries, redirect, assert_same_host, timeout, pool_timeout, release_conn, chunked, body_pos, **response_kw)\u001b[0m\n\u001b[0;32m    669\u001b[0m             \u001b[1;31m# Make the request on the httplib connection object.\u001b[0m\u001b[1;33m\u001b[0m\u001b[1;33m\u001b[0m\u001b[1;33m\u001b[0m\u001b[0m\n\u001b[1;32m--> 670\u001b[1;33m             httplib_response = self._make_request(\n\u001b[0m\u001b[0;32m    671\u001b[0m                 \u001b[0mconn\u001b[0m\u001b[1;33m,\u001b[0m\u001b[1;33m\u001b[0m\u001b[1;33m\u001b[0m\u001b[0m\n",
      "\u001b[1;32mc:\\python38\\lib\\site-packages\\urllib3\\connectionpool.py\u001b[0m in \u001b[0;36m_make_request\u001b[1;34m(self, conn, method, url, timeout, chunked, **httplib_request_kw)\u001b[0m\n\u001b[0;32m    391\u001b[0m         \u001b[1;32melse\u001b[0m\u001b[1;33m:\u001b[0m\u001b[1;33m\u001b[0m\u001b[1;33m\u001b[0m\u001b[0m\n\u001b[1;32m--> 392\u001b[1;33m             \u001b[0mconn\u001b[0m\u001b[1;33m.\u001b[0m\u001b[0mrequest\u001b[0m\u001b[1;33m(\u001b[0m\u001b[0mmethod\u001b[0m\u001b[1;33m,\u001b[0m \u001b[0murl\u001b[0m\u001b[1;33m,\u001b[0m \u001b[1;33m**\u001b[0m\u001b[0mhttplib_request_kw\u001b[0m\u001b[1;33m)\u001b[0m\u001b[1;33m\u001b[0m\u001b[1;33m\u001b[0m\u001b[0m\n\u001b[0m\u001b[0;32m    393\u001b[0m \u001b[1;33m\u001b[0m\u001b[0m\n",
      "\u001b[1;32mc:\\python38\\lib\\http\\client.py\u001b[0m in \u001b[0;36mrequest\u001b[1;34m(self, method, url, body, headers, encode_chunked)\u001b[0m\n\u001b[0;32m   1239\u001b[0m         \u001b[1;34m\"\"\"Send a complete request to the server.\"\"\"\u001b[0m\u001b[1;33m\u001b[0m\u001b[1;33m\u001b[0m\u001b[0m\n\u001b[1;32m-> 1240\u001b[1;33m         \u001b[0mself\u001b[0m\u001b[1;33m.\u001b[0m\u001b[0m_send_request\u001b[0m\u001b[1;33m(\u001b[0m\u001b[0mmethod\u001b[0m\u001b[1;33m,\u001b[0m \u001b[0murl\u001b[0m\u001b[1;33m,\u001b[0m \u001b[0mbody\u001b[0m\u001b[1;33m,\u001b[0m \u001b[0mheaders\u001b[0m\u001b[1;33m,\u001b[0m \u001b[0mencode_chunked\u001b[0m\u001b[1;33m)\u001b[0m\u001b[1;33m\u001b[0m\u001b[1;33m\u001b[0m\u001b[0m\n\u001b[0m\u001b[0;32m   1241\u001b[0m \u001b[1;33m\u001b[0m\u001b[0m\n",
      "\u001b[1;32mc:\\python38\\lib\\http\\client.py\u001b[0m in \u001b[0;36m_send_request\u001b[1;34m(self, method, url, body, headers, encode_chunked)\u001b[0m\n\u001b[0;32m   1285\u001b[0m             \u001b[0mbody\u001b[0m \u001b[1;33m=\u001b[0m \u001b[0m_encode\u001b[0m\u001b[1;33m(\u001b[0m\u001b[0mbody\u001b[0m\u001b[1;33m,\u001b[0m \u001b[1;34m'body'\u001b[0m\u001b[1;33m)\u001b[0m\u001b[1;33m\u001b[0m\u001b[1;33m\u001b[0m\u001b[0m\n\u001b[1;32m-> 1286\u001b[1;33m         \u001b[0mself\u001b[0m\u001b[1;33m.\u001b[0m\u001b[0mendheaders\u001b[0m\u001b[1;33m(\u001b[0m\u001b[0mbody\u001b[0m\u001b[1;33m,\u001b[0m \u001b[0mencode_chunked\u001b[0m\u001b[1;33m=\u001b[0m\u001b[0mencode_chunked\u001b[0m\u001b[1;33m)\u001b[0m\u001b[1;33m\u001b[0m\u001b[1;33m\u001b[0m\u001b[0m\n\u001b[0m\u001b[0;32m   1287\u001b[0m \u001b[1;33m\u001b[0m\u001b[0m\n",
      "\u001b[1;32mc:\\python38\\lib\\http\\client.py\u001b[0m in \u001b[0;36mendheaders\u001b[1;34m(self, message_body, encode_chunked)\u001b[0m\n\u001b[0;32m   1234\u001b[0m             \u001b[1;32mraise\u001b[0m \u001b[0mCannotSendHeader\u001b[0m\u001b[1;33m(\u001b[0m\u001b[1;33m)\u001b[0m\u001b[1;33m\u001b[0m\u001b[1;33m\u001b[0m\u001b[0m\n\u001b[1;32m-> 1235\u001b[1;33m         \u001b[0mself\u001b[0m\u001b[1;33m.\u001b[0m\u001b[0m_send_output\u001b[0m\u001b[1;33m(\u001b[0m\u001b[0mmessage_body\u001b[0m\u001b[1;33m,\u001b[0m \u001b[0mencode_chunked\u001b[0m\u001b[1;33m=\u001b[0m\u001b[0mencode_chunked\u001b[0m\u001b[1;33m)\u001b[0m\u001b[1;33m\u001b[0m\u001b[1;33m\u001b[0m\u001b[0m\n\u001b[0m\u001b[0;32m   1236\u001b[0m \u001b[1;33m\u001b[0m\u001b[0m\n",
      "\u001b[1;32mc:\\python38\\lib\\http\\client.py\u001b[0m in \u001b[0;36m_send_output\u001b[1;34m(self, message_body, encode_chunked)\u001b[0m\n\u001b[0;32m   1005\u001b[0m         \u001b[1;32mdel\u001b[0m \u001b[0mself\u001b[0m\u001b[1;33m.\u001b[0m\u001b[0m_buffer\u001b[0m\u001b[1;33m[\u001b[0m\u001b[1;33m:\u001b[0m\u001b[1;33m]\u001b[0m\u001b[1;33m\u001b[0m\u001b[1;33m\u001b[0m\u001b[0m\n\u001b[1;32m-> 1006\u001b[1;33m         \u001b[0mself\u001b[0m\u001b[1;33m.\u001b[0m\u001b[0msend\u001b[0m\u001b[1;33m(\u001b[0m\u001b[0mmsg\u001b[0m\u001b[1;33m)\u001b[0m\u001b[1;33m\u001b[0m\u001b[1;33m\u001b[0m\u001b[0m\n\u001b[0m\u001b[0;32m   1007\u001b[0m \u001b[1;33m\u001b[0m\u001b[0m\n",
      "\u001b[1;32mc:\\python38\\lib\\http\\client.py\u001b[0m in \u001b[0;36msend\u001b[1;34m(self, data)\u001b[0m\n\u001b[0;32m    945\u001b[0m             \u001b[1;32mif\u001b[0m \u001b[0mself\u001b[0m\u001b[1;33m.\u001b[0m\u001b[0mauto_open\u001b[0m\u001b[1;33m:\u001b[0m\u001b[1;33m\u001b[0m\u001b[1;33m\u001b[0m\u001b[0m\n\u001b[1;32m--> 946\u001b[1;33m                 \u001b[0mself\u001b[0m\u001b[1;33m.\u001b[0m\u001b[0mconnect\u001b[0m\u001b[1;33m(\u001b[0m\u001b[1;33m)\u001b[0m\u001b[1;33m\u001b[0m\u001b[1;33m\u001b[0m\u001b[0m\n\u001b[0m\u001b[0;32m    947\u001b[0m             \u001b[1;32melse\u001b[0m\u001b[1;33m:\u001b[0m\u001b[1;33m\u001b[0m\u001b[1;33m\u001b[0m\u001b[0m\n",
      "\u001b[1;32mc:\\python38\\lib\\site-packages\\urllib3\\connection.py\u001b[0m in \u001b[0;36mconnect\u001b[1;34m(self)\u001b[0m\n\u001b[0;32m    186\u001b[0m     \u001b[1;32mdef\u001b[0m \u001b[0mconnect\u001b[0m\u001b[1;33m(\u001b[0m\u001b[0mself\u001b[0m\u001b[1;33m)\u001b[0m\u001b[1;33m:\u001b[0m\u001b[1;33m\u001b[0m\u001b[1;33m\u001b[0m\u001b[0m\n\u001b[1;32m--> 187\u001b[1;33m         \u001b[0mconn\u001b[0m \u001b[1;33m=\u001b[0m \u001b[0mself\u001b[0m\u001b[1;33m.\u001b[0m\u001b[0m_new_conn\u001b[0m\u001b[1;33m(\u001b[0m\u001b[1;33m)\u001b[0m\u001b[1;33m\u001b[0m\u001b[1;33m\u001b[0m\u001b[0m\n\u001b[0m\u001b[0;32m    188\u001b[0m         \u001b[0mself\u001b[0m\u001b[1;33m.\u001b[0m\u001b[0m_prepare_conn\u001b[0m\u001b[1;33m(\u001b[0m\u001b[0mconn\u001b[0m\u001b[1;33m)\u001b[0m\u001b[1;33m\u001b[0m\u001b[1;33m\u001b[0m\u001b[0m\n",
      "\u001b[1;32mc:\\python38\\lib\\site-packages\\urllib3\\connection.py\u001b[0m in \u001b[0;36m_new_conn\u001b[1;34m(self)\u001b[0m\n\u001b[0;32m    170\u001b[0m         \u001b[1;32mexcept\u001b[0m \u001b[0mSocketError\u001b[0m \u001b[1;32mas\u001b[0m \u001b[0me\u001b[0m\u001b[1;33m:\u001b[0m\u001b[1;33m\u001b[0m\u001b[1;33m\u001b[0m\u001b[0m\n\u001b[1;32m--> 171\u001b[1;33m             raise NewConnectionError(\n\u001b[0m\u001b[0;32m    172\u001b[0m                 \u001b[0mself\u001b[0m\u001b[1;33m,\u001b[0m \u001b[1;34m\"Failed to establish a new connection: %s\"\u001b[0m \u001b[1;33m%\u001b[0m \u001b[0me\u001b[0m\u001b[1;33m\u001b[0m\u001b[1;33m\u001b[0m\u001b[0m\n",
      "\u001b[1;31mNewConnectionError\u001b[0m: <urllib3.connection.HTTPConnection object at 0x0000022517B54DC0>: Failed to establish a new connection: [WinError 10061] Impossibile stabilire la connessione. Rifiuto persistente del computer di destinazione",
      "\nDuring handling of the above exception, another exception occurred:\n",
      "\u001b[1;31mMaxRetryError\u001b[0m                             Traceback (most recent call last)",
      "\u001b[1;32mc:\\python38\\lib\\site-packages\\requests\\adapters.py\u001b[0m in \u001b[0;36msend\u001b[1;34m(self, request, stream, timeout, verify, cert, proxies)\u001b[0m\n\u001b[0;32m    438\u001b[0m             \u001b[1;32mif\u001b[0m \u001b[1;32mnot\u001b[0m \u001b[0mchunked\u001b[0m\u001b[1;33m:\u001b[0m\u001b[1;33m\u001b[0m\u001b[1;33m\u001b[0m\u001b[0m\n\u001b[1;32m--> 439\u001b[1;33m                 resp = conn.urlopen(\n\u001b[0m\u001b[0;32m    440\u001b[0m                     \u001b[0mmethod\u001b[0m\u001b[1;33m=\u001b[0m\u001b[0mrequest\u001b[0m\u001b[1;33m.\u001b[0m\u001b[0mmethod\u001b[0m\u001b[1;33m,\u001b[0m\u001b[1;33m\u001b[0m\u001b[1;33m\u001b[0m\u001b[0m\n",
      "\u001b[1;32mc:\\python38\\lib\\site-packages\\urllib3\\connectionpool.py\u001b[0m in \u001b[0;36murlopen\u001b[1;34m(self, method, url, body, headers, retries, redirect, assert_same_host, timeout, pool_timeout, release_conn, chunked, body_pos, **response_kw)\u001b[0m\n\u001b[0;32m    723\u001b[0m \u001b[1;33m\u001b[0m\u001b[0m\n\u001b[1;32m--> 724\u001b[1;33m             retries = retries.increment(\n\u001b[0m\u001b[0;32m    725\u001b[0m                 \u001b[0mmethod\u001b[0m\u001b[1;33m,\u001b[0m \u001b[0murl\u001b[0m\u001b[1;33m,\u001b[0m \u001b[0merror\u001b[0m\u001b[1;33m=\u001b[0m\u001b[0me\u001b[0m\u001b[1;33m,\u001b[0m \u001b[0m_pool\u001b[0m\u001b[1;33m=\u001b[0m\u001b[0mself\u001b[0m\u001b[1;33m,\u001b[0m \u001b[0m_stacktrace\u001b[0m\u001b[1;33m=\u001b[0m\u001b[0msys\u001b[0m\u001b[1;33m.\u001b[0m\u001b[0mexc_info\u001b[0m\u001b[1;33m(\u001b[0m\u001b[1;33m)\u001b[0m\u001b[1;33m[\u001b[0m\u001b[1;36m2\u001b[0m\u001b[1;33m]\u001b[0m\u001b[1;33m\u001b[0m\u001b[1;33m\u001b[0m\u001b[0m\n",
      "\u001b[1;32mc:\\python38\\lib\\site-packages\\urllib3\\util\\retry.py\u001b[0m in \u001b[0;36mincrement\u001b[1;34m(self, method, url, response, error, _pool, _stacktrace)\u001b[0m\n\u001b[0;32m    438\u001b[0m         \u001b[1;32mif\u001b[0m \u001b[0mnew_retry\u001b[0m\u001b[1;33m.\u001b[0m\u001b[0mis_exhausted\u001b[0m\u001b[1;33m(\u001b[0m\u001b[1;33m)\u001b[0m\u001b[1;33m:\u001b[0m\u001b[1;33m\u001b[0m\u001b[1;33m\u001b[0m\u001b[0m\n\u001b[1;32m--> 439\u001b[1;33m             \u001b[1;32mraise\u001b[0m \u001b[0mMaxRetryError\u001b[0m\u001b[1;33m(\u001b[0m\u001b[0m_pool\u001b[0m\u001b[1;33m,\u001b[0m \u001b[0murl\u001b[0m\u001b[1;33m,\u001b[0m \u001b[0merror\u001b[0m \u001b[1;32mor\u001b[0m \u001b[0mResponseError\u001b[0m\u001b[1;33m(\u001b[0m\u001b[0mcause\u001b[0m\u001b[1;33m)\u001b[0m\u001b[1;33m)\u001b[0m\u001b[1;33m\u001b[0m\u001b[1;33m\u001b[0m\u001b[0m\n\u001b[0m\u001b[0;32m    440\u001b[0m \u001b[1;33m\u001b[0m\u001b[0m\n",
      "\u001b[1;31mMaxRetryError\u001b[0m: HTTPConnectionPool(host='localhost', port=53693): Max retries exceeded with url: / (Caused by NewConnectionError('<urllib3.connection.HTTPConnection object at 0x0000022517B54DC0>: Failed to establish a new connection: [WinError 10061] Impossibile stabilire la connessione. Rifiuto persistente del computer di destinazione'))",
      "\nDuring handling of the above exception, another exception occurred:\n",
      "\u001b[1;31mConnectionError\u001b[0m                           Traceback (most recent call last)",
      "\u001b[1;32mc:\\python38\\lib\\site-packages\\plotly\\io\\_orca.py\u001b[0m in \u001b[0;36mto_image\u001b[1;34m(fig, format, width, height, scale, validate)\u001b[0m\n\u001b[0;32m   1560\u001b[0m     \u001b[1;32mtry\u001b[0m\u001b[1;33m:\u001b[0m\u001b[1;33m\u001b[0m\u001b[1;33m\u001b[0m\u001b[0m\n\u001b[1;32m-> 1561\u001b[1;33m         response = request_image_with_retrying(\n\u001b[0m\u001b[0;32m   1562\u001b[0m             \u001b[0mfigure\u001b[0m\u001b[1;33m=\u001b[0m\u001b[0mfig_dict\u001b[0m\u001b[1;33m,\u001b[0m \u001b[0mformat\u001b[0m\u001b[1;33m=\u001b[0m\u001b[0mformat\u001b[0m\u001b[1;33m,\u001b[0m \u001b[0mscale\u001b[0m\u001b[1;33m=\u001b[0m\u001b[0mscale\u001b[0m\u001b[1;33m,\u001b[0m \u001b[0mwidth\u001b[0m\u001b[1;33m=\u001b[0m\u001b[0mwidth\u001b[0m\u001b[1;33m,\u001b[0m \u001b[0mheight\u001b[0m\u001b[1;33m=\u001b[0m\u001b[0mheight\u001b[0m\u001b[1;33m\u001b[0m\u001b[1;33m\u001b[0m\u001b[0m\n",
      "\u001b[1;32mc:\\python38\\lib\\site-packages\\retrying.py\u001b[0m in \u001b[0;36mwrapped_f\u001b[1;34m(*args, **kw)\u001b[0m\n\u001b[0;32m     48\u001b[0m             \u001b[1;32mdef\u001b[0m \u001b[0mwrapped_f\u001b[0m\u001b[1;33m(\u001b[0m\u001b[1;33m*\u001b[0m\u001b[0margs\u001b[0m\u001b[1;33m,\u001b[0m \u001b[1;33m**\u001b[0m\u001b[0mkw\u001b[0m\u001b[1;33m)\u001b[0m\u001b[1;33m:\u001b[0m\u001b[1;33m\u001b[0m\u001b[1;33m\u001b[0m\u001b[0m\n\u001b[1;32m---> 49\u001b[1;33m                 \u001b[1;32mreturn\u001b[0m \u001b[0mRetrying\u001b[0m\u001b[1;33m(\u001b[0m\u001b[1;33m*\u001b[0m\u001b[0mdargs\u001b[0m\u001b[1;33m,\u001b[0m \u001b[1;33m**\u001b[0m\u001b[0mdkw\u001b[0m\u001b[1;33m)\u001b[0m\u001b[1;33m.\u001b[0m\u001b[0mcall\u001b[0m\u001b[1;33m(\u001b[0m\u001b[0mf\u001b[0m\u001b[1;33m,\u001b[0m \u001b[1;33m*\u001b[0m\u001b[0margs\u001b[0m\u001b[1;33m,\u001b[0m \u001b[1;33m**\u001b[0m\u001b[0mkw\u001b[0m\u001b[1;33m)\u001b[0m\u001b[1;33m\u001b[0m\u001b[1;33m\u001b[0m\u001b[0m\n\u001b[0m\u001b[0;32m     50\u001b[0m \u001b[1;33m\u001b[0m\u001b[0m\n",
      "\u001b[1;32mc:\\python38\\lib\\site-packages\\retrying.py\u001b[0m in \u001b[0;36mcall\u001b[1;34m(self, fn, *args, **kwargs)\u001b[0m\n\u001b[0;32m    211\u001b[0m                     \u001b[1;31m# get() on an attempt with an exception should cause it to be raised, but raise just in case\u001b[0m\u001b[1;33m\u001b[0m\u001b[1;33m\u001b[0m\u001b[1;33m\u001b[0m\u001b[0m\n\u001b[1;32m--> 212\u001b[1;33m                     \u001b[1;32mraise\u001b[0m \u001b[0mattempt\u001b[0m\u001b[1;33m.\u001b[0m\u001b[0mget\u001b[0m\u001b[1;33m(\u001b[0m\u001b[1;33m)\u001b[0m\u001b[1;33m\u001b[0m\u001b[1;33m\u001b[0m\u001b[0m\n\u001b[0m\u001b[0;32m    213\u001b[0m                 \u001b[1;32melse\u001b[0m\u001b[1;33m:\u001b[0m\u001b[1;33m\u001b[0m\u001b[1;33m\u001b[0m\u001b[0m\n",
      "\u001b[1;32mc:\\python38\\lib\\site-packages\\retrying.py\u001b[0m in \u001b[0;36mget\u001b[1;34m(self, wrap_exception)\u001b[0m\n\u001b[0;32m    246\u001b[0m             \u001b[1;32melse\u001b[0m\u001b[1;33m:\u001b[0m\u001b[1;33m\u001b[0m\u001b[1;33m\u001b[0m\u001b[0m\n\u001b[1;32m--> 247\u001b[1;33m                 \u001b[0msix\u001b[0m\u001b[1;33m.\u001b[0m\u001b[0mreraise\u001b[0m\u001b[1;33m(\u001b[0m\u001b[0mself\u001b[0m\u001b[1;33m.\u001b[0m\u001b[0mvalue\u001b[0m\u001b[1;33m[\u001b[0m\u001b[1;36m0\u001b[0m\u001b[1;33m]\u001b[0m\u001b[1;33m,\u001b[0m \u001b[0mself\u001b[0m\u001b[1;33m.\u001b[0m\u001b[0mvalue\u001b[0m\u001b[1;33m[\u001b[0m\u001b[1;36m1\u001b[0m\u001b[1;33m]\u001b[0m\u001b[1;33m,\u001b[0m \u001b[0mself\u001b[0m\u001b[1;33m.\u001b[0m\u001b[0mvalue\u001b[0m\u001b[1;33m[\u001b[0m\u001b[1;36m2\u001b[0m\u001b[1;33m]\u001b[0m\u001b[1;33m)\u001b[0m\u001b[1;33m\u001b[0m\u001b[1;33m\u001b[0m\u001b[0m\n\u001b[0m\u001b[0;32m    248\u001b[0m         \u001b[1;32melse\u001b[0m\u001b[1;33m:\u001b[0m\u001b[1;33m\u001b[0m\u001b[1;33m\u001b[0m\u001b[0m\n",
      "\u001b[1;32mc:\\python38\\lib\\site-packages\\six.py\u001b[0m in \u001b[0;36mreraise\u001b[1;34m(tp, value, tb)\u001b[0m\n\u001b[0;32m    702\u001b[0m                 \u001b[1;32mraise\u001b[0m \u001b[0mvalue\u001b[0m\u001b[1;33m.\u001b[0m\u001b[0mwith_traceback\u001b[0m\u001b[1;33m(\u001b[0m\u001b[0mtb\u001b[0m\u001b[1;33m)\u001b[0m\u001b[1;33m\u001b[0m\u001b[1;33m\u001b[0m\u001b[0m\n\u001b[1;32m--> 703\u001b[1;33m             \u001b[1;32mraise\u001b[0m \u001b[0mvalue\u001b[0m\u001b[1;33m\u001b[0m\u001b[1;33m\u001b[0m\u001b[0m\n\u001b[0m\u001b[0;32m    704\u001b[0m         \u001b[1;32mfinally\u001b[0m\u001b[1;33m:\u001b[0m\u001b[1;33m\u001b[0m\u001b[1;33m\u001b[0m\u001b[0m\n",
      "\u001b[1;32mc:\\python38\\lib\\site-packages\\retrying.py\u001b[0m in \u001b[0;36mcall\u001b[1;34m(self, fn, *args, **kwargs)\u001b[0m\n\u001b[0;32m    199\u001b[0m             \u001b[1;32mtry\u001b[0m\u001b[1;33m:\u001b[0m\u001b[1;33m\u001b[0m\u001b[1;33m\u001b[0m\u001b[0m\n\u001b[1;32m--> 200\u001b[1;33m                 \u001b[0mattempt\u001b[0m \u001b[1;33m=\u001b[0m \u001b[0mAttempt\u001b[0m\u001b[1;33m(\u001b[0m\u001b[0mfn\u001b[0m\u001b[1;33m(\u001b[0m\u001b[1;33m*\u001b[0m\u001b[0margs\u001b[0m\u001b[1;33m,\u001b[0m \u001b[1;33m**\u001b[0m\u001b[0mkwargs\u001b[0m\u001b[1;33m)\u001b[0m\u001b[1;33m,\u001b[0m \u001b[0mattempt_number\u001b[0m\u001b[1;33m,\u001b[0m \u001b[1;32mFalse\u001b[0m\u001b[1;33m)\u001b[0m\u001b[1;33m\u001b[0m\u001b[1;33m\u001b[0m\u001b[0m\n\u001b[0m\u001b[0;32m    201\u001b[0m             \u001b[1;32mexcept\u001b[0m\u001b[1;33m:\u001b[0m\u001b[1;33m\u001b[0m\u001b[1;33m\u001b[0m\u001b[0m\n",
      "\u001b[1;32mc:\\python38\\lib\\site-packages\\plotly\\io\\_orca.py\u001b[0m in \u001b[0;36mrequest_image_with_retrying\u001b[1;34m(**kwargs)\u001b[0m\n\u001b[0;32m   1470\u001b[0m     \u001b[0mjson_str\u001b[0m \u001b[1;33m=\u001b[0m \u001b[0mjson\u001b[0m\u001b[1;33m.\u001b[0m\u001b[0mdumps\u001b[0m\u001b[1;33m(\u001b[0m\u001b[0mrequest_params\u001b[0m\u001b[1;33m,\u001b[0m \u001b[0mcls\u001b[0m\u001b[1;33m=\u001b[0m\u001b[0m_plotly_utils\u001b[0m\u001b[1;33m.\u001b[0m\u001b[0mutils\u001b[0m\u001b[1;33m.\u001b[0m\u001b[0mPlotlyJSONEncoder\u001b[0m\u001b[1;33m)\u001b[0m\u001b[1;33m\u001b[0m\u001b[1;33m\u001b[0m\u001b[0m\n\u001b[1;32m-> 1471\u001b[1;33m     \u001b[0mresponse\u001b[0m \u001b[1;33m=\u001b[0m \u001b[0mpost\u001b[0m\u001b[1;33m(\u001b[0m\u001b[0mserver_url\u001b[0m \u001b[1;33m+\u001b[0m \u001b[1;34m\"/\"\u001b[0m\u001b[1;33m,\u001b[0m \u001b[0mdata\u001b[0m\u001b[1;33m=\u001b[0m\u001b[0mjson_str\u001b[0m\u001b[1;33m)\u001b[0m\u001b[1;33m\u001b[0m\u001b[1;33m\u001b[0m\u001b[0m\n\u001b[0m\u001b[0;32m   1472\u001b[0m \u001b[1;33m\u001b[0m\u001b[0m\n",
      "\u001b[1;32mc:\\python38\\lib\\site-packages\\requests\\api.py\u001b[0m in \u001b[0;36mpost\u001b[1;34m(url, data, json, **kwargs)\u001b[0m\n\u001b[0;32m    118\u001b[0m \u001b[1;33m\u001b[0m\u001b[0m\n\u001b[1;32m--> 119\u001b[1;33m     \u001b[1;32mreturn\u001b[0m \u001b[0mrequest\u001b[0m\u001b[1;33m(\u001b[0m\u001b[1;34m'post'\u001b[0m\u001b[1;33m,\u001b[0m \u001b[0murl\u001b[0m\u001b[1;33m,\u001b[0m \u001b[0mdata\u001b[0m\u001b[1;33m=\u001b[0m\u001b[0mdata\u001b[0m\u001b[1;33m,\u001b[0m \u001b[0mjson\u001b[0m\u001b[1;33m=\u001b[0m\u001b[0mjson\u001b[0m\u001b[1;33m,\u001b[0m \u001b[1;33m**\u001b[0m\u001b[0mkwargs\u001b[0m\u001b[1;33m)\u001b[0m\u001b[1;33m\u001b[0m\u001b[1;33m\u001b[0m\u001b[0m\n\u001b[0m\u001b[0;32m    120\u001b[0m \u001b[1;33m\u001b[0m\u001b[0m\n",
      "\u001b[1;32mc:\\python38\\lib\\site-packages\\requests\\api.py\u001b[0m in \u001b[0;36mrequest\u001b[1;34m(method, url, **kwargs)\u001b[0m\n\u001b[0;32m     60\u001b[0m     \u001b[1;32mwith\u001b[0m \u001b[0msessions\u001b[0m\u001b[1;33m.\u001b[0m\u001b[0mSession\u001b[0m\u001b[1;33m(\u001b[0m\u001b[1;33m)\u001b[0m \u001b[1;32mas\u001b[0m \u001b[0msession\u001b[0m\u001b[1;33m:\u001b[0m\u001b[1;33m\u001b[0m\u001b[1;33m\u001b[0m\u001b[0m\n\u001b[1;32m---> 61\u001b[1;33m         \u001b[1;32mreturn\u001b[0m \u001b[0msession\u001b[0m\u001b[1;33m.\u001b[0m\u001b[0mrequest\u001b[0m\u001b[1;33m(\u001b[0m\u001b[0mmethod\u001b[0m\u001b[1;33m=\u001b[0m\u001b[0mmethod\u001b[0m\u001b[1;33m,\u001b[0m \u001b[0murl\u001b[0m\u001b[1;33m=\u001b[0m\u001b[0murl\u001b[0m\u001b[1;33m,\u001b[0m \u001b[1;33m**\u001b[0m\u001b[0mkwargs\u001b[0m\u001b[1;33m)\u001b[0m\u001b[1;33m\u001b[0m\u001b[1;33m\u001b[0m\u001b[0m\n\u001b[0m\u001b[0;32m     62\u001b[0m \u001b[1;33m\u001b[0m\u001b[0m\n",
      "\u001b[1;32mc:\\python38\\lib\\site-packages\\requests\\sessions.py\u001b[0m in \u001b[0;36mrequest\u001b[1;34m(self, method, url, params, data, headers, cookies, files, auth, timeout, allow_redirects, proxies, hooks, stream, verify, cert, json)\u001b[0m\n\u001b[0;32m    529\u001b[0m         \u001b[0msend_kwargs\u001b[0m\u001b[1;33m.\u001b[0m\u001b[0mupdate\u001b[0m\u001b[1;33m(\u001b[0m\u001b[0msettings\u001b[0m\u001b[1;33m)\u001b[0m\u001b[1;33m\u001b[0m\u001b[1;33m\u001b[0m\u001b[0m\n\u001b[1;32m--> 530\u001b[1;33m         \u001b[0mresp\u001b[0m \u001b[1;33m=\u001b[0m \u001b[0mself\u001b[0m\u001b[1;33m.\u001b[0m\u001b[0msend\u001b[0m\u001b[1;33m(\u001b[0m\u001b[0mprep\u001b[0m\u001b[1;33m,\u001b[0m \u001b[1;33m**\u001b[0m\u001b[0msend_kwargs\u001b[0m\u001b[1;33m)\u001b[0m\u001b[1;33m\u001b[0m\u001b[1;33m\u001b[0m\u001b[0m\n\u001b[0m\u001b[0;32m    531\u001b[0m \u001b[1;33m\u001b[0m\u001b[0m\n",
      "\u001b[1;32mc:\\python38\\lib\\site-packages\\requests\\sessions.py\u001b[0m in \u001b[0;36msend\u001b[1;34m(self, request, **kwargs)\u001b[0m\n\u001b[0;32m    642\u001b[0m         \u001b[1;31m# Send the request\u001b[0m\u001b[1;33m\u001b[0m\u001b[1;33m\u001b[0m\u001b[1;33m\u001b[0m\u001b[0m\n\u001b[1;32m--> 643\u001b[1;33m         \u001b[0mr\u001b[0m \u001b[1;33m=\u001b[0m \u001b[0madapter\u001b[0m\u001b[1;33m.\u001b[0m\u001b[0msend\u001b[0m\u001b[1;33m(\u001b[0m\u001b[0mrequest\u001b[0m\u001b[1;33m,\u001b[0m \u001b[1;33m**\u001b[0m\u001b[0mkwargs\u001b[0m\u001b[1;33m)\u001b[0m\u001b[1;33m\u001b[0m\u001b[1;33m\u001b[0m\u001b[0m\n\u001b[0m\u001b[0;32m    644\u001b[0m \u001b[1;33m\u001b[0m\u001b[0m\n",
      "\u001b[1;32mc:\\python38\\lib\\site-packages\\requests\\adapters.py\u001b[0m in \u001b[0;36msend\u001b[1;34m(self, request, stream, timeout, verify, cert, proxies)\u001b[0m\n\u001b[0;32m    515\u001b[0m \u001b[1;33m\u001b[0m\u001b[0m\n\u001b[1;32m--> 516\u001b[1;33m             \u001b[1;32mraise\u001b[0m \u001b[0mConnectionError\u001b[0m\u001b[1;33m(\u001b[0m\u001b[0me\u001b[0m\u001b[1;33m,\u001b[0m \u001b[0mrequest\u001b[0m\u001b[1;33m=\u001b[0m\u001b[0mrequest\u001b[0m\u001b[1;33m)\u001b[0m\u001b[1;33m\u001b[0m\u001b[1;33m\u001b[0m\u001b[0m\n\u001b[0m\u001b[0;32m    517\u001b[0m \u001b[1;33m\u001b[0m\u001b[0m\n",
      "\u001b[1;31mConnectionError\u001b[0m: HTTPConnectionPool(host='localhost', port=53693): Max retries exceeded with url: / (Caused by NewConnectionError('<urllib3.connection.HTTPConnection object at 0x0000022517B54DC0>: Failed to establish a new connection: [WinError 10061] Impossibile stabilire la connessione. Rifiuto persistente del computer di destinazione'))",
      "\nDuring handling of the above exception, another exception occurred:\n",
      "\u001b[1;31mProcessLookupError\u001b[0m                        Traceback (most recent call last)",
      "\u001b[1;32mc:\\python38\\lib\\site-packages\\psutil\\_pswindows.py\u001b[0m in \u001b[0;36mwrapper\u001b[1;34m(self, *args, **kwargs)\u001b[0m\n\u001b[0;32m    678\u001b[0m         \u001b[1;32mtry\u001b[0m\u001b[1;33m:\u001b[0m\u001b[1;33m\u001b[0m\u001b[1;33m\u001b[0m\u001b[0m\n\u001b[1;32m--> 679\u001b[1;33m             \u001b[1;32mreturn\u001b[0m \u001b[0mfun\u001b[0m\u001b[1;33m(\u001b[0m\u001b[0mself\u001b[0m\u001b[1;33m,\u001b[0m \u001b[1;33m*\u001b[0m\u001b[0margs\u001b[0m\u001b[1;33m,\u001b[0m \u001b[1;33m**\u001b[0m\u001b[0mkwargs\u001b[0m\u001b[1;33m)\u001b[0m\u001b[1;33m\u001b[0m\u001b[1;33m\u001b[0m\u001b[0m\n\u001b[0m\u001b[0;32m    680\u001b[0m         \u001b[1;32mexcept\u001b[0m \u001b[0mOSError\u001b[0m \u001b[1;32mas\u001b[0m \u001b[0merr\u001b[0m\u001b[1;33m:\u001b[0m\u001b[1;33m\u001b[0m\u001b[1;33m\u001b[0m\u001b[0m\n",
      "\u001b[1;32mc:\\python38\\lib\\site-packages\\psutil\\_pswindows.py\u001b[0m in \u001b[0;36mcreate_time\u001b[1;34m(self)\u001b[0m\n\u001b[0;32m    932\u001b[0m         \u001b[1;32mtry\u001b[0m\u001b[1;33m:\u001b[0m\u001b[1;33m\u001b[0m\u001b[1;33m\u001b[0m\u001b[0m\n\u001b[1;32m--> 933\u001b[1;33m             \u001b[0muser\u001b[0m\u001b[1;33m,\u001b[0m \u001b[0msystem\u001b[0m\u001b[1;33m,\u001b[0m \u001b[0mcreated\u001b[0m \u001b[1;33m=\u001b[0m \u001b[0mcext\u001b[0m\u001b[1;33m.\u001b[0m\u001b[0mproc_times\u001b[0m\u001b[1;33m(\u001b[0m\u001b[0mself\u001b[0m\u001b[1;33m.\u001b[0m\u001b[0mpid\u001b[0m\u001b[1;33m)\u001b[0m\u001b[1;33m\u001b[0m\u001b[1;33m\u001b[0m\u001b[0m\n\u001b[0m\u001b[0;32m    934\u001b[0m             \u001b[1;32mreturn\u001b[0m \u001b[0mcreated\u001b[0m\u001b[1;33m\u001b[0m\u001b[1;33m\u001b[0m\u001b[0m\n",
      "\u001b[1;31mProcessLookupError\u001b[0m: [Errno 3] No such process (originated from GetExitCodeProcess != STILL_ACTIVE)",
      "\nDuring handling of the above exception, another exception occurred:\n",
      "\u001b[1;31mNoSuchProcess\u001b[0m                             Traceback (most recent call last)",
      "\u001b[1;32mc:\\python38\\lib\\site-packages\\psutil\\__init__.py\u001b[0m in \u001b[0;36m_init\u001b[1;34m(self, pid, _ignore_nsp)\u001b[0m\n\u001b[0;32m    372\u001b[0m         \u001b[1;32mtry\u001b[0m\u001b[1;33m:\u001b[0m\u001b[1;33m\u001b[0m\u001b[1;33m\u001b[0m\u001b[0m\n\u001b[1;32m--> 373\u001b[1;33m             \u001b[0mself\u001b[0m\u001b[1;33m.\u001b[0m\u001b[0mcreate_time\u001b[0m\u001b[1;33m(\u001b[0m\u001b[1;33m)\u001b[0m\u001b[1;33m\u001b[0m\u001b[1;33m\u001b[0m\u001b[0m\n\u001b[0m\u001b[0;32m    374\u001b[0m         \u001b[1;32mexcept\u001b[0m \u001b[0mAccessDenied\u001b[0m\u001b[1;33m:\u001b[0m\u001b[1;33m\u001b[0m\u001b[1;33m\u001b[0m\u001b[0m\n",
      "\u001b[1;32mc:\\python38\\lib\\site-packages\\psutil\\__init__.py\u001b[0m in \u001b[0;36mcreate_time\u001b[1;34m(self)\u001b[0m\n\u001b[0;32m    722\u001b[0m         \u001b[1;32mif\u001b[0m \u001b[0mself\u001b[0m\u001b[1;33m.\u001b[0m\u001b[0m_create_time\u001b[0m \u001b[1;32mis\u001b[0m \u001b[1;32mNone\u001b[0m\u001b[1;33m:\u001b[0m\u001b[1;33m\u001b[0m\u001b[1;33m\u001b[0m\u001b[0m\n\u001b[1;32m--> 723\u001b[1;33m             \u001b[0mself\u001b[0m\u001b[1;33m.\u001b[0m\u001b[0m_create_time\u001b[0m \u001b[1;33m=\u001b[0m \u001b[0mself\u001b[0m\u001b[1;33m.\u001b[0m\u001b[0m_proc\u001b[0m\u001b[1;33m.\u001b[0m\u001b[0mcreate_time\u001b[0m\u001b[1;33m(\u001b[0m\u001b[1;33m)\u001b[0m\u001b[1;33m\u001b[0m\u001b[1;33m\u001b[0m\u001b[0m\n\u001b[0m\u001b[0;32m    724\u001b[0m         \u001b[1;32mreturn\u001b[0m \u001b[0mself\u001b[0m\u001b[1;33m.\u001b[0m\u001b[0m_create_time\u001b[0m\u001b[1;33m\u001b[0m\u001b[1;33m\u001b[0m\u001b[0m\n",
      "\u001b[1;32mc:\\python38\\lib\\site-packages\\psutil\\_pswindows.py\u001b[0m in \u001b[0;36mwrapper\u001b[1;34m(self, *args, **kwargs)\u001b[0m\n\u001b[0;32m    680\u001b[0m         \u001b[1;32mexcept\u001b[0m \u001b[0mOSError\u001b[0m \u001b[1;32mas\u001b[0m \u001b[0merr\u001b[0m\u001b[1;33m:\u001b[0m\u001b[1;33m\u001b[0m\u001b[1;33m\u001b[0m\u001b[0m\n\u001b[1;32m--> 681\u001b[1;33m             \u001b[1;32mraise\u001b[0m \u001b[0mconvert_oserror\u001b[0m\u001b[1;33m(\u001b[0m\u001b[0merr\u001b[0m\u001b[1;33m,\u001b[0m \u001b[0mpid\u001b[0m\u001b[1;33m=\u001b[0m\u001b[0mself\u001b[0m\u001b[1;33m.\u001b[0m\u001b[0mpid\u001b[0m\u001b[1;33m,\u001b[0m \u001b[0mname\u001b[0m\u001b[1;33m=\u001b[0m\u001b[0mself\u001b[0m\u001b[1;33m.\u001b[0m\u001b[0m_name\u001b[0m\u001b[1;33m)\u001b[0m\u001b[1;33m\u001b[0m\u001b[1;33m\u001b[0m\u001b[0m\n\u001b[0m\u001b[0;32m    682\u001b[0m     \u001b[1;32mreturn\u001b[0m \u001b[0mwrapper\u001b[0m\u001b[1;33m\u001b[0m\u001b[1;33m\u001b[0m\u001b[0m\n",
      "\u001b[1;31mNoSuchProcess\u001b[0m: psutil.NoSuchProcess process no longer exists (pid=28084)",
      "\nDuring handling of the above exception, another exception occurred:\n",
      "\u001b[1;31mNoSuchProcess\u001b[0m                             Traceback (most recent call last)",
      "\u001b[1;32m<ipython-input-5-0a9ee49db18a>\u001b[0m in \u001b[0;36m<module>\u001b[1;34m\u001b[0m\n\u001b[0;32m     62\u001b[0m )\n\u001b[0;32m     63\u001b[0m \u001b[1;33m\u001b[0m\u001b[0m\n\u001b[1;32m---> 64\u001b[1;33m \u001b[0mfig\u001b[0m\u001b[1;33m.\u001b[0m\u001b[0mwrite_image\u001b[0m\u001b[1;33m(\u001b[0m\u001b[1;34m\"Esercitazione/TdC/LaTeX/img/bendingMomentEnvelope.eps\"\u001b[0m\u001b[1;33m)\u001b[0m\u001b[1;33m\u001b[0m\u001b[1;33m\u001b[0m\u001b[0m\n\u001b[0m\u001b[0;32m     65\u001b[0m \u001b[1;33m\u001b[0m\u001b[0m\n\u001b[0;32m     66\u001b[0m \u001b[0mfig\u001b[0m\u001b[1;33m.\u001b[0m\u001b[0mupdate_yaxes\u001b[0m\u001b[1;33m(\u001b[0m\u001b[0mautomargin\u001b[0m\u001b[1;33m=\u001b[0m\u001b[1;32mTrue\u001b[0m\u001b[1;33m)\u001b[0m\u001b[1;33m\u001b[0m\u001b[1;33m\u001b[0m\u001b[0m\n",
      "\u001b[1;32mc:\\python38\\lib\\site-packages\\plotly\\basedatatypes.py\u001b[0m in \u001b[0;36mwrite_image\u001b[1;34m(self, *args, **kwargs)\u001b[0m\n\u001b[0;32m   3222\u001b[0m         \u001b[1;32mimport\u001b[0m \u001b[0mplotly\u001b[0m\u001b[1;33m.\u001b[0m\u001b[0mio\u001b[0m \u001b[1;32mas\u001b[0m \u001b[0mpio\u001b[0m\u001b[1;33m\u001b[0m\u001b[1;33m\u001b[0m\u001b[0m\n\u001b[0;32m   3223\u001b[0m \u001b[1;33m\u001b[0m\u001b[0m\n\u001b[1;32m-> 3224\u001b[1;33m         \u001b[1;32mreturn\u001b[0m \u001b[0mpio\u001b[0m\u001b[1;33m.\u001b[0m\u001b[0mwrite_image\u001b[0m\u001b[1;33m(\u001b[0m\u001b[0mself\u001b[0m\u001b[1;33m,\u001b[0m \u001b[1;33m*\u001b[0m\u001b[0margs\u001b[0m\u001b[1;33m,\u001b[0m \u001b[1;33m**\u001b[0m\u001b[0mkwargs\u001b[0m\u001b[1;33m)\u001b[0m\u001b[1;33m\u001b[0m\u001b[1;33m\u001b[0m\u001b[0m\n\u001b[0m\u001b[0;32m   3225\u001b[0m \u001b[1;33m\u001b[0m\u001b[0m\n\u001b[0;32m   3226\u001b[0m     \u001b[1;31m# Static helpers\u001b[0m\u001b[1;33m\u001b[0m\u001b[1;33m\u001b[0m\u001b[1;33m\u001b[0m\u001b[0m\n",
      "\u001b[1;32mc:\\python38\\lib\\site-packages\\plotly\\io\\_orca.py\u001b[0m in \u001b[0;36mwrite_image\u001b[1;34m(fig, file, format, scale, width, height, validate)\u001b[0m\n\u001b[0;32m   1767\u001b[0m     \u001b[1;31m# -------------\u001b[0m\u001b[1;33m\u001b[0m\u001b[1;33m\u001b[0m\u001b[1;33m\u001b[0m\u001b[0m\n\u001b[0;32m   1768\u001b[0m     \u001b[1;31m# Do this first so we don't create a file if image conversion fails\u001b[0m\u001b[1;33m\u001b[0m\u001b[1;33m\u001b[0m\u001b[1;33m\u001b[0m\u001b[0m\n\u001b[1;32m-> 1769\u001b[1;33m     img_data = to_image(\n\u001b[0m\u001b[0;32m   1770\u001b[0m         \u001b[0mfig\u001b[0m\u001b[1;33m,\u001b[0m \u001b[0mformat\u001b[0m\u001b[1;33m=\u001b[0m\u001b[0mformat\u001b[0m\u001b[1;33m,\u001b[0m \u001b[0mscale\u001b[0m\u001b[1;33m=\u001b[0m\u001b[0mscale\u001b[0m\u001b[1;33m,\u001b[0m \u001b[0mwidth\u001b[0m\u001b[1;33m=\u001b[0m\u001b[0mwidth\u001b[0m\u001b[1;33m,\u001b[0m \u001b[0mheight\u001b[0m\u001b[1;33m=\u001b[0m\u001b[0mheight\u001b[0m\u001b[1;33m,\u001b[0m \u001b[0mvalidate\u001b[0m\u001b[1;33m=\u001b[0m\u001b[0mvalidate\u001b[0m\u001b[1;33m\u001b[0m\u001b[1;33m\u001b[0m\u001b[0m\n\u001b[0;32m   1771\u001b[0m     )\n",
      "\u001b[1;32mc:\\python38\\lib\\site-packages\\plotly\\io\\_orca.py\u001b[0m in \u001b[0;36mto_image\u001b[1;34m(fig, format, width, height, scale, validate)\u001b[0m\n\u001b[0;32m   1598\u001b[0m                 \u001b[1;31m# Reset the status so that if the user tries again, we'll try to\u001b[0m\u001b[1;33m\u001b[0m\u001b[1;33m\u001b[0m\u001b[1;33m\u001b[0m\u001b[0m\n\u001b[0;32m   1599\u001b[0m                 \u001b[1;31m# start the server again\u001b[0m\u001b[1;33m\u001b[0m\u001b[1;33m\u001b[0m\u001b[1;33m\u001b[0m\u001b[0m\n\u001b[1;32m-> 1600\u001b[1;33m                 \u001b[0mreset_status\u001b[0m\u001b[1;33m(\u001b[0m\u001b[1;33m)\u001b[0m\u001b[1;33m\u001b[0m\u001b[1;33m\u001b[0m\u001b[0m\n\u001b[0m\u001b[0;32m   1601\u001b[0m                 raise ValueError(\n\u001b[0;32m   1602\u001b[0m                     \"\"\"\n",
      "\u001b[1;32mc:\\python38\\lib\\site-packages\\plotly\\io\\_orca.py\u001b[0m in \u001b[0;36mreset_status\u001b[1;34m()\u001b[0m\n\u001b[0;32m   1271\u001b[0m     \u001b[1;32mNone\u001b[0m\u001b[1;33m\u001b[0m\u001b[1;33m\u001b[0m\u001b[0m\n\u001b[0;32m   1272\u001b[0m     \"\"\"\n\u001b[1;32m-> 1273\u001b[1;33m     \u001b[0mshutdown_server\u001b[0m\u001b[1;33m(\u001b[0m\u001b[1;33m)\u001b[0m\u001b[1;33m\u001b[0m\u001b[1;33m\u001b[0m\u001b[0m\n\u001b[0m\u001b[0;32m   1274\u001b[0m     \u001b[0mstatus\u001b[0m\u001b[1;33m.\u001b[0m\u001b[0m_props\u001b[0m\u001b[1;33m[\u001b[0m\u001b[1;34m\"executable_list\"\u001b[0m\u001b[1;33m]\u001b[0m \u001b[1;33m=\u001b[0m \u001b[1;32mNone\u001b[0m\u001b[1;33m\u001b[0m\u001b[1;33m\u001b[0m\u001b[0m\n\u001b[0;32m   1275\u001b[0m     \u001b[0mstatus\u001b[0m\u001b[1;33m.\u001b[0m\u001b[0m_props\u001b[0m\u001b[1;33m[\u001b[0m\u001b[1;34m\"version\"\u001b[0m\u001b[1;33m]\u001b[0m \u001b[1;33m=\u001b[0m \u001b[1;32mNone\u001b[0m\u001b[1;33m\u001b[0m\u001b[1;33m\u001b[0m\u001b[0m\n",
      "\u001b[1;32mc:\\python38\\lib\\site-packages\\plotly\\io\\_orca.py\u001b[0m in \u001b[0;36mshutdown_server\u001b[1;34m()\u001b[0m\n\u001b[0;32m   1311\u001b[0m                 \u001b[1;31m# OS-specific process management code here.\u001b[0m\u001b[1;33m\u001b[0m\u001b[1;33m\u001b[0m\u001b[1;33m\u001b[0m\u001b[0m\n\u001b[0;32m   1312\u001b[0m \u001b[1;33m\u001b[0m\u001b[0m\n\u001b[1;32m-> 1313\u001b[1;33m                 \u001b[0mparent\u001b[0m \u001b[1;33m=\u001b[0m \u001b[0mpsutil\u001b[0m\u001b[1;33m.\u001b[0m\u001b[0mProcess\u001b[0m\u001b[1;33m(\u001b[0m\u001b[0morca_state\u001b[0m\u001b[1;33m[\u001b[0m\u001b[1;34m\"proc\"\u001b[0m\u001b[1;33m]\u001b[0m\u001b[1;33m.\u001b[0m\u001b[0mpid\u001b[0m\u001b[1;33m)\u001b[0m\u001b[1;33m\u001b[0m\u001b[1;33m\u001b[0m\u001b[0m\n\u001b[0m\u001b[0;32m   1314\u001b[0m                 \u001b[1;32mfor\u001b[0m \u001b[0mchild\u001b[0m \u001b[1;32min\u001b[0m \u001b[0mparent\u001b[0m\u001b[1;33m.\u001b[0m\u001b[0mchildren\u001b[0m\u001b[1;33m(\u001b[0m\u001b[0mrecursive\u001b[0m\u001b[1;33m=\u001b[0m\u001b[1;32mTrue\u001b[0m\u001b[1;33m)\u001b[0m\u001b[1;33m:\u001b[0m\u001b[1;33m\u001b[0m\u001b[1;33m\u001b[0m\u001b[0m\n\u001b[0;32m   1315\u001b[0m                     \u001b[1;32mtry\u001b[0m\u001b[1;33m:\u001b[0m\u001b[1;33m\u001b[0m\u001b[1;33m\u001b[0m\u001b[0m\n",
      "\u001b[1;32mc:\\python38\\lib\\site-packages\\psutil\\__init__.py\u001b[0m in \u001b[0;36m__init__\u001b[1;34m(self, pid)\u001b[0m\n\u001b[0;32m    344\u001b[0m \u001b[1;33m\u001b[0m\u001b[0m\n\u001b[0;32m    345\u001b[0m     \u001b[1;32mdef\u001b[0m \u001b[0m__init__\u001b[0m\u001b[1;33m(\u001b[0m\u001b[0mself\u001b[0m\u001b[1;33m,\u001b[0m \u001b[0mpid\u001b[0m\u001b[1;33m=\u001b[0m\u001b[1;32mNone\u001b[0m\u001b[1;33m)\u001b[0m\u001b[1;33m:\u001b[0m\u001b[1;33m\u001b[0m\u001b[1;33m\u001b[0m\u001b[0m\n\u001b[1;32m--> 346\u001b[1;33m         \u001b[0mself\u001b[0m\u001b[1;33m.\u001b[0m\u001b[0m_init\u001b[0m\u001b[1;33m(\u001b[0m\u001b[0mpid\u001b[0m\u001b[1;33m)\u001b[0m\u001b[1;33m\u001b[0m\u001b[1;33m\u001b[0m\u001b[0m\n\u001b[0m\u001b[0;32m    347\u001b[0m \u001b[1;33m\u001b[0m\u001b[0m\n\u001b[0;32m    348\u001b[0m     \u001b[1;32mdef\u001b[0m \u001b[0m_init\u001b[0m\u001b[1;33m(\u001b[0m\u001b[0mself\u001b[0m\u001b[1;33m,\u001b[0m \u001b[0mpid\u001b[0m\u001b[1;33m,\u001b[0m \u001b[0m_ignore_nsp\u001b[0m\u001b[1;33m=\u001b[0m\u001b[1;32mFalse\u001b[0m\u001b[1;33m)\u001b[0m\u001b[1;33m:\u001b[0m\u001b[1;33m\u001b[0m\u001b[1;33m\u001b[0m\u001b[0m\n",
      "\u001b[1;32mc:\\python38\\lib\\site-packages\\psutil\\__init__.py\u001b[0m in \u001b[0;36m_init\u001b[1;34m(self, pid, _ignore_nsp)\u001b[0m\n\u001b[0;32m    384\u001b[0m             \u001b[1;32mif\u001b[0m \u001b[1;32mnot\u001b[0m \u001b[0m_ignore_nsp\u001b[0m\u001b[1;33m:\u001b[0m\u001b[1;33m\u001b[0m\u001b[1;33m\u001b[0m\u001b[0m\n\u001b[0;32m    385\u001b[0m                 \u001b[0mmsg\u001b[0m \u001b[1;33m=\u001b[0m \u001b[1;34m'no process found with pid %s'\u001b[0m \u001b[1;33m%\u001b[0m \u001b[0mpid\u001b[0m\u001b[1;33m\u001b[0m\u001b[1;33m\u001b[0m\u001b[0m\n\u001b[1;32m--> 386\u001b[1;33m                 \u001b[1;32mraise\u001b[0m \u001b[0mNoSuchProcess\u001b[0m\u001b[1;33m(\u001b[0m\u001b[0mpid\u001b[0m\u001b[1;33m,\u001b[0m \u001b[1;32mNone\u001b[0m\u001b[1;33m,\u001b[0m \u001b[0mmsg\u001b[0m\u001b[1;33m)\u001b[0m\u001b[1;33m\u001b[0m\u001b[1;33m\u001b[0m\u001b[0m\n\u001b[0m\u001b[0;32m    387\u001b[0m             \u001b[1;32melse\u001b[0m\u001b[1;33m:\u001b[0m\u001b[1;33m\u001b[0m\u001b[1;33m\u001b[0m\u001b[0m\n\u001b[0;32m    388\u001b[0m                 \u001b[0mself\u001b[0m\u001b[1;33m.\u001b[0m\u001b[0m_gone\u001b[0m \u001b[1;33m=\u001b[0m \u001b[1;32mTrue\u001b[0m\u001b[1;33m\u001b[0m\u001b[1;33m\u001b[0m\u001b[0m\n",
      "\u001b[1;31mNoSuchProcess\u001b[0m: psutil.NoSuchProcess no process found with pid 28084"
     ]
    }
   ],
   "source": [
    "s = np.arange(0,26.65, .001)\n",
    "\n",
    "MR1t = 50* np.ones(len(s))\n",
    "\n",
    "fig = go.Figure()\n",
    "\n",
    "fig.add_trace(go.Scatter(\n",
    "    x = s,\n",
    "    y = Mmax,\n",
    "    name='M+',\n",
    "    line_color='#000000',\n",
    "    showlegend=False,\n",
    "    line = dict(width=1)\n",
    "))\n",
    "\n",
    "fig.add_trace(go.Scatter(\n",
    "    x = s,\n",
    "    y = Mmin,\n",
    "    name='M-',\n",
    "    line_color='#000000',\n",
    "    fill='tonexty',\n",
    "    showlegend=False,\n",
    "    line = dict(width=1)\n",
    "))\n",
    "\n",
    "# fig.add_trace(go.Scatter(\n",
    "#     x = s, \n",
    "#     y = MR1t,\n",
    "#     name='2ϕ18',\n",
    "#     showlegend=True,\n",
    "#     line_color='#90ee90'\n",
    "# ))\n",
    "\n",
    "# fig.add_trace(go.Scatter(\n",
    "#     x = s,\n",
    "#     y = -MR1t,\n",
    "#     name = '2ϕ18',\n",
    "#     #sholegend = True,\n",
    "#     line_color = '#90ee90'\n",
    "# ))\n",
    "\n",
    "fig.update_yaxes(autorange=\"reversed\")\n",
    "fig.update_traces(mode='lines')\n",
    "fig.update_layout(\n",
    "    title_text=('Inviluppo dei momenti flettenti<br>' + 'Combinazione SLU'),\n",
    "    title_x=.5,\n",
    "    autosize=True,\n",
    "    xaxis = dict(\n",
    "        tickmode='array',\n",
    "        tickvals=ss,\n",
    "        ticktext=ss,\n",
    "        title=r'$s\\,[m]$',\n",
    "    ),\n",
    "    yaxis = dict(\n",
    "        tickmode = 'linear',\n",
    "        tick0 = 0,\n",
    "        dtick = 50,\n",
    "        title=r'$M_{Ed}\\,[kN\\,m]$'\n",
    "    ),\n",
    "    xaxis_showgrid=True, \n",
    "    yaxis_showgrid=True,\n",
    ")\n",
    "\n",
    "fig.write_image(\"Esercitazione/TdC/LaTeX/img/bendingMomentEnvelope.eps\")\n",
    "\n",
    "fig.update_yaxes(automargin=True)\n",
    "fig.show()"
   ]
  },
  {
   "cell_type": "code",
   "execution_count": null,
   "metadata": {},
   "outputs": [],
   "source": [
    "0.9/2 *460*(2.5-0)"
   ]
  },
  {
   "cell_type": "code",
   "execution_count": 6,
   "metadata": {},
   "outputs": [
    {
     "ename": "NameError",
     "evalue": "name 's2' is not defined",
     "output_type": "error",
     "traceback": [
      "\u001b[0;31m---------------------------------------------------------------------------\u001b[0m",
      "\u001b[0;31mNameError\u001b[0m                                 Traceback (most recent call last)",
      "\u001b[0;32m<ipython-input-6-6f0fca50d5c3>\u001b[0m in \u001b[0;36m<module>\u001b[0;34m\u001b[0m\n\u001b[0;32m----> 1\u001b[0;31m \u001b[0mnp\u001b[0m\u001b[0;34m.\u001b[0m\u001b[0marray\u001b[0m\u001b[0;34m(\u001b[0m\u001b[0;34m[\u001b[0m\u001b[0ms2\u001b[0m\u001b[0;34m[\u001b[0m\u001b[0;36m1260\u001b[0m\u001b[0;34m]\u001b[0m\u001b[0;34m,\u001b[0m \u001b[0ms1\u001b[0m\u001b[0;34m[\u001b[0m\u001b[0;36m1260\u001b[0m\u001b[0;34m]\u001b[0m\u001b[0;34m]\u001b[0m\u001b[0;34m)\u001b[0m\u001b[0;34m\u001b[0m\u001b[0;34m\u001b[0m\u001b[0m\n\u001b[0m",
      "\u001b[0;31mNameError\u001b[0m: name 's2' is not defined"
     ]
    }
   ],
   "source": [
    "np.array([s2[1260], s1[1260]])"
   ]
  },
  {
   "cell_type": "code",
   "execution_count": null,
   "metadata": {},
   "outputs": [],
   "source": [
    "sc1 = np.array([s2[1260], s1[1260]])\n",
    "Mc1_max = Mmax[1260]*np.ones(len(sc1))\n",
    "\n",
    "sc2 = np.array([s2[5320], s1[5320]])\n",
    "Mc2_max = Mmax[5320]*np.ones(len(sc2))\n"
   ]
  },
  {
   "cell_type": "code",
   "execution_count": null,
   "metadata": {},
   "outputs": [],
   "source": [
    "\n",
    "fig = go.Figure()\n",
    "\n",
    "fig.add_trace(go.Scatter(\n",
    "    x = sc1,\n",
    "    y = Mc1_max,\n",
    "    line_color= 'red',\n",
    "    fillcolor='red',\n",
    "    mode = 'none',\n",
    "    fill='tozeroy',\n",
    "    showlegend=False,\n",
    "    line = dict(width=1)\n",
    "))\n",
    "\n",
    "fig.add_trace(go.Scatter(\n",
    "    x = sc2,\n",
    "    y = Mc2_max,\n",
    "    line_color= 'red',\n",
    "    fillcolor='red',\n",
    "    mode = 'none',\n",
    "    fill='tozeroy',\n",
    "    showlegend=False,\n",
    "    line = dict(width=1)\n",
    "))\n",
    "\n",
    "fig.add_trace(go.Scatter(\n",
    "    x = s,\n",
    "    y = Mmax,\n",
    "    name='M+',\n",
    "    line_color='#000000',\n",
    "    showlegend=False,\n",
    "    line = dict(width=1)\n",
    "))\n",
    "\n",
    "\n",
    "\n",
    "fig.add_trace(go.Scatter(\n",
    "    x = s2,\n",
    "    y = Mmax,\n",
    "    name='M+',\n",
    "    line_color= 'red',\n",
    "    fillcolor='red',\n",
    "    mode = 'none',\n",
    "    fill='tozeroy',\n",
    "    showlegend=False,\n",
    "    line = dict(width=1)\n",
    "))\n",
    "\n",
    "\n",
    "\n",
    "# fig.add_trace(go.Scatter(\n",
    "#     x = s,\n",
    "#     y = MR1t,\n",
    "#     name='2ϕ18',\n",
    "#     showlegend=True,\n",
    "#     line_color='#90ee90'\n",
    "# ))\n",
    "\n",
    "# fig.add_trace(go.Scatter(\n",
    "#     x = s,\n",
    "#     y = -MR1t,\n",
    "#     name = '2ϕ18',\n",
    "#     #sholegend = True,\n",
    "#     line_color = '#90ee90'\n",
    "# ))\n",
    "\n",
    "fig.update_yaxes(autorange=\"reversed\")\n",
    "fig.update_traces(mode='lines')\n",
    "fig.update_layout(\n",
    "    title_text=('Inviluppo dei momenti flettenti<br>' + 'Combinazione SLU'),\n",
    "    title_x=.5,\n",
    "    autosize=True,\n",
    "    xaxis = dict(\n",
    "        tickmode='array',\n",
    "        tickvals=ss,\n",
    "        ticktext=ss,\n",
    "        title=r'$s\\,[m]$',\n",
    "    ),\n",
    "    yaxis = dict(\n",
    "        tickmode = 'linear',\n",
    "        tick0 = 0,\n",
    "        dtick = 50,\n",
    "        title=r'$M_{Ed}\\,[kN\\,m]$'\n",
    "    ),\n",
    "    xaxis_showgrid=True, \n",
    "    yaxis_showgrid=True,\n",
    ")\n",
    "\n",
    "fig.update_yaxes(automargin=True)\n",
    "fig.show()"
   ]
  },
  {
   "cell_type": "code",
   "execution_count": null,
   "metadata": {},
   "outputs": [],
   "source": [
    "s1[-1]"
   ]
  },
  {
   "cell_type": "code",
   "execution_count": null,
   "metadata": {},
   "outputs": [],
   "source": [
    "s1 = s+ 517.5/1000\n",
    "smax1 = smax + 517.5/1000\n",
    "for i in range (0, len(s)):\n",
    "    if s1[i] > 26.65:\n",
    "        s1[i] = 26.65"
   ]
  },
  {
   "cell_type": "code",
   "execution_count": 7,
   "metadata": {},
   "outputs": [],
   "source": [
    "s2 = s- 517.5/1000\n",
    "smax2 = smax - 517.5/1000\n",
    "for i in range (0, len(s)):\n",
    "    if s2[i] < 0:\n",
    "        s2[i] = 0"
   ]
  },
  {
   "cell_type": "markdown",
   "metadata": {},
   "source": [
    "---"
   ]
  },
  {
   "cell_type": "markdown",
   "metadata": {},
   "source": [
    "## Progetto sezione N5\n",
    "\n",
    "Si ipotizzi di essere sulla retta limite tra il campo 2 e il campo 3. In questo modo:\n",
    "$$\n",
    "\\xi_{2/3} = \\dfrac{\\varepsilon_{cu}}{\\varepsilon_{cu} + \\varepsilon_{su}}\n",
    "$$\n",
    "\n",
    "Assumendo \n",
    "\\begin{align*}\n",
    "\\varepsilon_{cu} &= 0.35\\%\\\\\n",
    "\\varepsilon_{su} &= 1.0\\%\n",
    "\\end{align*}\n",
    "risulta\n",
    "$$\n",
    "\\xi_{2/3} = 0.2593\n",
    "$$\n",
    "\n",
    "Essendo sulla retta limite tra i campi 2 e 3, i valori di $\\psi$ e $\\lambda$ sono costanti e valgono\n",
    "\\begin{align*}\n",
    "\\psi &= 0.80952\\\\\n",
    "\\lambda &= 0.416\n",
    "\\end{align*}"
   ]
  },
  {
   "cell_type": "code",
   "execution_count": 131,
   "metadata": {},
   "outputs": [
    {
     "data": {
      "text/plain": [
       "sympy.core.symbol.Symbol"
      ]
     },
     "execution_count": 131,
     "metadata": {},
     "output_type": "execute_result"
    }
   ],
   "source": [
    "b, psi, xi, d, fcd, beta, As, fyd, d2, MEd, mylambda, x, A1s, Es, epsilon_su = symbols('b psi xi d fcd beta As fyd d2 MEd mylambda x A1s Es, epsilon_su')\n",
    "type(d)"
   ]
  },
  {
   "cell_type": "code",
   "execution_count": 132,
   "metadata": {},
   "outputs": [],
   "source": [
    "MEd_N5 = 234.169 #kN m"
   ]
  },
  {
   "cell_type": "code",
   "execution_count": 133,
   "metadata": {},
   "outputs": [
    {
     "data": {
      "text/plain": [
       "sympy.core.add.Add"
      ]
     },
     "execution_count": 133,
     "metadata": {},
     "output_type": "execute_result"
    }
   ],
   "source": [
    "eq = b*psi*xi*d**2 * fcd* (1-mylambda) + beta* (b*psi*xi*d*fcd / (1-beta)) * (d-d2) - MEd\n",
    "type(eq)"
   ]
  },
  {
   "cell_type": "code",
   "execution_count": 134,
   "metadata": {},
   "outputs": [
    {
     "data": {
      "text/latex": [
       "$\\displaystyle 513.832172638218 d^{2} + 376.317920005007 d \\left(d - 40\\right) - 234169000.0$"
      ],
      "text/plain": [
       "513.832172638218*d**2 + 376.317920005007*d*(d - 40) - 234169000.0"
      ]
     },
     "execution_count": 134,
     "metadata": {},
     "output_type": "execute_result"
    }
   ],
   "source": [
    "eq.subs({b:300, psi:0.806399941030868, xi:0.256147482947766, fcd:14.17, beta:0.3, mylambda:0.41481981971363, fyd:391.3, d2:40, MEd:234.169*10**6})"
   ]
  },
  {
   "cell_type": "code",
   "execution_count": 135,
   "metadata": {},
   "outputs": [],
   "source": [
    "num_eq = eq.subs({b:300, psi:0.80952, xi:0.2593, fcd:14.17, beta:0.3, mylambda:0.416, fyd:391.3, d2:40, MEd:234.169*10**6})"
   ]
  },
  {
   "cell_type": "code",
   "execution_count": 136,
   "metadata": {},
   "outputs": [
    {
     "data": {
      "text/latex": [
       "$\\displaystyle 517.621512774738$"
      ],
      "text/plain": [
       "517.621512774738"
      ]
     },
     "execution_count": 136,
     "metadata": {},
     "output_type": "execute_result"
    }
   ],
   "source": [
    "d_sol=sym.solve(num_eq, d)\n",
    "d_sol[1]"
   ]
  },
  {
   "cell_type": "code",
   "execution_count": 137,
   "metadata": {},
   "outputs": [
    {
     "data": {
      "text/latex": [
       "$\\displaystyle \\frac{b d fcd \\psi \\xi}{fyd \\left(1 - \\beta\\right)}$"
      ],
      "text/plain": [
       "b*d*fcd*psi*xi/(fyd*(1 - beta))"
      ]
     },
     "execution_count": 137,
     "metadata": {},
     "output_type": "execute_result"
    }
   ],
   "source": [
    "sol_As = b*psi*xi*d*fcd / (fyd*(1-beta))\n",
    "sol_As"
   ]
  },
  {
   "cell_type": "code",
   "execution_count": 138,
   "metadata": {},
   "outputs": [
    {
     "data": {
      "text/latex": [
       "$\\displaystyle 1686.26425634593$"
      ],
      "text/plain": [
       "1686.26425634593"
      ]
     },
     "execution_count": 138,
     "metadata": {},
     "output_type": "execute_result"
    }
   ],
   "source": [
    "num_As = sol_As.subs({b:300, psi:0.80952, xi:0.2593, fcd:14.17, beta:0.3, fyd:391.3, d:d_sol[1]})\n",
    "num_As"
   ]
  },
  {
   "cell_type": "code",
   "execution_count": 139,
   "metadata": {},
   "outputs": [
    {
     "data": {
      "text/latex": [
       "$\\displaystyle 505.879276903778$"
      ],
      "text/plain": [
       "505.879276903778"
      ]
     },
     "execution_count": 139,
     "metadata": {},
     "output_type": "execute_result"
    }
   ],
   "source": [
    "num_A1s = .3 * num_As\n",
    "num_A1s"
   ]
  },
  {
   "cell_type": "markdown",
   "metadata": {},
   "source": [
    "Adottando\n",
    "\\begin{align}\n",
    "d &= 460\\,mm\\\\\n",
    "\\end{align}\n",
    "si ottiene"
   ]
  },
  {
   "cell_type": "code",
   "execution_count": 140,
   "metadata": {},
   "outputs": [],
   "source": [
    "d_sol1=460 #è verificata anche con d = 460mm"
   ]
  },
  {
   "cell_type": "code",
   "execution_count": 141,
   "metadata": {},
   "outputs": [
    {
     "data": {
      "text/latex": [
       "$\\displaystyle 1498.54969079829$"
      ],
      "text/plain": [
       "1498.54969079829"
      ]
     },
     "execution_count": 141,
     "metadata": {},
     "output_type": "execute_result"
    }
   ],
   "source": [
    "num1_As = sol_As.subs({b:300, psi:0.80952, xi:0.2593, fcd:14.17, beta:0.3, fyd:391.3, d:d_sol1})\n",
    "num1_As"
   ]
  },
  {
   "cell_type": "code",
   "execution_count": 142,
   "metadata": {},
   "outputs": [
    {
     "data": {
      "text/latex": [
       "$\\displaystyle 449.564907239487$"
      ],
      "text/plain": [
       "449.564907239487"
      ]
     },
     "execution_count": 142,
     "metadata": {},
     "output_type": "execute_result"
    }
   ],
   "source": [
    "num1_A1s = .3 * num1_As\n",
    "num1_A1s"
   ]
  },
  {
   "cell_type": "markdown",
   "metadata": {},
   "source": [
    "Si sceglie allora\n",
    "\\begin{align}\n",
    "A_s &= 6\\Phi\\,18mm = 486\\pi\\,mm^2\\\\\n",
    "A'_s &= 2\\Phi\\,18mm = 162\\pi\\,mm^2\n",
    "\\end{align}"
   ]
  },
  {
   "cell_type": "code",
   "execution_count": 143,
   "metadata": {},
   "outputs": [],
   "source": [
    "As_sol1 = np.pi*6*18**2 /4 #mm**2\n",
    "A1s_sol1 = np.pi*2*18**2 /4 #mm**2"
   ]
  },
  {
   "cell_type": "markdown",
   "metadata": {},
   "source": [
    "## Verifica sezione N5\n",
    "Se ipotizziamo di essere in campo 3, $\\psi$ e $\\lambda$ sono costanti. Il copriferro superiore al limite elastico tra i campi 2 e 3 vale\n",
    "$$\n",
    "d''_{\\varepsilon'_{2/3}} = \\dfrac{\\varepsilon_{cu} - \\varepsilon'_{se}}{\\varepsilon_{cu}}\\,x_{2/3} = \\dfrac{0.35-0.1863}{0.35}\\%\\,\\cdot0.2593 \\cdot 560\\,mm = 55.788\\,mm \n",
    "$$\n",
    "\n",
    "Poiché $d'' = 40\\,mm < d''_{\\varepsilon'_{2/3}} = 67.916\\,mm$ le armature superiori snervano in campo 2, sottocampo 2b).\n",
    "\n",
    "Allora\n",
    "$$\n",
    "b\\,\\psi\\,x\\,fcd + A'_s\\,f'_{yd} - A_s\\,f_{yd} = 0\n",
    "$$\n",
    "\n",
    "da cui si ricava $x$"
   ]
  },
  {
   "cell_type": "code",
   "execution_count": 144,
   "metadata": {},
   "outputs": [
    {
     "name": "stdout",
     "output_type": "stream",
     "text": [
      "0.251610181635942 < 0.2593\n"
     ]
    },
    {
     "data": {
      "text/latex": [
       "$\\displaystyle \\text{True}$"
      ],
      "text/plain": [
       "True"
      ]
     },
     "execution_count": 144,
     "metadata": {},
     "output_type": "execute_result"
    }
   ],
   "source": [
    "eq2 = b*psi*x*fcd+A1s*fyd-As*fyd\n",
    "sol_eq2 = eq2.subs({b:300, psi:0.80952, fcd:14.17, A1s:A1s_sol1, As:As_sol1, fyd:391.3})\n",
    "x2 = sym.solve(sol_eq2, x)\n",
    "sol_eq2, x2\n",
    "x2 = x2[0]\n",
    "xi2 = x2/d_sol1\n",
    "print(xi2,'< 0.2593')\n",
    "xi2 < 0.2593"
   ]
  },
  {
   "cell_type": "markdown",
   "metadata": {},
   "source": [
    "L'ipotesi di campo 3 è **errata**!\n",
    "\n",
    "Si ipotizza di essere in campo 2. Allora $\\{\\psi, \\lambda\\} \\neq cost$.\n",
    "\n",
    "**HP: sottocampo 2b ($\\sigma'_s = f_{yd}$)**\n",
    "\n",
    "Se $\\varepsilon_c \\in [\\varepsilon_{c2}, \\varepsilon_{cu}]$ allora\n",
    "$$\n",
    "\\psi = 1 - \\dfrac{1}{3}\\,\\dfrac{\\varepsilon_{c2}}{\\varepsilon_{c}} = 1 - \\dfrac{1}{3}\\,\\dfrac{\\varepsilon_{c2}}{\\varepsilon_{su}}\\,\\dfrac{1-\\xi}{\\xi} = 1 - \\dfrac{1}{3}\\,\\dfrac{2}{10}\\cdot\\dfrac{1-\\xi}{\\xi} = \\frac{16 \\xi - 1}{15 \\xi}\n",
    "$$"
   ]
  },
  {
   "cell_type": "code",
   "execution_count": 145,
   "metadata": {},
   "outputs": [
    {
     "data": {
      "text/latex": [
       "$\\displaystyle \\frac{16 \\xi - 1}{15 \\xi}$"
      ],
      "text/plain": [
       "(16*xi - 1)/(15*xi)"
      ]
     },
     "execution_count": 145,
     "metadata": {},
     "output_type": "execute_result"
    }
   ],
   "source": [
    "sym.simplify(1-(1/3) * (2/10) * (1-xi)/xi, rational=True)"
   ]
  },
  {
   "cell_type": "markdown",
   "metadata": {},
   "source": [
    "Essendo per ipotesi in campo 2b, le equazioni di equilibrio risultano\n",
    "\\begin{align}\n",
    "b\\,\\psi\\,\\dfrac{x}{d}\\,d\\,f_{cd} + A'_s\\,f_{yd} - A_s\\,f_{yd} &= 0\n",
    "\\end{align}\n",
    "cioè\n",
    "$$\n",
    "b\\,\\psi\\,\\xi\\,d\\,f_{cd} = f_{yd}\\,(A_s - A'_s)\n",
    "$$\n",
    "ovvero\n",
    "$$ \n",
    "\\psi\\,\\xi = \\dfrac{f_{yd}\\,(A_s - A'_s)}{b\\,d\\,f_{cd}}\n",
    "$$\n",
    "Sostituendo la relazione di $\\psi$ trovata sopra\n",
    "$$\n",
    "\\frac{16 \\xi - 1}{15 \\xi}\\,\\xi = \\dfrac{f_{yd}\\,(A_s - A'_s)}{b\\,d\\,f_{cd}}\n",
    "$$"
   ]
  },
  {
   "cell_type": "code",
   "execution_count": 146,
   "metadata": {},
   "outputs": [
    {
     "data": {
      "text/latex": [
       "$\\displaystyle \\frac{16 \\xi}{15} - \\frac{1}{15} - \\frac{fyd \\left(- A1s + As\\right)}{b d fcd}$"
      ],
      "text/plain": [
       "16*xi/15 - 1/15 - fyd*(-A1s + As)/(b*d*fcd)"
      ]
     },
     "execution_count": 146,
     "metadata": {},
     "output_type": "execute_result"
    }
   ],
   "source": [
    "eq3 = (16*xi-1)/(15*xi)*xi - (fyd*(As-A1s))/(b*d*fcd)\n",
    "eq3"
   ]
  },
  {
   "cell_type": "code",
   "execution_count": 147,
   "metadata": {},
   "outputs": [
    {
     "data": {
      "text/latex": [
       "$\\displaystyle \\frac{- 15 A1s fyd + 15 As fyd + b d fcd}{16 b d fcd}$"
      ],
      "text/plain": [
       "(-15*A1s*fyd + 15*As*fyd + b*d*fcd)/(16*b*d*fcd)"
      ]
     },
     "execution_count": 147,
     "metadata": {},
     "output_type": "execute_result"
    }
   ],
   "source": [
    "sym.solve(eq3, xi)[0]"
   ]
  },
  {
   "cell_type": "code",
   "execution_count": 148,
   "metadata": {},
   "outputs": [
    {
     "data": {
      "text/latex": [
       "$\\displaystyle 0.253453257098057$"
      ],
      "text/plain": [
       "0.253453257098057"
      ]
     },
     "execution_count": 148,
     "metadata": {},
     "output_type": "execute_result"
    }
   ],
   "source": [
    "num_eq3 = eq3.subs({fyd:391.3, As:As_sol1, A1s:A1s_sol1, b:300, d:d_sol1, fcd:14.17})\n",
    "xi3 = sym.solve(num_eq3, xi)[0]\n",
    "xi3"
   ]
  },
  {
   "cell_type": "markdown",
   "metadata": {},
   "source": [
    "Risolvendo si ottiene\n",
    "$$\\xi = 0.253453257098057$$\n",
    "\n",
    "Il limite di $\\xi$ per il campo elastico delle armature superiori è \n",
    "$$\n",
    "\\xi_{\\varepsilon'_{se_{2a/2b}}} = \\dfrac{1}{d}\\left[\\dfrac{\\varepsilon'_{se}}{\\varepsilon'_{se} + \\varepsilon_{su}}\\,(d-d'') + d''\\right] = \\dfrac{1}{460}\\left[\\dfrac{1.863}{1.863 + 10}\\,(460-40) + 40\\right] = 0.23034352334074892\n",
    "$$"
   ]
  },
  {
   "cell_type": "code",
   "execution_count": 149,
   "metadata": {},
   "outputs": [
    {
     "data": {
      "text/latex": [
       "$\\displaystyle \\frac{78521453258029 d}{500000000000000} + \\frac{421478546741971 d_{2}}{500000000000000}$"
      ],
      "text/plain": [
       "78521453258029*d/500000000000000 + 421478546741971*d2/500000000000000"
      ]
     },
     "execution_count": 149,
     "metadata": {},
     "output_type": "execute_result"
    }
   ],
   "source": [
    "sym.simplify((1.863/(1.863+10)) * (d-d2) + d2, rational=True)"
   ]
  },
  {
   "cell_type": "code",
   "execution_count": 150,
   "metadata": {},
   "outputs": [],
   "source": [
    "xi3lim_2a2b = ((1.863/(1.863+10)) * (d-d2) + d2).subs({d:d_sol1, d2:40})/d_sol1"
   ]
  },
  {
   "cell_type": "code",
   "execution_count": 151,
   "metadata": {},
   "outputs": [
    {
     "name": "stdout",
     "output_type": "stream",
     "text": [
      "0.253453257098057 < 0.230343523340749\n"
     ]
    },
    {
     "data": {
      "text/latex": [
       "$\\displaystyle \\text{False}$"
      ],
      "text/plain": [
       "False"
      ]
     },
     "execution_count": 151,
     "metadata": {},
     "output_type": "execute_result"
    }
   ],
   "source": [
    "print(xi3, '<', xi3lim_2a2b)\n",
    "xi3 < xi3lim_2a2b"
   ]
  },
  {
   "cell_type": "markdown",
   "metadata": {},
   "source": [
    "Inoltre la deformazione delle armature superiori"
   ]
  },
  {
   "cell_type": "code",
   "execution_count": 152,
   "metadata": {},
   "outputs": [
    {
     "name": "stdout",
     "output_type": "stream",
     "text": [
      "epsilon1_s = 0.00223022519275522 > epsilon1_se =  0.001863\n"
     ]
    },
    {
     "data": {
      "text/latex": [
       "$\\displaystyle \\text{True}$"
      ],
      "text/plain": [
       "True"
      ]
     },
     "execution_count": 152,
     "metadata": {},
     "output_type": "execute_result"
    }
   ],
   "source": [
    "print('epsilon1_s =', (10/1000)/(d_sol1 - xi3*d_sol1) * (xi3*d_sol1 - 40), '> epsilon1_se = ',1.863/1000)\n",
    "(10/1000)/(d_sol1 - xi3*d_sol1) * (xi3*d_sol1 - 40) > 1.863/1000 \n",
    "#epsilon'_s > epsilon'_se => OK CAMPO 2B"
   ]
  },
  {
   "cell_type": "markdown",
   "metadata": {},
   "source": [
    "Ci si trova effettivamente in campo 2b. Allora\n",
    "$$\n",
    "\\sigma'_s = f_{yd}\n",
    "$$\n",
    "\n",
    "È necessario verificare in che campo di deformazioni è il cls"
   ]
  },
  {
   "cell_type": "code",
   "execution_count": 153,
   "metadata": {},
   "outputs": [
    {
     "name": "stdout",
     "output_type": "stream",
     "text": [
      "epsilon_c = 0.00339500854444619 < epsilon_c2 = .002\n"
     ]
    },
    {
     "data": {
      "text/latex": [
       "$\\displaystyle \\text{False}$"
      ],
      "text/plain": [
       "False"
      ]
     },
     "execution_count": 153,
     "metadata": {},
     "output_type": "execute_result"
    }
   ],
   "source": [
    "epsilon_c = (10/1000) * (xi3*d_sol1)/(d_sol1*(1-xi3)) \n",
    "\n",
    "print('epsilon_c =', epsilon_c,'< epsilon_c2 = .002')\n",
    "\n",
    "epsilon_c < 2/1000\n",
    "\n",
    "\n",
    "#epsilon_c > epsilon_c2 => OK psi calcolato sopra!!!"
   ]
  },
  {
   "cell_type": "markdown",
   "metadata": {},
   "source": [
    "Il cls ha deformazione\n",
    "$$\n",
    "\\varepsilon_c \\in [\\varepsilon_{c2}, \\varepsilon_{cu}]\n",
    "$$\n",
    "perciò i valori di $\\psi$ e $\\lambda$ calcolati sopra sono corretti."
   ]
  },
  {
   "cell_type": "code",
   "execution_count": 154,
   "metadata": {
    "scrolled": true
   },
   "outputs": [
    {
     "data": {
      "text/latex": [
       "$\\displaystyle 0.803633287534062$"
      ],
      "text/plain": [
       "0.803633287534062"
      ]
     },
     "execution_count": 154,
     "metadata": {},
     "output_type": "execute_result"
    }
   ],
   "source": [
    "psi3 = sym.simplify(1-(1/3) * (2/10) * (1-xi)/xi, rational=True).subs({xi:xi3})\n",
    "psi3"
   ]
  },
  {
   "cell_type": "code",
   "execution_count": 155,
   "metadata": {},
   "outputs": [
    {
     "data": {
      "text/latex": [
       "$\\displaystyle 0.413812129258617$"
      ],
      "text/plain": [
       "0.413812129258617"
      ]
     },
     "execution_count": 155,
     "metadata": {},
     "output_type": "execute_result"
    }
   ],
   "source": [
    "mylambda3 = (6*((10/1000) * (xi3*d_sol1)/(d_sol1*(1-xi3)))**2 - 4*((10/1000) * (xi3*d_sol1)/(d_sol1*(1-xi3))) * 2/1000 + (2/1000)**2)/(4*((10/1000) * (xi3*d_sol1)/(d_sol1*(1-xi3)))*(3*((10/1000) * (xi3*d_sol1)/(d_sol1*(1-xi3)))-(2/1000)))\n",
    "mylambda3"
   ]
  },
  {
   "cell_type": "markdown",
   "metadata": {},
   "source": [
    "Sono verificate le ipotesi di $\\varepsilon_c  = 0.344\\% \\in [\\varepsilon_{c2}, \\varepsilon_{cu}] = [0.2, 0.35]\\%$ e di campo 2b con le armature superiori snervate, essendo $\\varepsilon'_{s} = 0.223\\% > 0.1863\\% = \\varepsilon'_{se}$.\n",
    "\n",
    "Allora, i valori di $\\psi$ e $\\lambda$ sono\n",
    "\\begin{align}\n",
    "\\psi &= 0.803633287534062\\\\\n",
    "\\lambda &= 0.413812129258617\n",
    "\\end{align}"
   ]
  },
  {
   "cell_type": "code",
   "execution_count": 156,
   "metadata": {},
   "outputs": [
    {
     "name": "stdout",
     "output_type": "stream",
     "text": [
      "247.641544543622 kN m\n"
     ]
    }
   ],
   "source": [
    "MRd = b*psi*xi*d*fcd*(d-mylambda*xi*d) + A1s*fyd*(d-d2)\n",
    "MRd = MRd.subs({b:300, psi:psi3, xi:xi3, mylambda:mylambda3, d:d_sol1, fcd:14.17, A1s:A1s_sol1, fyd:391.3, d2:40})/10**6\n",
    "print(MRd, 'kN m')"
   ]
  },
  {
   "cell_type": "code",
   "execution_count": 157,
   "metadata": {},
   "outputs": [
    {
     "data": {
      "text/latex": [
       "$\\displaystyle \\text{True}$"
      ],
      "text/plain": [
       "True"
      ]
     },
     "execution_count": 157,
     "metadata": {},
     "output_type": "execute_result"
    }
   ],
   "source": [
    "MRd > MEd_N5"
   ]
  },
  {
   "cell_type": "markdown",
   "metadata": {},
   "source": [
    "### La sezione N5 è verificata!"
   ]
  },
  {
   "cell_type": "code",
   "execution_count": 158,
   "metadata": {},
   "outputs": [
    {
     "data": {
      "text/plain": [
       "293"
      ]
     },
     "execution_count": 158,
     "metadata": {},
     "output_type": "execute_result"
    }
   ],
   "source": [
    "bmin = 6*18+2*10+5*25+2*20\n",
    "bmin"
   ]
  },
  {
   "cell_type": "code",
   "execution_count": 159,
   "metadata": {},
   "outputs": [
    {
     "data": {
      "text/plain": [
       "True"
      ]
     },
     "execution_count": 159,
     "metadata": {},
     "output_type": "execute_result"
    }
   ],
   "source": [
    "bmin < 300"
   ]
  },
  {
   "cell_type": "markdown",
   "metadata": {},
   "source": [
    "Usando\n",
    "$$\n",
    "d = 560\\,mm \\quad A_s = 6\\,\\Phi 20\\,mm\\quad A'_s = 2\\,\\Phi 20\\,mm\n",
    "$$\n",
    "la sezione è largamente verificata ma è necessario distribuire le armature metalliche inferiori su due file, oltre ad avere una trave molto alta.\n",
    "\n",
    "Usando, in alternativa, \n",
    "$$\n",
    "d = 460\\,mm \\quad A_s = 6\\,\\Phi 18\\,mm \\quad A'_s = 2\\,\\Phi 18\\,mm\n",
    "$$ \n",
    "la trave è comunque verificata agli SLU (campo 2b come in precedenza) e inoltre l'armatura può essere contenuta tutta su una fila (in prima approssimazione e salvo calcoli corretti).\n",
    "\n",
    "<!--È necessario mettere le armature tese su due file!-->"
   ]
  },
  {
   "cell_type": "markdown",
   "metadata": {},
   "source": [
    "---"
   ]
  },
  {
   "cell_type": "markdown",
   "metadata": {},
   "source": [
    "## Progetto sezione C1\n",
    "\n",
    "Si ipotizzi di essere sulla retta limite tra il campo 2 e il campo 3. In questo modo:\n",
    "$$\n",
    "\\xi_{2/3} = \\dfrac{\\varepsilon_{cu}}{\\varepsilon_{cu} + \\varepsilon_{su}}\n",
    "$$\n",
    "\n",
    "Assumendo \n",
    "\\begin{align*}\n",
    "\\varepsilon_{cu} &= 0.35\\%\\\\\n",
    "\\varepsilon_{su} &= 1.0\\%\n",
    "\\end{align*}\n",
    "risulta\n",
    "$$\n",
    "\\xi_{2/3} = 0.2593\n",
    "$$\n",
    "\n",
    "Essendo sulla retta limite tra i campi 2 e 3, i valori di $\\psi$ e $\\lambda$ sono costanti e valgono\n",
    "\\begin{align*}\n",
    "\\psi &= 0.80952\\\\\n",
    "\\lambda &= 0.416\n",
    "\\end{align*}\n",
    "\n",
    "Inoltre sono note le caratteristiche geometriche della sezione\n",
    "\\begin{align}\n",
    "b &= 300\\,mm\\\\\n",
    "d &= 460\\,mm\n",
    "\\end{align}\n",
    "\n",
    "Per calcolare le armature si fa l'equilibrio alla rotazione attorno a $T'_s$\n",
    "$$\n",
    "-b\\,\\psi\\,\\xi\\,d\\,f_{cd}\\,(\\lambda\\,\\xi\\,d - d'') + A_s\\,f_{yd}\\,(d-d'') = M_{Ed}^{C1}\n",
    "$$\n",
    "\n",
    "dove \n",
    "$$\n",
    "M_{Ed}^{C1} = 95.1842\\,kN\\,m\n",
    "$$"
   ]
  },
  {
   "cell_type": "code",
   "execution_count": 160,
   "metadata": {},
   "outputs": [],
   "source": [
    "MEd_C1 = 95.1842*10**6"
   ]
  },
  {
   "cell_type": "code",
   "execution_count": 161,
   "metadata": {},
   "outputs": [
    {
     "data": {
      "text/latex": [
       "$\\displaystyle As fyd \\left(d - d_{2}\\right) - MEd - b d fcd \\psi \\xi \\left(d mylambda \\xi - d_{2}\\right)$"
      ],
      "text/plain": [
       "As*fyd*(d - d2) - MEd - b*d*fcd*psi*xi*(d*mylambda*xi - d2)"
      ]
     },
     "execution_count": 161,
     "metadata": {},
     "output_type": "execute_result"
    }
   ],
   "source": [
    "eq = -b*psi*xi*d*fcd*(mylambda* xi *d - d2) + As * fyd *(d-d2) - MEd\n",
    "eq"
   ]
  },
  {
   "cell_type": "code",
   "execution_count": 162,
   "metadata": {},
   "outputs": [
    {
     "data": {
      "text/latex": [
       "$\\displaystyle 603.195424470401$"
      ],
      "text/plain": [
       "603.195424470401"
      ]
     },
     "execution_count": 162,
     "metadata": {},
     "output_type": "execute_result"
    }
   ],
   "source": [
    "eq = eq.subs({b:300, d:d_sol1, d2:40, fyd:391.3, fcd:14.17, psi:0.80952, mylambda:0.416, xi:.2593, MEd:MEd_C1})\n",
    "eq_sol = sym.solve(eq, As)[0]\n",
    "eq_sol"
   ]
  },
  {
   "cell_type": "markdown",
   "metadata": {},
   "source": [
    "Si adottano\n",
    "\\begin{align}\n",
    "A_s &= 3\\Phi 18\\,mm = 243\\pi\\,mm^2\\\\\n",
    "A'_s &= 2\\Phi 18\\,mm = 162\\pi\\,mm^2\n",
    "\\end{align}"
   ]
  },
  {
   "cell_type": "code",
   "execution_count": 184,
   "metadata": {},
   "outputs": [
    {
     "name": "stdout",
     "output_type": "stream",
     "text": [
      "763.4070148223198 508.93800988154646\n"
     ]
    }
   ],
   "source": [
    "As_sol1 = 3*np.pi * 18**2 /4\n",
    "A1s_sol1 = 2* np.pi *18**2 /4\n",
    "\n",
    "print(As_sol1, A1s_sol1)"
   ]
  },
  {
   "cell_type": "markdown",
   "metadata": {},
   "source": [
    "## Verifica sezione C1\n",
    "Se ipotizziamo di essere in campo 3, $\\psi$ e $\\lambda$ sono costanti. Il copriferro superiore al limite elastico tra i campi 2 e 3 vale\n",
    "$$\n",
    "d''_{\\varepsilon'_{2/3}} = \\dfrac{\\varepsilon_{cu} - \\varepsilon'_{se}}{\\varepsilon_{cu}}\\,x_{2/3} = \\dfrac{0.35-0.1863}{0.35}\\%\\,\\cdot0.2593 \\cdot 460\\,mm = 55.788\\,mm \n",
    "$$\n",
    "\n",
    "Poiché $d'' = 40\\,mm < d''_{\\varepsilon'_{2/3}} = 55.788\\,mm$ le armature superiori snervano in campo 2, sottocampo 2b).\n",
    "\n",
    "Allora\n",
    "$$\n",
    "b\\,\\psi\\,x\\,fcd + A'_s\\,f'_{yd} - A_s\\,f_{yd} = 0\n",
    "$$\n",
    "\n",
    "da cui si ricava $x$"
   ]
  },
  {
   "cell_type": "code",
   "execution_count": 185,
   "metadata": {},
   "outputs": [
    {
     "data": {
      "text/latex": [
       "$\\displaystyle \\frac{16 \\xi}{15} - \\frac{1}{15} - \\frac{fyd \\left(- A1s + As\\right)}{b d fcd}$"
      ],
      "text/plain": [
       "16*xi/15 - 1/15 - fyd*(-A1s + As)/(b*d*fcd)"
      ]
     },
     "execution_count": 185,
     "metadata": {},
     "output_type": "execute_result"
    }
   ],
   "source": [
    "eq2 = (16*xi -1)/(15*xi) * xi - (fyd * (As - A1s))/(b*d*fcd)\n",
    "eq2"
   ]
  },
  {
   "cell_type": "code",
   "execution_count": 186,
   "metadata": {},
   "outputs": [
    {
     "data": {
      "text/latex": [
       "$\\displaystyle \\frac{16 \\xi}{15} - 0.117587535226149$"
      ],
      "text/plain": [
       "16*xi/15 - 0.117587535226149"
      ]
     },
     "execution_count": 186,
     "metadata": {},
     "output_type": "execute_result"
    }
   ],
   "source": [
    "eq2 = eq2.subs({fyd:391.3, A1s:A1s_sol1, As:As_sol1, b:300, d:d_sol1, fcd:14.17})\n",
    "eq2"
   ]
  },
  {
   "cell_type": "code",
   "execution_count": 187,
   "metadata": {},
   "outputs": [
    {
     "data": {
      "text/latex": [
       "$\\displaystyle 0.110238314274515$"
      ],
      "text/plain": [
       "0.110238314274515"
      ]
     },
     "execution_count": 187,
     "metadata": {},
     "output_type": "execute_result"
    }
   ],
   "source": [
    "xi1 = sym.solve(eq2, xi)[0]\n",
    "xi1"
   ]
  },
  {
   "cell_type": "markdown",
   "metadata": {},
   "source": [
    "$$\n",
    "\\xi = 0.110238314274515 < \\xi_{2a/2b} = 0.23034\n",
    "$$\n",
    "\n",
    "Ci si trova in campo 2a. **Le armature superiori sono in campo elastico**\n",
    "$$\n",
    "\\varepsilon'_s = \\varepsilon_{su} \\,\\dfrac{\\xi\\,d - d''}{d\\,(1-\\xi)} = 0.026\\,\\%< 0.1863\\,\\% = \\varepsilon'_{se}\n",
    "$$\n",
    "Si deve ricalcolare il valore di $\\xi$ corretto da\n",
    "$$\n",
    "b\\,\\psi\\,\\xi\\,d\\,f_{cd} + A'_s\\,\\sigma'_s - A_s\\,f_{yd} = 0\n",
    "$$\n",
    "cioè\n",
    "$$\n",
    "b\\,\\psi\\,\\xi\\,d\\,f_{cd} + A'_s\\,E_s\\,\\varepsilon'_s - A_s\\,f_{yd} = 0\n",
    "$$\n",
    "dove\n",
    "$$\n",
    "\\varepsilon'_s = \\varepsilon_{su} \\,\\dfrac{\\xi\\,d - d''}{d\\,(1-\\xi)}\n",
    "$$\n",
    "In definitiva l'equazione da risolvere è\n",
    "$$\n",
    "b\\,\\dfrac{16\\,\\xi -1}{15\\xi}\\,\\xi\\,d\\,f_{cd} + A'_s\\,E_s\\, \\varepsilon_{su} \\,\\dfrac{\\xi\\,d - d''}{d\\,(1-\\xi)} - A_s\\,f_{yd} = 0\n",
    "$$"
   ]
  },
  {
   "cell_type": "code",
   "execution_count": 188,
   "metadata": {},
   "outputs": [
    {
     "data": {
      "text/latex": [
       "$\\displaystyle \\frac{0.01 A1s Es \\left(d \\xi - d_{2}\\right)}{d \\left(1 - \\xi\\right)} - As fyd + \\frac{b d fcd \\left(16 \\xi - 1\\right)}{15}$"
      ],
      "text/plain": [
       "0.01*A1s*Es*(d*xi - d2)/(d*(1 - xi)) - As*fyd + b*d*fcd*(16*xi - 1)/15"
      ]
     },
     "execution_count": 188,
     "metadata": {},
     "output_type": "execute_result"
    }
   ],
   "source": [
    "eq3 = b*((16*xi-1)/(15*xi)) * xi * d * fcd + A1s*Es*(epsilon_su)*((xi*d-d2)/(d*(1-xi)))- As*fyd\n",
    "eq3"
   ]
  },
  {
   "cell_type": "code",
   "execution_count": 189,
   "metadata": {},
   "outputs": [
    {
     "data": {
      "text/latex": [
       "$\\displaystyle 2085824.0 \\xi - 429085.164899974 + \\frac{2323.41265380706 \\left(460 \\xi - 40\\right)}{1 - \\xi}$"
      ],
      "text/plain": [
       "2085824.0*xi - 429085.164899974 + 2323.41265380706*(460*xi - 40)/(1 - xi)"
      ]
     },
     "execution_count": 189,
     "metadata": {},
     "output_type": "execute_result"
    }
   ],
   "source": [
    "eq3 = eq3.subs({b:300, d:d_sol1, As:As_sol1, A1s:A1s_sol1, fyd:391.3, fcd:14.17, Es:210*10**3, epsilon_su:10/1000, d2:40})\n",
    "eq3"
   ]
  },
  {
   "cell_type": "code",
   "execution_count": 190,
   "metadata": {},
   "outputs": [
    {
     "name": "stdout",
     "output_type": "stream",
     "text": [
      "0.160696498505634 < xi_2a2b = 0.23034\n"
     ]
    },
    {
     "data": {
      "text/latex": [
       "$\\displaystyle \\text{True}$"
      ],
      "text/plain": [
       "True"
      ]
     },
     "execution_count": 190,
     "metadata": {},
     "output_type": "execute_result"
    }
   ],
   "source": [
    "xi2 = sym.solve(eq3, xi)[0]\n",
    "print(xi2, '< xi_2a2b = 0.23034')\n",
    "xi2 < 0.23034"
   ]
  },
  {
   "cell_type": "code",
   "execution_count": 191,
   "metadata": {},
   "outputs": [
    {
     "data": {
      "text/latex": [
       "$\\displaystyle 0.000878585358397894$"
      ],
      "text/plain": [
       "0.000878585358397894"
      ]
     },
     "execution_count": 191,
     "metadata": {},
     "output_type": "execute_result"
    }
   ],
   "source": [
    "10/1000 * (xi2*d_sol1 - 40)/(d_sol1 - xi2*d_sol1)"
   ]
  },
  {
   "cell_type": "code",
   "execution_count": 192,
   "metadata": {},
   "outputs": [],
   "source": [
    "epsilon_c2 = 2/1000\n",
    "epsilon_cu = 3.5/1000\n",
    "epsilon_su = 10/1000"
   ]
  },
  {
   "cell_type": "markdown",
   "metadata": {},
   "source": [
    "Ci si trova effettivamente in campo 2a.\n",
    "$$\n",
    "\\varepsilon'_s = \\varepsilon_{su} \\,\\dfrac{\\xi\\,d - d''}{d\\,(1-\\xi)} = 0.08785\\% < \\varepsilon'_{se}\n",
    "$$\n",
    "$$\n",
    "\\dfrac{\\varepsilon_{su} + \\varepsilon_c}{d} = \\dfrac{\\varepsilon_{su}}{d(1-\\xi)}\n",
    "$$\n",
    "da cui\n",
    "$$\n",
    "\\varepsilon_c = 0.1914\\% < \\varepsilon_{c2} = 0.2\\%\n",
    "$$\n",
    "e perciò si deve ricalcolare $\\psi$ e $\\lambda$ con\n",
    "$$\n",
    "\\psi = \\dfrac{\\varepsilon_c}{3\\varepsilon_{c2}^2}\\,(3\\varepsilon_{c2} - \\varepsilon_c) = \\dfrac{\\xi}{1-\\xi}\\,\\dfrac{\\varepsilon_{su}}{3\\varepsilon_{c2}^2}\\,(3\\varepsilon_{c2} - \\dfrac{\\xi}{1-\\xi}\\,\\varepsilon_{su}) \n",
    "$$"
   ]
  },
  {
   "cell_type": "code",
   "execution_count": 214,
   "metadata": {},
   "outputs": [
    {
     "name": "stdout",
     "output_type": "stream",
     "text": [
      "0.160694044934078 + 0.e-23*I\n"
     ]
    },
    {
     "data": {
      "text/plain": [
       "0.160694044934078"
      ]
     },
     "execution_count": 214,
     "metadata": {},
     "output_type": "execute_result"
    }
   ],
   "source": [
    "eq3 = b*xi/(1-xi) * epsilon_su/(3*epsilon_c2**2) * (3*epsilon_c2-(xi/(1-xi))*epsilon_su) * xi*d*fcd + A1s*Es*epsilon_su* ((xi*d-d2)/(d-xi*d)) - As*fyd\n",
    "eq3 = eq3.subs({b:300, d:d_sol1, fcd:14.17, A1s:A1s_sol1, Es:210*10**3, d2:40, As:As_sol1, fyd:391.3})\n",
    "xi3 = sym.solve(eq3, xi)[1]\n",
    "print(xi3 )\n",
    "xi3 =0.160694044934078\n",
    "xi3"
   ]
  },
  {
   "cell_type": "code",
   "execution_count": 223,
   "metadata": {},
   "outputs": [
    {
     "data": {
      "text/latex": [
       "$\\displaystyle 0.00191460627634242$"
      ],
      "text/plain": [
       "0.00191460627634242"
      ]
     },
     "execution_count": 223,
     "metadata": {},
     "output_type": "execute_result"
    }
   ],
   "source": [
    "epsilon_c = symbols('epsilon_c')\n",
    "eq4 = (epsilon_su/(d-xi*d) - (epsilon_su + epsilon_c)/d).subs({d:d_sol1, xi:xi3})\n",
    "eq4_sol = sym.solve(eq4, epsilon_c)[0]\n",
    "eq4_sol"
   ]
  },
  {
   "cell_type": "code",
   "execution_count": 226,
   "metadata": {},
   "outputs": [
    {
     "data": {
      "text/latex": [
       "$\\displaystyle 0.372387224786834$"
      ],
      "text/plain": [
       "0.372387224786834"
      ]
     },
     "execution_count": 226,
     "metadata": {},
     "output_type": "execute_result"
    }
   ],
   "source": [
    "mylambda4 = (4*epsilon_c2 - eq4_sol)/(4*(3*epsilon_c2 - eq4_sol))\n",
    "mylambda4"
   ]
  },
  {
   "cell_type": "code",
   "execution_count": 231,
   "metadata": {},
   "outputs": [
    {
     "data": {
      "text/latex": [
       "$\\displaystyle 0.65182670538706$"
      ],
      "text/plain": [
       "0.651826705387060"
      ]
     },
     "execution_count": 231,
     "metadata": {},
     "output_type": "execute_result"
    }
   ],
   "source": [
    "psi4 = (eq4_sol/(3*epsilon_c2**2)) * (3*epsilon_c2 - eq4_sol)\n",
    "psi4"
   ]
  },
  {
   "cell_type": "markdown",
   "metadata": {},
   "source": [
    "$$\n",
    "\\xi = 0.16069405\n",
    "$$\n",
    "$$\n",
    "\\varepsilon_c = 0.19146\\%\n",
    "$$\n",
    "$$\n",
    "\\lambda = \\dfrac{4\\varepsilon_{c2} - \\varepsilon_c}{4\\,(3\\varepsilon_{c2} - \\varepsilon_c)} = 0.372387224786834\n",
    "$$\n",
    "$$\n",
    "\\psi = \\dfrac{\\varepsilon_c}{3\\varepsilon_{c2}^2}\\,(3\\varepsilon_{c2} - \\varepsilon_c) = \\dfrac{\\xi}{1-\\xi}\\,\\dfrac{\\varepsilon_{su}}{3\\varepsilon_{c2}^2}\\,(3\\varepsilon_{c2} - \\dfrac{\\xi}{1-\\xi}\\,\\varepsilon_{su}) = 0.65182670538706\n",
    "$$"
   ]
  },
  {
   "cell_type": "code",
   "execution_count": 234,
   "metadata": {},
   "outputs": [
    {
     "data": {
      "text/latex": [
       "$\\displaystyle 128.0177434799$"
      ],
      "text/plain": [
       "128.0177434799"
      ]
     },
     "execution_count": 234,
     "metadata": {},
     "output_type": "execute_result"
    }
   ],
   "source": [
    "MRd_C1 = round((-b*psi*xi*d*fcd*(mylambda*xi*d-d2) + As*fyd*(d-d2)).subs({b:300, psi:psi4, xi:xi3, d:d_sol1, fcd:14.17, mylambda:mylambda4, d2:40, As:As_sol1, fyd:391.3}),4)\n",
    "MRd_C1/10**6"
   ]
  },
  {
   "cell_type": "code",
   "execution_count": 236,
   "metadata": {},
   "outputs": [
    {
     "data": {
      "text/latex": [
       "$\\displaystyle \\text{True}$"
      ],
      "text/plain": [
       "True"
      ]
     },
     "execution_count": 236,
     "metadata": {},
     "output_type": "execute_result"
    }
   ],
   "source": [
    "MRd_C1 > MEd_C1"
   ]
  },
  {
   "cell_type": "markdown",
   "metadata": {},
   "source": [
    "### La sezione C1 è verificata!"
   ]
  },
  {
   "cell_type": "markdown",
   "metadata": {},
   "source": [
    "---"
   ]
  },
  {
   "cell_type": "markdown",
   "metadata": {},
   "source": [
    "## Progetto sezione N2\n",
    "\n",
    "Si ipotizzi di essere sulla retta limite tra il campo 2 e il campo 3. In questo modo:\n",
    "$$\n",
    "\\xi_{2/3} = \\dfrac{\\varepsilon_{cu}}{\\varepsilon_{cu} + \\varepsilon_{su}}\n",
    "$$\n",
    "\n",
    "Assumendo \n",
    "\\begin{align*}\n",
    "\\varepsilon_{cu} &= 0.35\\%\\\\\n",
    "\\varepsilon_{su} &= 1.0\\%\n",
    "\\end{align*}\n",
    "risulta\n",
    "$$\n",
    "\\xi_{2/3} = 0.2593\n",
    "$$\n",
    "\n",
    "Essendo sulla retta limite tra i campi 2 e 3, i valori di $\\psi$ e $\\lambda$ sono costanti e valgono\n",
    "\\begin{align*}\n",
    "\\psi &= 0.80952\\\\\n",
    "\\lambda &= 0.416\n",
    "\\end{align*}\n",
    "\n",
    "Inoltre sono note le caratteristiche geometriche della sezione\n",
    "\\begin{align}\n",
    "b &= 300\\,mm\\\\\n",
    "d &= 460\\,mm\n",
    "\\end{align}\n",
    "\n",
    "Per calcolare le armature si fa l'equilibrio alla rotazione attorno a $T'_s$\n",
    "$$\n",
    "-b\\,\\psi\\,\\xi\\,d\\,f_{cd}\\,(\\lambda\\,\\xi\\,d - d'') + A_s\\,f_{yd}\\,(d-d'') = M_{Ed}^{C1}\n",
    "$$\n",
    "\n",
    "dove \n",
    "$$\n",
    "M_{Ed}^{C1} = -196.506\\,kN\\,m\n",
    "$$"
   ]
  },
  {
   "cell_type": "code",
   "execution_count": 91,
   "metadata": {},
   "outputs": [],
   "source": [
    "MEd_N2 = 196.506*10**6"
   ]
  },
  {
   "cell_type": "code",
   "execution_count": 92,
   "metadata": {},
   "outputs": [
    {
     "data": {
      "text/latex": [
       "$\\displaystyle As fyd \\left(d - d_{2}\\right) - MEd - b d fcd \\psi \\xi \\left(d mylambda \\xi - d_{2}\\right)$"
      ],
      "text/plain": [
       "As*fyd*(d - d2) - MEd - b*d*fcd*psi*xi*(d*mylambda*xi - d2)"
      ]
     },
     "execution_count": 92,
     "metadata": {},
     "output_type": "execute_result"
    }
   ],
   "source": [
    "eq = -b*psi*xi*d*fcd*(mylambda* xi *d - d2) + As * fyd *(d-d2) - MEd\n",
    "eq"
   ]
  },
  {
   "cell_type": "code",
   "execution_count": 93,
   "metadata": {},
   "outputs": [
    {
     "name": "stdout",
     "output_type": "stream",
     "text": [
      "1219.71058151712\n",
      "365.913174455137\n"
     ]
    }
   ],
   "source": [
    "eq = eq.subs({b:300, d:d_sol1, d2:40, fyd:391.3, fcd:14.17, psi:0.80952, mylambda:0.416, xi:.2593, MEd:MEd_N2})\n",
    "eq_sol = sym.solve(eq, As)[0]\n",
    "print(eq_sol)\n",
    "print(eq_sol*.3)"
   ]
  },
  {
   "cell_type": "markdown",
   "metadata": {},
   "source": [
    "Si adottano\n",
    "\\begin{align}\n",
    "A_s &= 5\\Phi 18\\,mm = 405\\pi\\,mm^2\\\\\n",
    "A'_s &= 2\\Phi 18\\,mm = 162\\pi\\,mm^2\n",
    "\\end{align}"
   ]
  },
  {
   "cell_type": "code",
   "execution_count": 94,
   "metadata": {},
   "outputs": [
    {
     "name": "stdout",
     "output_type": "stream",
     "text": [
      "1272.345 508.938\n"
     ]
    }
   ],
   "source": [
    "As_sol1 = round(5*np.pi * 18**2 /4,4)\n",
    "A1s_sol1 = round(2* np.pi *18**2 /4,4)\n",
    "\n",
    "print(As_sol1, A1s_sol1)"
   ]
  },
  {
   "cell_type": "markdown",
   "metadata": {},
   "source": [
    "## Verifica sezione N2\n",
    "Se ipotizziamo di essere in campo 3, $\\psi$ e $\\lambda$ sono costanti. Il copriferro superiore al limite elastico tra i campi 2 e 3 vale\n",
    "$$\n",
    "d''_{\\varepsilon'_{2/3}} = \\dfrac{\\varepsilon_{cu} - \\varepsilon'_{se}}{\\varepsilon_{cu}}\\,x_{2/3} = \\dfrac{0.35-0.1863}{0.35}\\%\\,\\cdot0.2593 \\cdot 460\\,mm = 55.788\\,mm \n",
    "$$\n",
    "\n",
    "Poiché $d'' = 40\\,mm < d''_{\\varepsilon'_{2/3}} = 55.788\\,mm$ le armature superiori snervano in campo 2, sottocampo 2b).\n",
    "\n",
    "Allora\n",
    "$$\n",
    "b\\,\\psi\\,x\\,fcd + A'_s\\,f'_{yd} - A_s\\,f_{yd} = 0\n",
    "$$\n",
    "\n",
    "da cui si ricava $x$"
   ]
  },
  {
   "cell_type": "code",
   "execution_count": 95,
   "metadata": {},
   "outputs": [
    {
     "data": {
      "text/latex": [
       "$\\displaystyle \\frac{16 \\xi}{15} - \\frac{1}{15} - \\frac{fyd \\left(- A1s + As\\right)}{b d fcd}$"
      ],
      "text/plain": [
       "16*xi/15 - 1/15 - fyd*(-A1s + As)/(b*d*fcd)"
      ]
     },
     "execution_count": 95,
     "metadata": {},
     "output_type": "execute_result"
    }
   ],
   "source": [
    "eq2 = (16*xi -1)/(15*xi) * xi - (fyd * (As - A1s))/(b*d*fcd)\n",
    "eq2"
   ]
  },
  {
   "cell_type": "code",
   "execution_count": 96,
   "metadata": {},
   "outputs": [
    {
     "data": {
      "text/latex": [
       "$\\displaystyle \\frac{16 \\xi}{15} - 0.219429269379072$"
      ],
      "text/plain": [
       "16*xi/15 - 0.219429269379072"
      ]
     },
     "execution_count": 96,
     "metadata": {},
     "output_type": "execute_result"
    }
   ],
   "source": [
    "eq2 = eq2.subs({fyd:391.3, A1s:A1s_sol1, As:As_sol1, b:300, d:d_sol1, fcd:14.17})\n",
    "eq2"
   ]
  },
  {
   "cell_type": "code",
   "execution_count": 97,
   "metadata": {},
   "outputs": [
    {
     "data": {
      "text/latex": [
       "$\\displaystyle 0.20571494004288$"
      ],
      "text/plain": [
       "0.205714940042880"
      ]
     },
     "execution_count": 97,
     "metadata": {},
     "output_type": "execute_result"
    }
   ],
   "source": [
    "xi1 = sym.solve(eq2, xi)[0]\n",
    "xi1"
   ]
  },
  {
   "cell_type": "markdown",
   "metadata": {},
   "source": [
    "$$\n",
    "\\xi = 0.20571494004288 < \\xi_{2a/2b} = 0.23034\n",
    "$$\n",
    "\n",
    "Ci si trova in campo 2a. **Le armature superiori sono in campo elastico**\n",
    "$$\n",
    "\\varepsilon'_s = \\varepsilon_{su} \\,\\dfrac{\\xi\\,d - d''}{d\\,(1-\\xi)} = 0.1495\\,\\%< 0.1863\\,\\% = \\varepsilon'_{se}\n",
    "$$\n",
    "Si deve ricalcolare il valore di $\\xi$ corretto da\n",
    "$$\n",
    "b\\,\\psi\\,\\xi\\,d\\,f_{cd} + A'_s\\,\\sigma'_s - A_s\\,f_{yd} = 0\n",
    "$$\n",
    "cioè\n",
    "$$\n",
    "b\\,\\psi\\,\\xi\\,d\\,f_{cd} + A'_s\\,E_s\\,\\varepsilon'_s - A_s\\,f_{yd} = 0\n",
    "$$\n",
    "dove\n",
    "$$\n",
    "\\varepsilon'_s = \\varepsilon_{su} \\,\\dfrac{\\xi\\,d - d''}{d\\,(1-\\xi)}\n",
    "$$\n",
    "In definitiva l'equazione da risolvere è\n",
    "$$\n",
    "b\\,\\dfrac{16\\,\\xi -1}{15\\xi}\\,\\xi\\,d\\,f_{cd} + A'_s\\,E_s\\, \\varepsilon_{su} \\,\\dfrac{\\xi\\,d - d''}{d\\,(1-\\xi)} - A_s\\,f_{yd} = 0\n",
    "$$"
   ]
  },
  {
   "cell_type": "code",
   "execution_count": 102,
   "metadata": {},
   "outputs": [
    {
     "data": {
      "text/latex": [
       "$\\displaystyle \\frac{A1s Es \\epsilon_{su} \\left(d \\xi - d_{2}\\right)}{d \\left(1 - \\xi\\right)} - As fyd + \\frac{b d fcd \\left(16 \\xi - 1\\right)}{15}$"
      ],
      "text/plain": [
       "A1s*Es*epsilon_su*(d*xi - d2)/(d*(1 - xi)) - As*fyd + b*d*fcd*(16*xi - 1)/15"
      ]
     },
     "execution_count": 102,
     "metadata": {},
     "output_type": "execute_result"
    }
   ],
   "source": [
    "eq3 = b*((16*xi-1)/(15*xi)) * xi * d * fcd + A1s*Es*(epsilon_su)*((xi*d-d2)/(d*(1-xi)))- As*fyd\n",
    "eq3"
   ]
  },
  {
   "cell_type": "code",
   "execution_count": 103,
   "metadata": {},
   "outputs": [
    {
     "data": {
      "text/latex": [
       "$\\displaystyle 2085824.0 \\xi - 628232.5985 + \\frac{2323.41260869565 \\left(460 \\xi - 40\\right)}{1 - \\xi}$"
      ],
      "text/plain": [
       "2085824.0*xi - 628232.5985 + 2323.41260869565*(460*xi - 40)/(1 - xi)"
      ]
     },
     "execution_count": 103,
     "metadata": {},
     "output_type": "execute_result"
    }
   ],
   "source": [
    "eq3 = eq3.subs({b:300, d:d_sol1, As:As_sol1, A1s:A1s_sol1, fyd:391.3, fcd:14.17, Es:210*10**3, epsilon_su:10/1000, d2:40})\n",
    "eq3"
   ]
  },
  {
   "cell_type": "code",
   "execution_count": 104,
   "metadata": {},
   "outputs": [
    {
     "name": "stdout",
     "output_type": "stream",
     "text": [
      "0.216484182907451 < xi_2a2b = 0.23034\n"
     ]
    },
    {
     "data": {
      "text/latex": [
       "$\\displaystyle \\text{True}$"
      ],
      "text/plain": [
       "True"
      ]
     },
     "execution_count": 104,
     "metadata": {},
     "output_type": "execute_result"
    }
   ],
   "source": [
    "xi2 = sym.solve(eq3, xi)[0]\n",
    "print(xi2, '< xi_2a2b = 0.23034')\n",
    "xi2 < 0.23034"
   ]
  },
  {
   "cell_type": "code",
   "execution_count": 106,
   "metadata": {},
   "outputs": [
    {
     "data": {
      "text/latex": [
       "$\\displaystyle 0.00165315949394574$"
      ],
      "text/plain": [
       "0.00165315949394574"
      ]
     },
     "execution_count": 106,
     "metadata": {},
     "output_type": "execute_result"
    }
   ],
   "source": [
    "10/1000 * (xi2*d_sol1 - 40)/(d_sol1 - xi2*d_sol1)\n",
    "\n",
    "#epsilon1_s"
   ]
  },
  {
   "cell_type": "code",
   "execution_count": 111,
   "metadata": {},
   "outputs": [],
   "source": [
    "epsilon_c = (10/1000)*(xi2*d_sol1)/(d_sol1*(1-xi2))\n",
    "\n",
    "#epsilon_c"
   ]
  },
  {
   "cell_type": "code",
   "execution_count": 116,
   "metadata": {},
   "outputs": [
    {
     "data": {
      "text/latex": [
       "$\\displaystyle 0.758714991993199$"
      ],
      "text/plain": [
       "0.758714991993199"
      ]
     },
     "execution_count": 116,
     "metadata": {},
     "output_type": "execute_result"
    }
   ],
   "source": [
    "psi_2 = (16*xi2-1)/(15*xi2)\n",
    "psi_2"
   ]
  },
  {
   "cell_type": "code",
   "execution_count": 115,
   "metadata": {},
   "outputs": [
    {
     "data": {
      "text/latex": [
       "$\\displaystyle 0.39854073861841$"
      ],
      "text/plain": [
       "0.398540738618410"
      ]
     },
     "execution_count": 115,
     "metadata": {},
     "output_type": "execute_result"
    }
   ],
   "source": [
    "mylambda_2 = ((6*epsilon_c**2 - 4*epsilon_c*2/1000 + (2/1000)**2)/(4*epsilon_c*(3*epsilon_c-2/1000)))\n",
    "mylambda_2"
   ]
  },
  {
   "cell_type": "markdown",
   "metadata": {},
   "source": [
    "Ci si trova effettivamente in campo 2a.\n",
    "$$\n",
    "\\varepsilon'_s = \\varepsilon_{su} \\,\\dfrac{\\xi\\,d - d''}{d\\,(1-\\xi)} = 0.165316\\% < \\varepsilon'_{se}\n",
    "$$\n",
    "$$\n",
    "\\dfrac{\\varepsilon_{su} + \\varepsilon_c}{d} = \\dfrac{\\varepsilon_{su}}{d(1-\\xi)}\n",
    "$$\n",
    "da cui\n",
    "$$\n",
    "\\varepsilon_c = 0.2763\\% > \\varepsilon_{c2} = 0.2\\%\n",
    "$$\n",
    "e perciò si deve ricalcolare $\\psi$ e $\\lambda$ con\n",
    "$$\n",
    "\\psi = 1 - \\dfrac{1}{3}\\,\\dfrac{\\varepsilon_{c2}}{\\varepsilon_{c}} = 1 - \\dfrac{1}{3}\\,\\dfrac{\\varepsilon_{c2}}{\\varepsilon_{su}}\\,\\dfrac{1-\\xi}{\\xi} = 1 - \\dfrac{1}{3}\\,\\dfrac{2}{10}\\cdot\\dfrac{1-\\xi}{\\xi} = \\frac{16 \\xi - 1}{15 \\xi} = 0.758714991993199\n",
    "$$\n",
    "$$\n",
    "\\lambda = \\dfrac{6\\varepsilon_c^2 - 4\\varepsilon_c\\,\\varepsilon_{c2} + \\varepsilon_{c2}^2}{4\\varepsilon_c\\,(3\\varepsilon_c - \\varepsilon_{c2}} =0.39854073861841\n",
    "$$"
   ]
  },
  {
   "cell_type": "code",
   "execution_count": 128,
   "metadata": {},
   "outputs": [
    {
     "data": {
      "text/latex": [
       "$\\displaystyle 209.2050938395$"
      ],
      "text/plain": [
       "209.2050938395"
      ]
     },
     "execution_count": 128,
     "metadata": {},
     "output_type": "execute_result"
    }
   ],
   "source": [
    "MRd_N2 = -b*psi*xi*d*fcd*(mylambda*xi*d-d2) + As*fyd*(d-d2)\n",
    "MRd_N2 = round(MRd_N2.subs({b:300, psi:psi_2, xi:xi2, d:d_sol1, fcd:14.17, mylambda:mylambda_2, d2:40, As:As_sol1, fyd:391.3}),4)\n",
    "MRd_N2/10**6"
   ]
  },
  {
   "cell_type": "code",
   "execution_count": 129,
   "metadata": {},
   "outputs": [
    {
     "data": {
      "text/latex": [
       "$\\displaystyle \\text{True}$"
      ],
      "text/plain": [
       "True"
      ]
     },
     "execution_count": 129,
     "metadata": {},
     "output_type": "execute_result"
    }
   ],
   "source": [
    "MRd_N2 > MEd_N2"
   ]
  },
  {
   "cell_type": "markdown",
   "metadata": {},
   "source": [
    "### La sezione N2 è verificata!\n",
    "---"
   ]
  },
  {
   "cell_type": "code",
   "execution_count": null,
   "metadata": {},
   "outputs": [],
   "source": []
  }
 ],
 "metadata": {
  "kernelspec": {
   "display_name": "Python 3",
   "language": "python",
   "name": "python3"
  },
  "language_info": {
   "codemirror_mode": {
    "name": "ipython",
    "version": 3
   },
   "file_extension": ".py",
   "mimetype": "text/x-python",
   "name": "python",
   "nbconvert_exporter": "python",
   "pygments_lexer": "ipython3",
   "version": "3.8.3"
  }
 },
 "nbformat": 4,
 "nbformat_minor": 4
}
