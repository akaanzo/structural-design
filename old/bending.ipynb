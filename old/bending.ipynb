{
 "cells": [
  {
   "cell_type": "code",
   "execution_count": 1,
   "metadata": {},
   "outputs": [],
   "source": [
    "import pandas as pd\n",
    "import numpy as np\n",
    "from sage.symbolic.substitution_map import make_map\n",
    "from sympy import Matrix\n",
    "import matplotlib.pyplot as plt\n",
    "%matplotlib inline\n",
    "from plotly import graph_objects as go\n",
    "import plotly.express as px"
   ]
  },
  {
   "cell_type": "markdown",
   "metadata": {},
   "source": [
    "---\n",
    "# Flessione"
   ]
  },
  {
   "cell_type": "code",
   "execution_count": 2,
   "metadata": {},
   "outputs": [
    {
     "ename": "OSError",
     "evalue": "/home/matteo/ownCloud/UNITN/Tecnica-delle-Costruzioni/Esercitazione/TdC/export/var/Mmax.txt not found.",
     "output_type": "error",
     "traceback": [
      "\u001b[0;31m---------------------------------------------------------------------------\u001b[0m",
      "\u001b[0;31mOSError\u001b[0m                                   Traceback (most recent call last)",
      "\u001b[0;32m<ipython-input-2-e46c61f3a680>\u001b[0m in \u001b[0;36m<module>\u001b[0;34m()\u001b[0m\n\u001b[0;32m----> 1\u001b[0;31m \u001b[0mMmax\u001b[0m \u001b[0;34m=\u001b[0m \u001b[0mnp\u001b[0m\u001b[0;34m.\u001b[0m\u001b[0mloadtxt\u001b[0m\u001b[0;34m(\u001b[0m\u001b[0;34m'/home/matteo/ownCloud/UNITN/Tecnica-delle-Costruzioni/Esercitazione/TdC/export/var/Mmax.txt'\u001b[0m\u001b[0;34m)\u001b[0m\u001b[0;34m\u001b[0m\u001b[0;34m\u001b[0m\u001b[0m\n\u001b[0m\u001b[1;32m      2\u001b[0m \u001b[0mMmin\u001b[0m \u001b[0;34m=\u001b[0m \u001b[0mnp\u001b[0m\u001b[0;34m.\u001b[0m\u001b[0mloadtxt\u001b[0m\u001b[0;34m(\u001b[0m\u001b[0;34m'/home/matteo/ownCloud/UNITN/Tecnica-delle-Costruzioni/Esercitazione/TdC/export/var/Mmin.txt'\u001b[0m\u001b[0;34m)\u001b[0m\u001b[0;34m\u001b[0m\u001b[0;34m\u001b[0m\u001b[0m\n\u001b[1;32m      3\u001b[0m \u001b[0mMEd_slu\u001b[0m \u001b[0;34m=\u001b[0m \u001b[0mpd\u001b[0m\u001b[0;34m.\u001b[0m\u001b[0mread_csv\u001b[0m\u001b[0;34m(\u001b[0m\u001b[0;34m'/home/matteo/ownCloud/UNITN/Tecnica-delle-Costruzioni/Esercitazione/TdC/export/var/MEd_slu.csv'\u001b[0m\u001b[0;34m)\u001b[0m\u001b[0;34m\u001b[0m\u001b[0;34m\u001b[0m\u001b[0m\n\u001b[1;32m      4\u001b[0m \u001b[0mMEd_slu\u001b[0m\u001b[0;34m\u001b[0m\u001b[0;34m\u001b[0m\u001b[0m\n",
      "\u001b[0;32m/opt/sagemath-9.0/local/lib/python3.7/site-packages/numpy/lib/npyio.py\u001b[0m in \u001b[0;36mloadtxt\u001b[0;34m(fname, dtype, comments, delimiter, converters, skiprows, usecols, unpack, ndmin, encoding, max_rows)\u001b[0m\n\u001b[1;32m    953\u001b[0m             \u001b[0mfname\u001b[0m \u001b[0;34m=\u001b[0m \u001b[0mos_fspath\u001b[0m\u001b[0;34m(\u001b[0m\u001b[0mfname\u001b[0m\u001b[0;34m)\u001b[0m\u001b[0;34m\u001b[0m\u001b[0;34m\u001b[0m\u001b[0m\n\u001b[1;32m    954\u001b[0m         \u001b[0;32mif\u001b[0m \u001b[0m_is_string_like\u001b[0m\u001b[0;34m(\u001b[0m\u001b[0mfname\u001b[0m\u001b[0;34m)\u001b[0m\u001b[0;34m:\u001b[0m\u001b[0;34m\u001b[0m\u001b[0;34m\u001b[0m\u001b[0m\n\u001b[0;32m--> 955\u001b[0;31m             \u001b[0mfh\u001b[0m \u001b[0;34m=\u001b[0m \u001b[0mnp\u001b[0m\u001b[0;34m.\u001b[0m\u001b[0mlib\u001b[0m\u001b[0;34m.\u001b[0m\u001b[0m_datasource\u001b[0m\u001b[0;34m.\u001b[0m\u001b[0mopen\u001b[0m\u001b[0;34m(\u001b[0m\u001b[0mfname\u001b[0m\u001b[0;34m,\u001b[0m \u001b[0;34m'rt'\u001b[0m\u001b[0;34m,\u001b[0m \u001b[0mencoding\u001b[0m\u001b[0;34m=\u001b[0m\u001b[0mencoding\u001b[0m\u001b[0;34m)\u001b[0m\u001b[0;34m\u001b[0m\u001b[0;34m\u001b[0m\u001b[0m\n\u001b[0m\u001b[1;32m    956\u001b[0m             \u001b[0mfencoding\u001b[0m \u001b[0;34m=\u001b[0m \u001b[0mgetattr\u001b[0m\u001b[0;34m(\u001b[0m\u001b[0mfh\u001b[0m\u001b[0;34m,\u001b[0m \u001b[0;34m'encoding'\u001b[0m\u001b[0;34m,\u001b[0m \u001b[0;34m'latin1'\u001b[0m\u001b[0;34m)\u001b[0m\u001b[0;34m\u001b[0m\u001b[0;34m\u001b[0m\u001b[0m\n\u001b[1;32m    957\u001b[0m             \u001b[0mfh\u001b[0m \u001b[0;34m=\u001b[0m \u001b[0miter\u001b[0m\u001b[0;34m(\u001b[0m\u001b[0mfh\u001b[0m\u001b[0;34m)\u001b[0m\u001b[0;34m\u001b[0m\u001b[0;34m\u001b[0m\u001b[0m\n",
      "\u001b[0;32m/opt/sagemath-9.0/local/lib/python3.7/site-packages/numpy/lib/_datasource.py\u001b[0m in \u001b[0;36mopen\u001b[0;34m(path, mode, destpath, encoding, newline)\u001b[0m\n\u001b[1;32m    264\u001b[0m \u001b[0;34m\u001b[0m\u001b[0m\n\u001b[1;32m    265\u001b[0m     \u001b[0mds\u001b[0m \u001b[0;34m=\u001b[0m \u001b[0mDataSource\u001b[0m\u001b[0;34m(\u001b[0m\u001b[0mdestpath\u001b[0m\u001b[0;34m)\u001b[0m\u001b[0;34m\u001b[0m\u001b[0;34m\u001b[0m\u001b[0m\n\u001b[0;32m--> 266\u001b[0;31m     \u001b[0;32mreturn\u001b[0m \u001b[0mds\u001b[0m\u001b[0;34m.\u001b[0m\u001b[0mopen\u001b[0m\u001b[0;34m(\u001b[0m\u001b[0mpath\u001b[0m\u001b[0;34m,\u001b[0m \u001b[0mmode\u001b[0m\u001b[0;34m,\u001b[0m \u001b[0mencoding\u001b[0m\u001b[0;34m=\u001b[0m\u001b[0mencoding\u001b[0m\u001b[0;34m,\u001b[0m \u001b[0mnewline\u001b[0m\u001b[0;34m=\u001b[0m\u001b[0mnewline\u001b[0m\u001b[0;34m)\u001b[0m\u001b[0;34m\u001b[0m\u001b[0;34m\u001b[0m\u001b[0m\n\u001b[0m\u001b[1;32m    267\u001b[0m \u001b[0;34m\u001b[0m\u001b[0m\n\u001b[1;32m    268\u001b[0m \u001b[0;34m\u001b[0m\u001b[0m\n",
      "\u001b[0;32m/opt/sagemath-9.0/local/lib/python3.7/site-packages/numpy/lib/_datasource.py\u001b[0m in \u001b[0;36mopen\u001b[0;34m(self, path, mode, encoding, newline)\u001b[0m\n\u001b[1;32m    622\u001b[0m                                       encoding=encoding, newline=newline)\n\u001b[1;32m    623\u001b[0m         \u001b[0;32melse\u001b[0m\u001b[0;34m:\u001b[0m\u001b[0;34m\u001b[0m\u001b[0;34m\u001b[0m\u001b[0m\n\u001b[0;32m--> 624\u001b[0;31m             \u001b[0;32mraise\u001b[0m \u001b[0mIOError\u001b[0m\u001b[0;34m(\u001b[0m\u001b[0;34m\"%s not found.\"\u001b[0m \u001b[0;34m%\u001b[0m \u001b[0mpath\u001b[0m\u001b[0;34m)\u001b[0m\u001b[0;34m\u001b[0m\u001b[0;34m\u001b[0m\u001b[0m\n\u001b[0m\u001b[1;32m    625\u001b[0m \u001b[0;34m\u001b[0m\u001b[0m\n\u001b[1;32m    626\u001b[0m \u001b[0;34m\u001b[0m\u001b[0m\n",
      "\u001b[0;31mOSError\u001b[0m: /home/matteo/ownCloud/UNITN/Tecnica-delle-Costruzioni/Esercitazione/TdC/export/var/Mmax.txt not found."
     ]
    }
   ],
   "source": [
    "Mmax = np.loadtxt('/home/matteo/ownCloud/UNITN/Tecnica-delle-Costruzioni/Esercitazione/TdC/export/var/Mmax.txt')\n",
    "Mmin = np.loadtxt('/home/matteo/ownCloud/UNITN/Tecnica-delle-Costruzioni/Esercitazione/TdC/export/var/Mmin.txt')\n",
    "MEd_slu = pd.read_csv('/home/matteo/ownCloud/UNITN/Tecnica-delle-Costruzioni/Esercitazione/TdC/export/var/MEd_slu.csv')\n",
    "MEd_slu"
   ]
  },
  {
   "cell_type": "code",
   "execution_count": null,
   "metadata": {},
   "outputs": [],
   "source": [
    "MEd = np.array([95.189448, 199.249367, 156.565614, 216.792778, 124.347537, \n",
    "#                 39.690612,\n",
    "                210.348968, 151.829401,\n",
    "#                 6.190556,\n",
    "                236.629193, 144.511198, 187.959174, 87.580801])\n",
    "MEd"
   ]
  },
  {
   "cell_type": "code",
   "execution_count": null,
   "metadata": {},
   "outputs": [],
   "source": [
    "smax = MEd_slu[['smax [m]']].to_numpy()\n",
    "smin = MEd_slu[['smin [m]']].to_numpy()\n",
    "\n",
    "smaxmin = np.sort((np.concatenate((smax, smin))).reshape(-1))\n",
    "smaxmin = np.insert(smaxmin, -1, 26.65)\n",
    "\n",
    "#ss is for plot\n",
    "ss=smaxmin\n",
    "for i in range (0, len(ss)-1):\n",
    "    if ss[i+1] - ss[i] < 0.5:\n",
    "        ss[i] = ss[i+1]\n",
    "        \n",
    "ss = pd.Series(ss).fillna(method='ffill') \n",
    "ss = ss.drop_duplicates()"
   ]
  },
  {
   "cell_type": "code",
   "execution_count": null,
   "metadata": {},
   "outputs": [],
   "source": [
    "s = np.arange(0,26.65, .001)\n",
    "fig = go.Figure()\n",
    "\n",
    "fig.add_trace(go.Scatter(\n",
    "    x = s,\n",
    "    y = Mmax,\n",
    "    name='M+',\n",
    "    line_color='#000000',\n",
    "    showlegend=False,\n",
    "    line = dict(width=1)\n",
    "))\n",
    "\n",
    "fig.add_trace(go.Scatter(\n",
    "    x = s,\n",
    "    y = Mmin,\n",
    "    name='M-',\n",
    "    line_color='#000000',\n",
    "    fill='tonexty',\n",
    "    showlegend=False,\n",
    "    line = dict(width=1)\n",
    "))\n",
    "\n",
    "fig.update_yaxes(autorange=\"reversed\")\n",
    "fig.update_traces(mode='lines')\n",
    "fig.update_layout(\n",
    "    title_text=('Inviluppo dei momenti flettenti<br>' + 'Combinazione SLU'),\n",
    "    title_x=.5,\n",
    "    autosize=True,\n",
    "    xaxis = dict(\n",
    "        tickmode='array',\n",
    "        tickvals=ss,\n",
    "        ticktext=ss,\n",
    "        title=r'$s\\,[m]$',\n",
    "    ),\n",
    "    yaxis = dict(\n",
    "        tickmode = 'linear',\n",
    "        tick0 = 0,\n",
    "        dtick = 50,\n",
    "        title=r'$M_{Ed}\\,[kN\\,m]$'\n",
    "    ),\n",
    "    xaxis_showgrid=True, \n",
    "    yaxis_showgrid=True,\n",
    ")\n",
    "\n",
    "# fig.write_image(\"Esercitazione/TdC/LaTeX/img/bendingMomentEnvelope.eps\")\n",
    "\n",
    "fig.update_yaxes(automargin=True)\n",
    "fig.show()"
   ]
  },
  {
   "cell_type": "code",
   "execution_count": null,
   "metadata": {},
   "outputs": [],
   "source": [
    "s = np.arange(0,26.65, .001)\n",
    "fig = plt.figure(figsize=(20,10))\n",
    "plt.fill(s, Mmax, linewidth='3', color='#0f0f0f80')\n",
    "plt.fill(s, Mmin, linewidth='3', color='#0f0f0f80')\n",
    "plt.xlim(s.min(), s.max())\n",
    "plt.gca().invert_yaxis()\n",
    "plt.grid()\n",
    "plt.xlabel(r'$s\\,[m]$', fontsize='14')\n",
    "plt.ylabel(r'$M_{Ed}(s)\\,[kN\\,m]$', fontsize='14')\n",
    "plt.xticks(ss)\n",
    "plt.yticks(np.arange(-300, 250, step=50))\n",
    "plt.title('Inviluppo dei Momenti Flettenti\\nCombinazione SLU', fontsize='22')\n",
    "plt.savefig('export/img/bendingMomentEnvelopeBeam_slu')\n",
    "plt.show()"
   ]
  },
  {
   "cell_type": "markdown",
   "metadata": {},
   "source": [
    "---\n",
    "## Progetto\n",
    "### Sezione maggiormante sollecitata"
   ]
  },
  {
   "cell_type": "code",
   "execution_count": 31,
   "metadata": {},
   "outputs": [],
   "source": [
    "beta, psi, xi, d, As, mylambda, x, A1s, epsilons, epsilon1s, sigmas, sigma1s, M, Phi = var('beta, psi, xi, d, As, mylambda, x, A1s, epsilons, epsilon1s, sigmas, sigma1s, M, Phi')\n"
   ]
  },
  {
   "cell_type": "code",
   "execution_count": 32,
   "metadata": {},
   "outputs": [],
   "source": [
    "fck = 25;\n",
    "alphacc = .85\n",
    "gammac = 1.5\n",
    "fcd = round(fck*alphacc/gammac,2)\n",
    "epsilonc2 = 2/1000\n",
    "epsiloncu = 3.5/1000\n",
    "#------------\n",
    "fyk = 450\n",
    "gammas = 1.15\n",
    "fyd = round(fyk/gammas,2)\n",
    "Es = 210*10**3\n",
    "epsilonse = fyd/Es\n",
    "epsilonsu = 10/1000\n",
    "#------------------\n",
    "b = 300;\n",
    "beta0 = .3\n",
    "d1 = 40\n",
    "d2 = 40\n",
    "psi23 = .80952\n",
    "lambda23 = .416\n",
    "xi23 = .2593\n",
    "\n",
    "xi2a2b = .23034\n",
    "psi2u = 1-1/3 * epsilonc2/epsilonsu * (1-xi)/xi\n",
    "lambda2u = ((6*epsilonsu**2+4*epsilonsu*epsilonc2 + epsilonc2**2)*xi**2 - 2*epsilonc2**2 *xi + epsilonc2**2 - 4*epsilonsu*epsilonc2*xi)/(4*epsilonsu*xi*((3*epsilonsu+epsilonc2)*xi-epsilonc2))\n",
    "\n",
    "psi2 = xi/(1-xi) * epsilonsu/(3*epsilonc2**2) * (3*epsilonc2 - xi/(1-xi)*epsilonsu)\n",
    "lambda2 = (4*epsilonc2-epsilonsu*xi/(1-xi))/(4*(3*epsilonc2-epsilonsu*xi/(1-xi)))"
   ]
  },
  {
   "cell_type": "code",
   "execution_count": 33,
   "metadata": {},
   "outputs": [
    {
     "data": {
      "text/plain": [
       "7"
      ]
     },
     "execution_count": 33,
     "metadata": {},
     "output_type": "execute_result"
    }
   ],
   "source": [
    "MEd.argmax()"
   ]
  },
  {
   "cell_type": "code",
   "execution_count": 34,
   "metadata": {},
   "outputs": [],
   "source": [
    "eqtd = b*psi*xi*d*fcd + beta*As*sigma1s - As*sigmas\n",
    "eqrd = b*psi*xi*d**2*fcd*(1-mylambda*xi) + beta*As*sigma1s*(d-d2) - M*10**6"
   ]
  },
  {
   "cell_type": "code",
   "execution_count": 35,
   "metadata": {},
   "outputs": [
    {
     "data": {
      "text/plain": [
       "11"
      ]
     },
     "execution_count": 35,
     "metadata": {},
     "output_type": "execute_result"
    }
   ],
   "source": [
    "len(MEd)"
   ]
  },
  {
   "cell_type": "code",
   "execution_count": 36,
   "metadata": {},
   "outputs": [
    {
     "name": "stdout",
     "output_type": "stream",
     "text": [
      "3.25771671912672*d \n",
      " 454.63301895467237\n"
     ]
    }
   ],
   "source": [
    "As00 = (solve(eqtd, As, solution_dict=True)[0][As]).subs({psi:psi23, xi:xi23, sigmas:fyd, sigma1s:fyd, beta:beta0})\n",
    "d0 = (solve(eqrd.subs({As:As00}), d, solution_dict=True)[1][d]).subs({psi:psi23, xi:xi23, sigma1s:fyd, mylambda:lambda23, M:max(MEd),beta:beta0})\n",
    "\n",
    "print(As00, '\\n',d0)"
   ]
  },
  {
   "cell_type": "code",
   "execution_count": 37,
   "metadata": {},
   "outputs": [
    {
     "data": {
      "text/plain": [
       "460"
      ]
     },
     "execution_count": 37,
     "metadata": {},
     "output_type": "execute_result"
    }
   ],
   "source": [
    "d0 = ceil((d0+d1)/10)*10 - d1\n",
    "d0"
   ]
  },
  {
   "cell_type": "code",
   "execution_count": 38,
   "metadata": {},
   "outputs": [
    {
     "data": {
      "text/plain": [
       "1498.549690798291"
      ]
     },
     "execution_count": 38,
     "metadata": {},
     "output_type": "execute_result"
    }
   ],
   "source": [
    "As0 = np.zeros(len(MEd))\n",
    "As0[np.argmax(MEd)] = As00.subs({d:d0})\n",
    "As0.max()"
   ]
  },
  {
   "cell_type": "markdown",
   "metadata": {},
   "source": [
    "Si scelgono $\\Phi 18\\,mm$"
   ]
  },
  {
   "cell_type": "code",
   "execution_count": 39,
   "metadata": {},
   "outputs": [
    {
     "data": {
      "text/plain": [
       "array([0.0, 0.0, 0.0, 0.0, 0.0, 0.0, 0.0, 162.0*pi, 0.0, 0.0, 0.0],\n",
       "      dtype=object)"
      ]
     },
     "execution_count": 39,
     "metadata": {},
     "output_type": "execute_result"
    }
   ],
   "source": [
    "var('k')\n",
    "Phi0 = 18\n",
    "nums = 0*As0\n",
    "num1s = 0*nums\n",
    "\n",
    "for i in range(len(As0)):\n",
    "    nums[i] = ceil((float(solve(k*pi*Phi0**2 /4 - As0[i], k, solution_dict=True)[0][k])))\n",
    "    \n",
    "def area(Phi):\n",
    "    return pi*Phi**2 /4\n",
    "\n",
    "As0 = area(Phi0)*nums\n",
    "\n",
    "A1s0 = As0 * beta0\n",
    "for i in range(len(As0)):\n",
    "    num1s[i] = ceil(solve(k*area(Phi0) - A1s0[i], k, solution_dict=True)[0][k])\n",
    "A1s0 = area(Phi0)*num1s\n",
    "A1s0"
   ]
  },
  {
   "cell_type": "markdown",
   "metadata": {},
   "source": [
    "### Tutte le altre sezioni"
   ]
  },
  {
   "cell_type": "code",
   "execution_count": 40,
   "metadata": {},
   "outputs": [
    {
     "name": "stdout",
     "output_type": "stream",
     "text": [
      "[ 603.2273571  1236.4032117   976.68436853 1343.15002026  780.64627207\n",
      " 1303.94121688  947.86582107 1463.84912459  903.33657789 1167.70550686\n",
      "  556.93084243] \n",
      " [3 5 4 6 4 6 4 6 4 5 3]\n"
     ]
    }
   ],
   "source": [
    "eqrd1 = b*psi*xi*d*fcd*(mylambda*xi*d - d2) - As*sigmas*(d-d2) + M*10**6\n",
    "As00 = np.zeros(len(MEd))\n",
    "nums = 0*As0\n",
    "\n",
    "for i in range (len(MEd)):\n",
    "    As00[i] = (solve(eqrd1, As, solution_dict=True)[0][As]).subs({d:d0, psi:psi23, xi:xi23, sigmas:fyd, mylambda:lambda23, M:MEd[i]})\n",
    "    nums[i] = ceil(solve(k*area(Phi0) - As00[i], k, solution_dict=True)[0][k])\n",
    "    if nums[i] < 2:\n",
    "        nums[i] = 2;\n",
    "print(As00,'\\n', nums)\n",
    "\n",
    "\n"
   ]
  },
  {
   "cell_type": "markdown",
   "metadata": {},
   "source": [
    "L'area dell'armatura tesa è"
   ]
  },
  {
   "cell_type": "code",
   "execution_count": 41,
   "metadata": {},
   "outputs": [
    {
     "data": {
      "text/latex": [
       "$\\displaystyle \\left[\\begin{matrix}243 \\pi\\\\405 \\pi\\\\324 \\pi\\\\486 \\pi\\\\324 \\pi\\\\486 \\pi\\\\324 \\pi\\\\486 \\pi\\\\324 \\pi\\\\405 \\pi\\\\243 \\pi\\end{matrix}\\right]$"
      ],
      "text/plain": [
       "Matrix([\n",
       "[243*pi],\n",
       "[405*pi],\n",
       "[324*pi],\n",
       "[486*pi],\n",
       "[324*pi],\n",
       "[486*pi],\n",
       "[324*pi],\n",
       "[486*pi],\n",
       "[324*pi],\n",
       "[405*pi],\n",
       "[243*pi]])"
      ]
     },
     "execution_count": 41,
     "metadata": {},
     "output_type": "execute_result"
    }
   ],
   "source": [
    "As0 = area(Phi0) * nums\n",
    "Matrix(As0)"
   ]
  },
  {
   "cell_type": "code",
   "execution_count": 42,
   "metadata": {},
   "outputs": [
    {
     "name": "stdout",
     "output_type": "stream",
     "text": [
      "[-445.75742646  187.41842814  -72.30041503  294.1652367  -268.33851149\n",
      "  254.95643333 -101.11896249  414.86434103 -145.64820567  118.7207233\n",
      " -492.05394113] \n",
      " [2 2 2 2 2 2 2 2 2 2 2]\n"
     ]
    }
   ],
   "source": [
    "A1s00 = np.zeros(len(MEd))\n",
    "num1s = 0*nums\n",
    "for i in range (len(MEd)):\n",
    "    A1s00[i] = (solve(eqrd, As, solution_dict=True)[0][As]).subs({beta:1, d:d0, psi:psi23, xi:xi23, sigma1s:fyd, mylambda:lambda23, M:MEd[i]})\n",
    "    num1s[i] = ceil(solve(k*area(Phi0) - A1s00[i], k, solution_dict=True)[0][k])\n",
    "    if num1s[i] < 2:\n",
    "        num1s[i] = 2;\n",
    "print(A1s00,'\\n', num1s)"
   ]
  },
  {
   "cell_type": "markdown",
   "metadata": {},
   "source": [
    "L'area dell'armatura compressa è"
   ]
  },
  {
   "cell_type": "code",
   "execution_count": 43,
   "metadata": {},
   "outputs": [
    {
     "data": {
      "text/latex": [
       "$\\displaystyle \\left[\\begin{matrix}162 \\pi\\\\162 \\pi\\\\162 \\pi\\\\162 \\pi\\\\162 \\pi\\\\162 \\pi\\\\162 \\pi\\\\162 \\pi\\\\162 \\pi\\\\162 \\pi\\\\162 \\pi\\end{matrix}\\right]$"
      ],
      "text/plain": [
       "Matrix([\n",
       "[162*pi],\n",
       "[162*pi],\n",
       "[162*pi],\n",
       "[162*pi],\n",
       "[162*pi],\n",
       "[162*pi],\n",
       "[162*pi],\n",
       "[162*pi],\n",
       "[162*pi],\n",
       "[162*pi],\n",
       "[162*pi]])"
      ]
     },
     "execution_count": 43,
     "metadata": {},
     "output_type": "execute_result"
    }
   ],
   "source": [
    "A1s0 = area(Phi0) * num1s\n",
    "Matrix(A1s0)"
   ]
  },
  {
   "cell_type": "markdown",
   "metadata": {},
   "source": [
    "---\n",
    "## Verifica"
   ]
  },
  {
   "cell_type": "code",
   "execution_count": 44,
   "metadata": {},
   "outputs": [
    {
     "name": "stdout",
     "output_type": "stream",
     "text": [
      "1 :\n",
      " Ipotesi di campo 3 errata! La sezione è in campo 2.Ipotesi di campo 2b (armatura compressa snervata) con epsilon_c > epsilon_c2\n",
      "\n",
      "Ipotesi sul campo deformativo del cls errata!\tDifferenza: -0.0007610354992457417 \n",
      "\n",
      "Ipotesi di campo 2b errata! La sezione è in campo 2a con armature compresse in campo elastico!\n",
      "\n",
      "Ipotesi sul campo deformativo del cls errata!\tDifferenza: -8.535889318326043e-05 \n",
      "\n",
      "2 :\n",
      " Ipotesi di campo 3 errata! La sezione è in campo 2.Ipotesi di campo 2b (armatura compressa snervata) con epsilon_c > epsilon_c2\n",
      "\n",
      "Ipotesi di campo 2b errata! La sezione è in campo 2a con armature compresse in campo elastico!\n",
      "\n",
      "3 :\n",
      " Ipotesi di campo 3 errata! La sezione è in campo 2.Ipotesi di campo 2b (armatura compressa snervata) con epsilon_c > epsilon_c2\n",
      "\n",
      "Ipotesi sul campo deformativo del cls errata!\tDifferenza: -0.00012384508666542162 \n",
      "\n",
      "Ipotesi di campo 2b errata! La sezione è in campo 2a con armature compresse in campo elastico!\n",
      "\n",
      "4 :\n",
      " Ipotesi di campo 3 errata! La sezione è in campo 2.Ipotesi di campo 2b (armatura compressa snervata) con epsilon_c > epsilon_c2\n",
      "\n",
      "Ipotesi di campo 2b corretta. Le armature compresse sono snervate.\n",
      "\n",
      "5 :\n",
      " Ipotesi di campo 3 errata! La sezione è in campo 2.Ipotesi di campo 2b (armatura compressa snervata) con epsilon_c > epsilon_c2\n",
      "\n",
      "Ipotesi sul campo deformativo del cls errata!\tDifferenza: -0.00012384508666542162 \n",
      "\n",
      "Ipotesi di campo 2b errata! La sezione è in campo 2a con armature compresse in campo elastico!\n",
      "\n",
      "6 :\n",
      " Ipotesi di campo 3 errata! La sezione è in campo 2.Ipotesi di campo 2b (armatura compressa snervata) con epsilon_c > epsilon_c2\n",
      "\n",
      "Ipotesi di campo 2b corretta. Le armature compresse sono snervate.\n",
      "\n",
      "7 :\n",
      " Ipotesi di campo 3 errata! La sezione è in campo 2.Ipotesi di campo 2b (armatura compressa snervata) con epsilon_c > epsilon_c2\n",
      "\n",
      "Ipotesi sul campo deformativo del cls errata!\tDifferenza: -0.00012384508666542162 \n",
      "\n",
      "Ipotesi di campo 2b errata! La sezione è in campo 2a con armature compresse in campo elastico!\n",
      "\n",
      "8 :\n",
      " Ipotesi di campo 3 errata! La sezione è in campo 2.Ipotesi di campo 2b (armatura compressa snervata) con epsilon_c > epsilon_c2\n",
      "\n",
      "Ipotesi di campo 2b corretta. Le armature compresse sono snervate.\n",
      "\n",
      "9 :\n",
      " Ipotesi di campo 3 errata! La sezione è in campo 2.Ipotesi di campo 2b (armatura compressa snervata) con epsilon_c > epsilon_c2\n",
      "\n",
      "Ipotesi sul campo deformativo del cls errata!\tDifferenza: -0.00012384508666542162 \n",
      "\n",
      "Ipotesi di campo 2b errata! La sezione è in campo 2a con armature compresse in campo elastico!\n",
      "\n",
      "10 :\n",
      " Ipotesi di campo 3 errata! La sezione è in campo 2.Ipotesi di campo 2b (armatura compressa snervata) con epsilon_c > epsilon_c2\n",
      "\n",
      "Ipotesi di campo 2b errata! La sezione è in campo 2a con armature compresse in campo elastico!\n",
      "\n",
      "11 :\n",
      " Ipotesi di campo 3 errata! La sezione è in campo 2.Ipotesi di campo 2b (armatura compressa snervata) con epsilon_c > epsilon_c2\n",
      "\n",
      "Ipotesi sul campo deformativo del cls errata!\tDifferenza: -0.0007610354992457417 \n",
      "\n",
      "Ipotesi di campo 2b errata! La sezione è in campo 2a con armature compresse in campo elastico!\n",
      "\n",
      "Ipotesi sul campo deformativo del cls errata!\tDifferenza: -8.535889318326043e-05 \n",
      "\n"
     ]
    }
   ],
   "source": [
    "eqt = b*psi*xi*d*fcd + A1s*sigma1s - As*sigmas\n",
    "eqr = b*psi*xi*d**2*fcd*(1-mylambda*xi) + A1s*sigma1s*(d-d2) - M*10**6\n",
    "xid = np.zeros(len(MEd))\n",
    "epsilonc = np.zeros(len(MEd))\n",
    "\n",
    "for i in range (len(MEd)):\n",
    "    xid[i] = (n((solve(eqt, xi, solution_dict=True)[0][xi]).subs({psi:psi23, d:d0, A1s:A1s0[i], sigma1s:fyd, sigmas:fyd, As:As0[i]})))\n",
    "    if xid[i] < xi23:\n",
    "        print(i+1,':\\n','Ipotesi di campo 3 errata! La sezione è in campo 2.Ipotesi di campo 2b (armatura compressa snervata) con epsilon_c > epsilon_c2\\n') \n",
    "        xid[i] = (n((solve(eqt.subs({psi:psi2u}), xi, solution_dict=True)[0][xi]).subs({ d:d0, A1s:A1s0[i], sigma1s:fyd, sigmas:fyd, As:As0[i]})))\n",
    "        epsilonc[i] = epsilonsu * xid[i]/(1-xid[i])\n",
    "        if epsilonc[i] < epsilonc2:\n",
    "            print('Ipotesi sul campo deformativo del cls errata!\\tDifferenza:',epsilonc[i]-epsilonc2,'\\n')\n",
    "            xid[i] = (n((solve(eqt.subs({psi:psi2}), xi, solution_dict=True)[0][xi]).subs({ d:d0, A1s:A1s0[i], sigma1s:fyd, sigmas:fyd, As:As0[i]}))).real()\n",
    "        if xid[i] > xi2a2b and xid[i] < xi23:\n",
    "            print('Ipotesi di campo 2b corretta. Le armature compresse sono snervate.\\n')\n",
    "        elif xid[i] < xi2a2b:\n",
    "            print('Ipotesi di campo 2b errata! La sezione è in campo 2a con armature compresse in campo elastico!\\n')\n",
    "            xid[i] = n(solve(eqt.subs({psi:psi2u, d:d0, A1s:A1s0[i], sigma1s:Es*epsilonsu*(xi-d2/d0)/(1-xi), As:As0[i], sigmas:fyd}), xi, solution_dict=True)[0][xi])\n",
    "            epsilonc[i] = epsilonsu * xid[i]/(1-xid[i])\n",
    "            if epsilonc[i] < epsilonc2:\n",
    "                xid[i] = n(solve(eqt.subs({psi:psi2, d:d0, A1s:A1s0[i], sigma1s:Es*epsilonsu*(xi-d2/d0)/(1-xi), As:As0[i], sigmas:fyd}), xi, solution_dict=True)[0][xi]).real()\n",
    "                print('Ipotesi sul campo deformativo del cls errata!\\tDifferenza:',epsilonc[i]-epsilonc2,'\\n')\n",
    "            if xid[i] > xi2a2b:\n",
    "                print('Verifica la deformazione del cls!\\n')\n",
    "    elif xid[i] >= xi23:\n",
    "        print('Ipotesi di campo 3 corretta')"
   ]
  },
  {
   "cell_type": "markdown",
   "metadata": {},
   "source": [
    "La deformazione del calcestruzzo al lembo superiore è"
   ]
  },
  {
   "cell_type": "code",
   "execution_count": 45,
   "metadata": {},
   "outputs": [
    {
     "data": {
      "text/latex": [
       "$\\displaystyle \\left[\\begin{matrix}0.160694044934078\\\\0.216484184604169\\\\0.188989066769714\\\\0.253453257098057\\\\0.188989066769714\\\\0.253453257098057\\\\0.188989066769714\\\\0.253453257098057\\\\0.188989066769714\\\\0.216484184604169\\\\0.160694044934078\\end{matrix}\\right]$"
      ],
      "text/plain": [
       "Matrix([\n",
       "[0.160694044934078],\n",
       "[0.216484184604169],\n",
       "[0.188989066769714],\n",
       "[0.253453257098057],\n",
       "[0.188989066769714],\n",
       "[0.253453257098057],\n",
       "[0.188989066769714],\n",
       "[0.253453257098057],\n",
       "[0.188989066769714],\n",
       "[0.216484184604169],\n",
       "[0.160694044934078]])"
      ]
     },
     "execution_count": 45,
     "metadata": {},
     "output_type": "execute_result"
    }
   ],
   "source": [
    "Matrix(xid)"
   ]
  },
  {
   "cell_type": "code",
   "execution_count": 46,
   "metadata": {},
   "outputs": [
    {
     "data": {
      "text/latex": [
       "$\\displaystyle \\left[\\begin{matrix}0.00191464110681674\\\\0.00276298423529334\\\\0.00233029000012323\\\\0.0033950085444462\\\\0.00233029000012323\\\\0.0033950085444462\\\\0.00233029000012323\\\\0.0033950085444462\\\\0.00233029000012323\\\\0.00276298423529334\\\\0.00191464110681674\\end{matrix}\\right]$"
      ],
      "text/plain": [
       "Matrix([\n",
       "[0.00191464110681674],\n",
       "[0.00276298423529334],\n",
       "[0.00233029000012323],\n",
       "[ 0.0033950085444462],\n",
       "[0.00233029000012323],\n",
       "[ 0.0033950085444462],\n",
       "[0.00233029000012323],\n",
       "[ 0.0033950085444462],\n",
       "[0.00233029000012323],\n",
       "[0.00276298423529334],\n",
       "[0.00191464110681674]])"
      ]
     },
     "execution_count": 46,
     "metadata": {},
     "output_type": "execute_result"
    }
   ],
   "source": [
    "Matrix(epsilonc)"
   ]
  },
  {
   "cell_type": "code",
   "execution_count": 47,
   "metadata": {},
   "outputs": [
    {
     "data": {
      "text/latex": [
       "$\\displaystyle \\left[\\begin{matrix}128.017743479862\\\\209.205097776342\\\\168.992537358972\\\\247.641544543623\\\\168.992537358972\\\\247.641544543623\\\\168.992537358972\\\\247.641544543623\\\\168.992537358972\\\\209.205097776342\\\\128.017743479862\\end{matrix}\\right]$"
      ],
      "text/plain": [
       "Matrix([\n",
       "[128.017743479862],\n",
       "[209.205097776342],\n",
       "[168.992537358972],\n",
       "[247.641544543623],\n",
       "[168.992537358972],\n",
       "[247.641544543623],\n",
       "[168.992537358972],\n",
       "[247.641544543623],\n",
       "[168.992537358972],\n",
       "[209.205097776342],\n",
       "[128.017743479862]])"
      ]
     },
     "execution_count": 47,
     "metadata": {},
     "output_type": "execute_result"
    }
   ],
   "source": [
    "MRd_pos = np.zeros(len(xid))\n",
    "\n",
    "for i in range (len(xid)):\n",
    "    if xid[i] >= xi23 and epsilonc[i] > epsilonc2 and epsilonc[i] < epsiloncu:\n",
    "        MRd_pos[i] = (n(solve(eqr.subs({psi:psi23, xi:xid[i], d:d0, mylambda:lambda23, A1s:A1s0[i], sigma1s:fyd, As:As0[i], sigmas:fyd}), M, solution_dict=True)[0][M].subs({xi:xid[i]})))\n",
    "    elif xid[i] < xi23 and xid[i] > xi2a2b and epsilonc[i] > epsilonc2 and epsilonc[i] < epsiloncu:\n",
    "        MRd_pos[i] = (n(solve(eqr.subs({psi:psi2u, xi:xid[i], d:d0, mylambda:lambda2u, A1s:A1s0[i], sigma1s:fyd, As:As0[i], sigmas:fyd}), M, solution_dict=True)[0][M].subs({xi:xid[i]})))\n",
    "    elif xid[i] < xi2a2b and epsilonc[i] > epsilonc2 and epsilonc[i] < epsiloncu:\n",
    "        MRd_pos[i] = (n(solve(eqr.subs({psi:psi2u, xi:xid[i], d:d0, mylambda:lambda2u, A1s:A1s0[i], sigma1s:Es*epsilonsu*(xid[i] - d2/d0)/(1-xid[i]), As:As0[i], sigmas:fyd}), M, solution_dict=True)[0][M].subs({xi:xid[i]})))\n",
    "    elif xid[i] < xi23 and xid[i] > xi2a2b and epsilonc[i] < epsilonc2:\n",
    "        MRd_pos[i] = (n(solve(eqr.subs({psi:psi2, xi:xid[i], d:d0, mylambda:lambda2, A1s:A1s0[i], sigma1s:fyd, As:As0[i], sigmas:fyd}), M, solution_dict=True)[0][M].subs({xi:xid[i]})))  \n",
    "    elif xid[i] < xi2a2b and epsilonc[i] < epsilonc2:\n",
    "        MRd_pos[i] = (n(solve(eqr.subs({psi:psi2, xi:xid[i], d:d0, mylambda:lambda2, A1s:A1s0[i], sigma1s:Es*epsilonsu*(xid[i] - d2/d0)/(1-xid[i]), As:As0[i], sigmas:fyd}), M, solution_dict=True)[0][M].subs({xi:xid[i]})))\n",
    "\n",
    "Matrix(MRd_pos)"
   ]
  },
  {
   "cell_type": "code",
   "execution_count": 48,
   "metadata": {},
   "outputs": [
    {
     "name": "stdout",
     "output_type": "stream",
     "text": [
      "1 :\n",
      " Ipotesi di campo 3 errata! La sezione è in campo 2.Ipotesi di campo 2b (armatura compressa snervata) con epsilon_c > epsilon_c2\n",
      "\n",
      "Ipotesi sul campo deformativo del cls errata!\tDifferenza: -0.0018501714203394992 \n",
      "\n",
      "Ipotesi di campo 2b errata! La sezione è in campo 2a con armature compresse in campo elastico!\n",
      "\n",
      "Ipotesi sul campo deformativo del cls errata!\tDifferenza: -0.0005744305242395514 \n",
      "\n",
      "2 :\n",
      " Ipotesi di campo 3 errata! La sezione è in campo 2.Ipotesi di campo 2b (armatura compressa snervata) con epsilon_c > epsilon_c2\n",
      "\n",
      "Ipotesi sul campo deformativo del cls errata!\tDifferenza: -0.002746866168174395 \n",
      "\n",
      "Ipotesi di campo 2b errata! La sezione è in campo 2a con armature compresse in campo elastico!\n",
      "\n",
      "Ipotesi sul campo deformativo del cls errata!\tDifferenza: -0.0006883459725246508 \n",
      "\n",
      "3 :\n",
      " Ipotesi di campo 3 errata! La sezione è in campo 2.Ipotesi di campo 2b (armatura compressa snervata) con epsilon_c > epsilon_c2\n",
      "\n",
      "Ipotesi sul campo deformativo del cls errata!\tDifferenza: -0.002319238864052029 \n",
      "\n",
      "Ipotesi di campo 2b errata! La sezione è in campo 2a con armature compresse in campo elastico!\n",
      "\n",
      "Ipotesi sul campo deformativo del cls errata!\tDifferenza: -0.000639309194501039 \n",
      "\n",
      "4 :\n",
      " Ipotesi di campo 3 errata! La sezione è in campo 2.Ipotesi di campo 2b (armatura compressa snervata) con epsilon_c > epsilon_c2\n",
      "\n",
      "Ipotesi sul campo deformativo del cls errata!\tDifferenza: -0.0031383126087861993 \n",
      "\n",
      "Ipotesi di campo 2b errata! La sezione è in campo 2a con armature compresse in campo elastico!\n",
      "\n",
      "Ipotesi sul campo deformativo del cls errata!\tDifferenza: -0.0007267609968229312 \n",
      "\n",
      "5 :\n",
      " Ipotesi di campo 3 errata! La sezione è in campo 2.Ipotesi di campo 2b (armatura compressa snervata) con epsilon_c > epsilon_c2\n",
      "\n",
      "Ipotesi sul campo deformativo del cls errata!\tDifferenza: -0.002319238864052029 \n",
      "\n",
      "Ipotesi di campo 2b errata! La sezione è in campo 2a con armature compresse in campo elastico!\n",
      "\n",
      "Ipotesi sul campo deformativo del cls errata!\tDifferenza: -0.000639309194501039 \n",
      "\n",
      "6 :\n",
      " Ipotesi di campo 3 errata! La sezione è in campo 2.Ipotesi di campo 2b (armatura compressa snervata) con epsilon_c > epsilon_c2\n",
      "\n",
      "Ipotesi sul campo deformativo del cls errata!\tDifferenza: -0.0031383126087861993 \n",
      "\n",
      "Ipotesi di campo 2b errata! La sezione è in campo 2a con armature compresse in campo elastico!\n",
      "\n",
      "Ipotesi sul campo deformativo del cls errata!\tDifferenza: -0.0007267609968229312 \n",
      "\n",
      "7 :\n",
      " Ipotesi di campo 3 errata! La sezione è in campo 2.Ipotesi di campo 2b (armatura compressa snervata) con epsilon_c > epsilon_c2\n",
      "\n",
      "Ipotesi sul campo deformativo del cls errata!\tDifferenza: -0.002319238864052029 \n",
      "\n",
      "Ipotesi di campo 2b errata! La sezione è in campo 2a con armature compresse in campo elastico!\n",
      "\n",
      "Ipotesi sul campo deformativo del cls errata!\tDifferenza: -0.000639309194501039 \n",
      "\n",
      "8 :\n",
      " Ipotesi di campo 3 errata! La sezione è in campo 2.Ipotesi di campo 2b (armatura compressa snervata) con epsilon_c > epsilon_c2\n",
      "\n",
      "Ipotesi sul campo deformativo del cls errata!\tDifferenza: -0.0031383126087861993 \n",
      "\n",
      "Ipotesi di campo 2b errata! La sezione è in campo 2a con armature compresse in campo elastico!\n",
      "\n",
      "Ipotesi sul campo deformativo del cls errata!\tDifferenza: -0.0007267609968229312 \n",
      "\n",
      "9 :\n",
      " Ipotesi di campo 3 errata! La sezione è in campo 2.Ipotesi di campo 2b (armatura compressa snervata) con epsilon_c > epsilon_c2\n",
      "\n",
      "Ipotesi sul campo deformativo del cls errata!\tDifferenza: -0.002319238864052029 \n",
      "\n",
      "Ipotesi di campo 2b errata! La sezione è in campo 2a con armature compresse in campo elastico!\n",
      "\n",
      "Ipotesi sul campo deformativo del cls errata!\tDifferenza: -0.000639309194501039 \n",
      "\n",
      "10 :\n",
      " Ipotesi di campo 3 errata! La sezione è in campo 2.Ipotesi di campo 2b (armatura compressa snervata) con epsilon_c > epsilon_c2\n",
      "\n",
      "Ipotesi sul campo deformativo del cls errata!\tDifferenza: -0.002746866168174395 \n",
      "\n",
      "Ipotesi di campo 2b errata! La sezione è in campo 2a con armature compresse in campo elastico!\n",
      "\n",
      "Ipotesi sul campo deformativo del cls errata!\tDifferenza: -0.0006883459725246508 \n",
      "\n",
      "11 :\n",
      " Ipotesi di campo 3 errata! La sezione è in campo 2.Ipotesi di campo 2b (armatura compressa snervata) con epsilon_c > epsilon_c2\n",
      "\n",
      "Ipotesi sul campo deformativo del cls errata!\tDifferenza: -0.0018501714203394992 \n",
      "\n",
      "Ipotesi di campo 2b errata! La sezione è in campo 2a con armature compresse in campo elastico!\n",
      "\n",
      "Ipotesi sul campo deformativo del cls errata!\tDifferenza: -0.0005744305242395514 \n",
      "\n"
     ]
    }
   ],
   "source": [
    "for i in range (len(MEd)):\n",
    "    xid[i] = (n((solve(eqt, xi, solution_dict=True)[0][xi]).subs({psi:psi23, d:d0, A1s:As0[i], sigma1s:fyd, sigmas:fyd, As:A1s0[i]})))\n",
    "    if xid[i] < xi23:\n",
    "        print(i+1,':\\n','Ipotesi di campo 3 errata! La sezione è in campo 2.Ipotesi di campo 2b (armatura compressa snervata) con epsilon_c > epsilon_c2\\n') \n",
    "        xid[i] = (n((solve(eqt.subs({psi:psi2u}), xi, solution_dict=True)[0][xi]).subs({ d:d0, A1s:As0[i], sigma1s:fyd, sigmas:fyd, As:A1s0[i]})))\n",
    "        epsilonc[i] = epsilonsu * xid[i]/(1-xid[i])\n",
    "        if epsilonc[i] < epsilonc2:\n",
    "            print('Ipotesi sul campo deformativo del cls errata!\\tDifferenza:',epsilonc[i]-epsilonc2,'\\n')\n",
    "            xid[i] = (n((solve(eqt.subs({psi:psi2}), xi, solution_dict=True)[0][xi]).subs({ d:d0, A1s:As0[i], sigma1s:fyd, sigmas:fyd, As:A1s0[i]}))).real()\n",
    "        if xid[i] > xi2a2b and xid[i] < xi23:\n",
    "            print('Ipotesi di campo 2b corretta. Le armature compresse sono snervate.\\n')\n",
    "        elif xid[i] < xi2a2b:\n",
    "            print('Ipotesi di campo 2b errata! La sezione è in campo 2a con armature compresse in campo elastico!\\n')\n",
    "            xid[i] = n(solve(eqt.subs({psi:psi2u, d:d0, A1s:As0[i], sigma1s:Es*epsilonsu*(xi-d2/d0)/(1-xi), As:A1s0[i], sigmas:fyd}), xi, solution_dict=True)[0][xi])\n",
    "            epsilonc[i] = epsilonsu * xid[i]/(1-xid[i])\n",
    "            if epsilonc[i] < epsilonc2:\n",
    "                xid[i] = n(solve(eqt.subs({psi:psi2, d:d0, A1s:As0[i], sigma1s:Es*epsilonsu*(xi-d2/d0)/(1-xi), As:A1s0[i], sigmas:fyd}), xi, solution_dict=True)[0][xi]).real()\n",
    "                print('Ipotesi sul campo deformativo del cls errata!\\tDifferenza:',epsilonc[i]-epsilonc2,'\\n')\n",
    "            if xid[i] > xi2a2b:\n",
    "                print('Verifica la deformazione del cls!\\n')\n",
    "    elif xid[i] >= xi23:\n",
    "        print('Ipotesi di campo 3 corretta')"
   ]
  },
  {
   "cell_type": "code",
   "execution_count": 49,
   "metadata": {},
   "outputs": [
    {
     "data": {
      "text/latex": [
       "$\\displaystyle \\left[\\begin{matrix}86.2021912782463\\\\86.0626787358224\\\\86.1282573309842\\\\86.0060036033127\\\\86.1282573309842\\\\86.0060036033127\\\\86.1282573309842\\\\86.0060036033127\\\\86.1282573309842\\\\86.0626787358224\\\\86.2021912782463\\end{matrix}\\right]$"
      ],
      "text/plain": [
       "Matrix([\n",
       "[86.2021912782463],\n",
       "[86.0626787358224],\n",
       "[86.1282573309842],\n",
       "[86.0060036033127],\n",
       "[86.1282573309842],\n",
       "[86.0060036033127],\n",
       "[86.1282573309842],\n",
       "[86.0060036033127],\n",
       "[86.1282573309842],\n",
       "[86.0626787358224],\n",
       "[86.2021912782463]])"
      ]
     },
     "execution_count": 49,
     "metadata": {},
     "output_type": "execute_result"
    }
   ],
   "source": [
    "MRd_neg = np.zeros(len(xid))\n",
    "\n",
    "for i in range (len(xid)):\n",
    "    if xid[i] >= xi23 and epsilonc[i] > epsilonc2 and epsilonc[i] < epsiloncu:\n",
    "        MRd_neg[i] = (n(solve(eqrd1.subs({psi:psi23, xi:xid[i], d:d0, mylambda:lambda23, A1s:As0[i], sigma1s:fyd, As:A1s0[i], sigmas:fyd}), M, solution_dict=True)[0][M].subs({xi:xid[i]})))\n",
    "    elif xid[i] < xi23 and xid[i] > xi2a2b and epsilonc[i] > epsilonc2 and epsilonc[i] < epsiloncu:\n",
    "        MRd_neg[i] = (n(solve(eqrd1.subs({psi:psi2u, xi:xid[i], d:d0, mylambda:lambda2u, A1s:As0[i], sigma1s:fyd, As:A1s0[i], sigmas:fyd}), M, solution_dict=True)[0][M].subs({xi:xid[i]})))\n",
    "    elif xid[i] < xi2a2b and epsilonc[i] > epsilonc2 and epsilonc[i] < epsiloncu:\n",
    "        MRd_neg[i] = (n(solve(eqrd1.subs({psi:psi2u, xi:xid[i], d:d0, mylambda:lambda2u, A1s:As0[i], sigma1s:Es*epsilonsu*(xid[i] - d2/d0)/(1-xid[i]), As:A1s0[i], sigmas:fyd}), M, solution_dict=True)[0][M].subs({xi:xid[i]})))\n",
    "    elif xid[i] < xi23 and xid[i] > xi2a2b and epsilonc[i] < epsilonc2:\n",
    "        MRd_neg[i] = (n(solve(eqrd1.subs({psi:psi2, xi:xid[i], d:d0, mylambda:lambda2, A1s:As0[i], sigma1s:fyd, As:A1s0[i], sigmas:fyd}), M, solution_dict=True)[0][M].subs({xi:xid[i]})))  \n",
    "    elif xid[i] < xi2a2b and epsilonc[i] < epsilonc2:\n",
    "        MRd_neg[i] = (n(solve(eqrd1.subs({psi:psi2, xi:xid[i], d:d0, mylambda:lambda2, A1s:As0[i], sigma1s:Es*epsilonsu*(xid[i] - d2/d0)/(1-xid[i]), As:A1s0[i], sigmas:fyd}), M, solution_dict=True)[0][M].subs({xi:xid[i]})))\n",
    "\n",
    "Matrix(MRd_neg)"
   ]
  },
  {
   "cell_type": "code",
   "execution_count": 50,
   "metadata": {},
   "outputs": [
    {
     "data": {
      "text/plain": [
       "array([ True,  True,  True,  True,  True,  True,  True,  True,  True,\n",
       "        True,  True])"
      ]
     },
     "execution_count": 50,
     "metadata": {},
     "output_type": "execute_result"
    }
   ],
   "source": [
    "MRd_pos > MEd"
   ]
  },
  {
   "cell_type": "markdown",
   "metadata": {},
   "source": [
    "---\n",
    "## Traslazione del diagramma dei momenti flettenti"
   ]
  },
  {
   "cell_type": "code",
   "execution_count": null,
   "metadata": {},
   "outputs": [],
   "source": []
  }
 ],
 "metadata": {
  "kernelspec": {
   "display_name": "Python 3",
   "language": "python",
   "name": "python3"
  },
  "language_info": {
   "codemirror_mode": {
    "name": "ipython",
    "version": 3
   },
   "file_extension": ".py",
   "mimetype": "text/x-python",
   "name": "python",
   "nbconvert_exporter": "python",
   "pygments_lexer": "ipython3",
   "version": "3.8.3"
  }
 },
 "nbformat": 4,
 "nbformat_minor": 4
}
