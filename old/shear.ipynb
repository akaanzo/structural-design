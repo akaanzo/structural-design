{
 "cells": [
  {
   "cell_type": "markdown",
   "metadata": {},
   "source": [
    "# Progetto e Verifica a Taglio\n",
    "---"
   ]
  },
  {
   "cell_type": "code",
   "execution_count": 558,
   "metadata": {},
   "outputs": [],
   "source": [
    "from sage.symbolic.substitution_map import make_map\n",
    "from plotly import graph_objects as go\n",
    "import numpy as np\n",
    "import matplotlib.pyplot as plt\n",
    "from sklearn import datasets\n",
    "import pandas as pd"
   ]
  },
  {
   "cell_type": "code",
   "execution_count": 559,
   "metadata": {},
   "outputs": [
    {
     "data": {
      "text/html": [
       "<div>\n",
       "<style scoped>\n",
       "    .dataframe tbody tr th:only-of-type {\n",
       "        vertical-align: middle;\n",
       "    }\n",
       "\n",
       "    .dataframe tbody tr th {\n",
       "        vertical-align: top;\n",
       "    }\n",
       "\n",
       "    .dataframe thead th {\n",
       "        text-align: right;\n",
       "    }\n",
       "</style>\n",
       "<table border=\"1\" class=\"dataframe\">\n",
       "  <thead>\n",
       "    <tr style=\"text-align: right;\">\n",
       "      <th></th>\n",
       "      <th>Section</th>\n",
       "      <th>TEd+ [kN]</th>\n",
       "      <th>smax [m]</th>\n",
       "      <th>TEd- [kN]</th>\n",
       "      <th>smin [m]</th>\n",
       "    </tr>\n",
       "  </thead>\n",
       "  <tbody>\n",
       "    <tr>\n",
       "      <th>0</th>\n",
       "      <td>N1</td>\n",
       "      <td>150.590167</td>\n",
       "      <td>0.00</td>\n",
       "      <td>0.000000</td>\n",
       "      <td>0.00</td>\n",
       "    </tr>\n",
       "    <tr>\n",
       "      <th>1</th>\n",
       "      <td>N2</td>\n",
       "      <td>286.437347</td>\n",
       "      <td>3.00</td>\n",
       "      <td>-245.457255</td>\n",
       "      <td>3.00</td>\n",
       "    </tr>\n",
       "    <tr>\n",
       "      <th>2</th>\n",
       "      <td>N3</td>\n",
       "      <td>272.636139</td>\n",
       "      <td>7.50</td>\n",
       "      <td>-286.334051</td>\n",
       "      <td>7.50</td>\n",
       "    </tr>\n",
       "    <tr>\n",
       "      <th>3</th>\n",
       "      <td>N4</td>\n",
       "      <td>266.790145</td>\n",
       "      <td>11.50</td>\n",
       "      <td>-266.497699</td>\n",
       "      <td>11.50</td>\n",
       "    </tr>\n",
       "    <tr>\n",
       "      <th>4</th>\n",
       "      <td>N5</td>\n",
       "      <td>246.693151</td>\n",
       "      <td>16.50</td>\n",
       "      <td>-261.914745</td>\n",
       "      <td>16.50</td>\n",
       "    </tr>\n",
       "    <tr>\n",
       "      <th>5</th>\n",
       "      <td>N6</td>\n",
       "      <td>208.848422</td>\n",
       "      <td>22.65</td>\n",
       "      <td>-202.221517</td>\n",
       "      <td>22.65</td>\n",
       "    </tr>\n",
       "    <tr>\n",
       "      <th>6</th>\n",
       "      <td>N7</td>\n",
       "      <td>0.000000</td>\n",
       "      <td>26.65</td>\n",
       "      <td>-105.286297</td>\n",
       "      <td>26.65</td>\n",
       "    </tr>\n",
       "  </tbody>\n",
       "</table>\n",
       "</div>"
      ],
      "text/plain": [
       "  Section   TEd+ [kN]  smax [m]   TEd- [kN]  smin [m]\n",
       "0      N1  150.590167      0.00    0.000000      0.00\n",
       "1      N2  286.437347      3.00 -245.457255      3.00\n",
       "2      N3  272.636139      7.50 -286.334051      7.50\n",
       "3      N4  266.790145     11.50 -266.497699     11.50\n",
       "4      N5  246.693151     16.50 -261.914745     16.50\n",
       "5      N6  208.848422     22.65 -202.221517     22.65\n",
       "6      N7    0.000000     26.65 -105.286297     26.65"
      ]
     },
     "execution_count": 559,
     "metadata": {},
     "output_type": "execute_result"
    }
   ],
   "source": [
    "# %store -r Tmax\n",
    "# %store -r Tmin \n",
    "# %store -r TEd\n",
    "# TEd\n",
    "\n",
    "Vmax = np.loadtxt('/home/matteo/ownCloud/UNITN/Tecnica-delle-Costruzioni/Esercitazione/TdC/export/var/Vmax.txt')\n",
    "Vmin = np.loadtxt('/home/matteo/ownCloud/UNITN/Tecnica-delle-Costruzioni/Esercitazione/TdC/export/var/Vmin.txt')\n",
    "VEd_slu = pd.read_csv('/home/matteo/ownCloud/UNITN/Tecnica-delle-Costruzioni/Esercitazione/TdC/export/var/VEd_slu.csv')\n",
    "VEd_slu"
   ]
  },
  {
   "cell_type": "code",
   "execution_count": 560,
   "metadata": {},
   "outputs": [],
   "source": [
    "cot_theta, Asw, s, rho_l, theta = var('cot_theta, Asw, s, rho_l, theta')\n",
    "d = 460;\n",
    "gammac = 1.5\n",
    "fck = 450;\n",
    "fyd = round(fck/1.15,2);\n",
    "fck = 25;\n",
    "fcd = .85*fck/gammac;\n",
    "b = 300;\n",
    "Phi_l = 18; #mm\n"
   ]
  },
  {
   "cell_type": "code",
   "execution_count": 638,
   "metadata": {},
   "outputs": [
    {
     "data": {
      "text/plain": [
       "12"
      ]
     },
     "execution_count": 638,
     "metadata": {},
     "output_type": "execute_result"
    }
   ],
   "source": [
    "VEd = [150.59, 245.457, 286.437, 286.33, 272.636, 266.498, 266.79, 261.915, 246.693, 202.222, 208.848, 105.286];\n",
    "len(VEd)"
   ]
  },
  {
   "cell_type": "code",
   "execution_count": 639,
   "metadata": {},
   "outputs": [],
   "source": [
    "def area(diam):\n",
    "    area = float(pi*diam**2 /4)\n",
    "    return area\n",
    "\n",
    "def deg(rad):\n",
    "    deg = float(rad*180/pi)\n",
    "    return deg\n",
    "\n",
    "def rad(deg):\n",
    "    rad = float(deg*pi/180)\n",
    "    return rad"
   ]
  },
  {
   "cell_type": "markdown",
   "metadata": {},
   "source": [
    "---\n",
    "## Sezione non armata a taglio"
   ]
  },
  {
   "cell_type": "code",
   "execution_count": 640,
   "metadata": {},
   "outputs": [
    {
     "data": {
      "text/plain": [
       "[0.0017608695652173913*pi,\n",
       " 0.002934782608695652*pi,\n",
       " 0.002934782608695652*pi,\n",
       " 0.0035217391304347826*pi,\n",
       " 0.0035217391304347826*pi,\n",
       " 0.0035217391304347826*pi,\n",
       " 0.0035217391304347826*pi,\n",
       " 0.0035217391304347826*pi,\n",
       " 0.0035217391304347826*pi,\n",
       " 0.002934782608695652*pi,\n",
       " 0.002934782608695652*pi,\n",
       " 0.002934782608695652*pi]"
      ]
     },
     "execution_count": 640,
     "metadata": {},
     "output_type": "execute_result"
    }
   ],
   "source": [
    "rho_l = 1/(b*d) *np.array([243*pi, 405*pi, 405*pi, 486*pi, 486*pi, 486*pi, 486*pi, 486*pi, 486*pi, 405*pi, 405*pi, 405*pi])\n",
    "rho_l = rho_l.tolist()\n",
    "rho_l"
   ]
  },
  {
   "cell_type": "code",
   "execution_count": 641,
   "metadata": {},
   "outputs": [
    {
     "data": {
      "text/plain": [
       "array([65.95969881, 78.20387036, 78.20387036, 83.10401298, 83.10401298,\n",
       "       83.10401298, 83.10401298, 83.10401298, 83.10401298, 78.20387036,\n",
       "       78.20387036, 78.20387036])"
      ]
     },
     "execution_count": 641,
     "metadata": {},
     "output_type": "execute_result"
    }
   ],
   "source": [
    "VRdc = np.zeros(len(rho_l))\n",
    "for i in range (0, len(rho_l)):\n",
    "    VRdc[i] = max(.18*min(1+(200/d)**(1/2), 2) * (100*rho_l[i]*fck)**(1/3) /gammac * b*d, .035*min(1+(200/d)**(1/2), 2)*fck**(1/2))/1000\n",
    "\n",
    "VRdc"
   ]
  },
  {
   "cell_type": "code",
   "execution_count": 642,
   "metadata": {},
   "outputs": [
    {
     "name": "stdout",
     "output_type": "stream",
     "text": [
      "N1: Armatura a taglio necessaria\n",
      "N2: Armatura a taglio necessaria\n",
      "N3: Armatura a taglio necessaria\n",
      "N4: Armatura a taglio necessaria\n",
      "N5: Armatura a taglio necessaria\n",
      "N6: Armatura a taglio necessaria\n",
      "N7: Armatura a taglio necessaria\n",
      "N8: Armatura a taglio necessaria\n",
      "N9: Armatura a taglio necessaria\n",
      "N10: Armatura a taglio necessaria\n",
      "N11: Armatura a taglio necessaria\n",
      "N12: Armatura a taglio necessaria\n"
     ]
    }
   ],
   "source": [
    "for i in range (0, len(VRdc)):\n",
    "    if VRdc[i] > VEd[i]:\n",
    "        print('N{}: Armatura a taglio non necessaria'.format(i+1))\n",
    "    else:\n",
    "        print('N{}: Armatura a taglio necessaria'.format(i+1))"
   ]
  },
  {
   "cell_type": "markdown",
   "metadata": {},
   "source": [
    "---"
   ]
  },
  {
   "cell_type": "code",
   "execution_count": 643,
   "metadata": {},
   "outputs": [
    {
     "data": {
      "text/plain": [
       "cot_theta |--> 879.750000000000*cot_theta/(cot_theta^2 + 1)"
      ]
     },
     "execution_count": 643,
     "metadata": {},
     "output_type": "execute_result"
    }
   ],
   "source": [
    "VRdmax(cot_theta) = .5*1*b*.9*d*fcd*cot_theta/(1+(cot_theta)**2)/1000\n",
    "VRdmax"
   ]
  },
  {
   "cell_type": "code",
   "execution_count": 644,
   "metadata": {},
   "outputs": [
    {
     "data": {
      "text/plain": [
       "(cot_theta, Asw, s) |--> 161.998200000000*Asw*cot_theta/s"
      ]
     },
     "execution_count": 644,
     "metadata": {},
     "output_type": "execute_result"
    }
   ],
   "source": [
    "VRds(cot_theta, Asw, s) = Asw/s * .9*d*fyd*cot_theta/1000\n",
    "VRds"
   ]
  },
  {
   "cell_type": "markdown",
   "metadata": {},
   "source": [
    "---\n",
    "## Resistenza a taglio massima\n",
    "\n",
    "La resistenza a taglio massima lato calcestruzzo si ha per $\\theta = \\dfrac{\\pi}{4}$ e cioè per $\\cot\\theta = 1$"
   ]
  },
  {
   "cell_type": "code",
   "execution_count": 645,
   "metadata": {},
   "outputs": [
    {
     "name": "stdout",
     "output_type": "stream",
     "text": [
      "439.875000000000 kN\n"
     ]
    }
   ],
   "source": [
    "VRcmax = VRdmax(1)\n",
    "print(VRcmax,'kN')"
   ]
  },
  {
   "cell_type": "markdown",
   "metadata": {},
   "source": [
    "Controllo che il massimo taglio esplicabile dalla sezione sia maggiore del taglio sollecitante: il massimo taglio resistente lato calcestruzzo si ha per $\\cot\\theta = 1$ cioè per $\\theta=\\dfrac{\\pi}{4}$"
   ]
  },
  {
   "cell_type": "code",
   "execution_count": 646,
   "metadata": {},
   "outputs": [
    {
     "data": {
      "text/plain": [
       "439.875000000000 > 286.437000000000"
      ]
     },
     "execution_count": 646,
     "metadata": {},
     "output_type": "execute_result"
    }
   ],
   "source": [
    "VRdmax(1) > max(VEd)"
   ]
  },
  {
   "cell_type": "markdown",
   "metadata": {},
   "source": [
    "Ok, la sezione è in grado di assorbire il taglio sollecitante e non c'è bisogno di cambiare le dimensioni della sezione o di aumentare la classe del calcestruzzo!"
   ]
  },
  {
   "cell_type": "markdown",
   "metadata": {},
   "source": [
    "---\n",
    "## Sezione armata a taglio"
   ]
  },
  {
   "cell_type": "code",
   "execution_count": 647,
   "metadata": {},
   "outputs": [
    {
     "name": "stdout",
     "output_type": "stream",
     "text": [
      "450.000000000000 mm^2\n",
      " 270 mm\n"
     ]
    }
   ],
   "source": [
    "Asw_min = 1.5*b\n",
    "s_max = min(.8*d, 1000/3, 15*Phi_l)\n",
    "print(Asw_min,'mm^2\\n', s_max,'mm')"
   ]
  },
  {
   "cell_type": "markdown",
   "metadata": {},
   "source": [
    "Si scelgono barre $\\Phi\\,8\\,mm$ con $2$ bracci. L'area delle staffe è"
   ]
  },
  {
   "cell_type": "code",
   "execution_count": 648,
   "metadata": {},
   "outputs": [
    {
     "data": {
      "text/plain": [
       "100.53096491487338"
      ]
     },
     "execution_count": 648,
     "metadata": {},
     "output_type": "execute_result"
    }
   ],
   "source": [
    "Asw0 = 2*area(8)\n",
    "Asw0"
   ]
  },
  {
   "cell_type": "markdown",
   "metadata": {},
   "source": [
    "Sono necessarie perciò"
   ]
  },
  {
   "cell_type": "raw",
   "metadata": {},
   "source": [
    "print(Asw_min/Asw0,'barre per metro\\n',\n",
    "ceil(Asw_min/Asw0),'barre per metro')"
   ]
  },
  {
   "cell_type": "markdown",
   "metadata": {},
   "source": [
    "con un passo di "
   ]
  },
  {
   "cell_type": "code",
   "execution_count": 650,
   "metadata": {},
   "outputs": [
    {
     "name": "stdout",
     "output_type": "stream",
     "text": [
      "223.402144255274 mm\n",
      " 220 mm\n"
     ]
    }
   ],
   "source": [
    "print(1000/(Asw_min/Asw0),'mm\\n',\n",
    "      floor(1000/(Asw_min/Asw0) /10)*10,'mm')"
   ]
  },
  {
   "cell_type": "code",
   "execution_count": 651,
   "metadata": {},
   "outputs": [
    {
     "data": {
      "text/plain": [
       "True"
      ]
     },
     "execution_count": 651,
     "metadata": {},
     "output_type": "execute_result"
    }
   ],
   "source": [
    "s0 = floor(1000/(Asw_min/Asw0) /10)*10 \n",
    "s0 < s_max"
   ]
  },
  {
   "cell_type": "markdown",
   "metadata": {},
   "source": [
    "OK, il passo è accettabile! Posso usare questo passo e questa armatura per armare la parte centrale della trave dove non è necessaria un'armatura a taglio specifica.\n",
    "\n",
    "L'armatura a taglio interna è $\\Phi 8\\,mm$ passo $220\\,mm$."
   ]
  },
  {
   "cell_type": "markdown",
   "metadata": {},
   "source": [
    "### Taglio resistente dell'armatura minima (trave interna)"
   ]
  },
  {
   "cell_type": "markdown",
   "metadata": {},
   "source": [
    "Il valore dell'angolo del puntone inclinato in questa sezione si ricava ponendo $V_{Rd,max} = V_{Rd,s}$, considerando le condizioni di rottura"
   ]
  },
  {
   "cell_type": "code",
   "execution_count": 652,
   "metadata": {},
   "outputs": [
    {
     "name": "stdout",
     "output_type": "stream",
     "text": [
      "0.29430781733049527 rad= 16.862595810744565 deg\n"
     ]
    },
    {
     "data": {
      "text/plain": [
       "False"
      ]
     },
     "execution_count": 652,
     "metadata": {},
     "output_type": "execute_result"
    }
   ],
   "source": [
    "theta0 = solve(VRds(cot(theta), Asw0, s0) - VRdmax(cot(theta)), theta, solution_dict=True)\n",
    "\n",
    "float(theta0[0][theta])>float(theta0[1][theta])\n",
    "theta0 = float(theta0[1][theta])\n",
    "print(theta0,'rad=',deg(theta0),'deg')\n",
    "deg(theta0) >= 21.8"
   ]
  },
  {
   "cell_type": "markdown",
   "metadata": {},
   "source": [
    "L'angolo $\\theta < \\theta_{min}$. Si deve scegliere\n",
    "$$ \\theta = 21.8\\deg$$\n",
    "Il taglio resistente per il meccanismo che si sviluppa con l'angolo $\\theta$ appena fissato è"
   ]
  },
  {
   "cell_type": "code",
   "execution_count": 653,
   "metadata": {},
   "outputs": [
    {
     "name": "stdout",
     "output_type": "stream",
     "text": [
      "185.066310914462 kN\n",
      "303.362068965517 kN\n"
     ]
    }
   ],
   "source": [
    "theta_min = rad(21.8)\n",
    "print(VRds(round(cot(theta_min),2), Asw0, s0),'kN')\n",
    "print(VRdmax(round(cot(theta_min),2)),'kN')"
   ]
  },
  {
   "cell_type": "markdown",
   "metadata": {},
   "source": [
    "Il valore del taglio resistente è il minimo tra il taglio trazione e il taglio compressione"
   ]
  },
  {
   "cell_type": "code",
   "execution_count": 654,
   "metadata": {},
   "outputs": [
    {
     "name": "stdout",
     "output_type": "stream",
     "text": [
      "185.066310914462 kN\n"
     ]
    }
   ],
   "source": [
    "print(min(VRds(round(cot(theta_min),2), Asw0, s0), VRdmax(round(cot(theta_min),2))), 'kN')"
   ]
  },
  {
   "cell_type": "markdown",
   "metadata": {},
   "source": [
    "cioè il valore di $V_{Rd,s}$."
   ]
  },
  {
   "cell_type": "markdown",
   "metadata": {},
   "source": [
    "### Armatura a taglio sugli appoggi\n",
    "\n",
    "Sugli appoggi l'armatura a taglio va infittita.\n",
    "\n",
    "L'angolo $\\theta$ vale"
   ]
  },
  {
   "cell_type": "code",
   "execution_count": 655,
   "metadata": {},
   "outputs": [
    {
     "name": "stdout",
     "output_type": "stream",
     "text": [
      "0.17470699017709382 rad =  10.009973188581007 deg\n",
      "0.2959961165631609 rad =  16.959328231331483 deg\n",
      "0.354567915980815 rad =  20.315245136449875 deg\n",
      "0.3544076777989241 rad =  20.30606416491068 deg\n",
      "0.33424604771778504 rad =  19.150887853157403 deg\n",
      "0.32541653490130495 rad =  18.644994033616427 deg\n",
      "0.3258338635137447 rad =  18.668905201779275 deg\n",
      "0.3189007052015158 rad =  18.271664491792514 deg\n",
      "0.29769110152969963 rad =  17.056443716252275 deg\n",
      "0.23884335117937552 rad =  13.68471598733919 deg\n",
      "0.2473623789331834 rad =  14.172820323187198 deg\n",
      "0.12085041471779118 rad =  6.924218715735122 deg\n",
      "\n",
      "\n",
      "\n",
      "0.3804817769347638 rad =  21.8 deg\n",
      "0.3804817769347638 rad =  21.8 deg\n",
      "0.3804817769347638 rad =  21.8 deg\n",
      "0.3804817769347638 rad =  21.8 deg\n",
      "0.3804817769347638 rad =  21.8 deg\n",
      "0.3804817769347638 rad =  21.8 deg\n",
      "0.3804817769347638 rad =  21.8 deg\n",
      "0.3804817769347638 rad =  21.8 deg\n",
      "0.3804817769347638 rad =  21.8 deg\n",
      "0.3804817769347638 rad =  21.8 deg\n",
      "0.3804817769347638 rad =  21.8 deg\n",
      "0.3804817769347638 rad =  21.8 deg\n"
     ]
    }
   ],
   "source": [
    "thetaEd = np.zeros(len(VEd))\n",
    "for i in range(0, len(VEd)):\n",
    "    thetaEd[i] = (float(solve(VRdmax(cot(theta)) - VEd[i], theta, solution_dict=True)[1][theta]))\n",
    "    print(thetaEd[i],'rad = ', deg(thetaEd[i]),'deg')\n",
    "    if thetaEd[i] < rad(21.8):\n",
    "        thetaEd[i] = rad(21.8)\n",
    "\n",
    "print('\\n\\n')\n",
    "for i in range(0, len(VEd)):\n",
    "    print(thetaEd[i],'rad = ', deg(thetaEd[i]),'deg')"
   ]
  },
  {
   "cell_type": "markdown",
   "metadata": {},
   "source": [
    "Poiché gli angoli sono minori di $\\theta_{min} = 21.8\\deg$, si sceglie l'angolo minimo come angolo di progetto. Con $\\theta = 21.8\\deg$ si calcola il passo, che deve essere inferiore del passo massimo $s_{max} = 270\\,mm$\n"
   ]
  },
  {
   "cell_type": "code",
   "execution_count": 656,
   "metadata": {},
   "outputs": [
    {
     "name": "stdout",
     "output_type": "stream",
     "text": [
      "270.0 mm\n",
      "160.0 mm\n",
      "140.0 mm\n",
      "140.0 mm\n",
      "140.0 mm\n",
      "150.0 mm\n",
      "150.0 mm\n",
      "150.0 mm\n",
      "160.0 mm\n",
      "200.0 mm\n",
      "190.0 mm\n",
      "270.0 mm\n"
     ]
    },
    {
     "data": {
      "text/plain": [
       "array([270., 160., 140., 140., 140., 150., 150., 150., 160., 200., 190.,\n",
       "       270.])"
      ]
     },
     "execution_count": 656,
     "metadata": {},
     "output_type": "execute_result"
    }
   ],
   "source": [
    "sd = np.zeros(len(VEd))\n",
    "for i in range(0, len(VEd)):\n",
    "    sd[i] = floor(float(solve(VRds(cot(thetaEd[i]), Asw0, s) - VEd[i], s, solution_dict=True)[0][s])/10)*10\n",
    "    if sd[i] > s_max:\n",
    "        sd[i] = s_max\n",
    "    print(sd[i],'mm')\n",
    "    \n",
    "sd"
   ]
  },
  {
   "cell_type": "markdown",
   "metadata": {},
   "source": [
    "### Verifica\n",
    "\n",
    "Per prima cosa si calcola il valore di $\\theta$ a rottura $V_{Rd,s} = V_{Rd,max}$ con i valori di $s$ appena trovati. Il valore dell'angolo deve sempre essere $\\theta \\geq 21.8\\deg$"
   ]
  },
  {
   "cell_type": "code",
   "execution_count": 657,
   "metadata": {},
   "outputs": [
    {
     "name": "stdout",
     "output_type": "stream",
     "text": [
      "0.2649329173621315 rad =  15.179538018938345 deg\n",
      "0.34707216972875554 rad =  19.885770511905864 deg\n",
      "0.3721631933413864 rad =  21.323380268572706 deg\n",
      "0.3721631933413864 rad =  21.323380268572706 deg\n",
      "0.3721631933413864 rad =  21.323380268572706 deg\n",
      "0.3589606262955124 rad =  20.56692889810562 deg\n",
      "0.3589606262955124 rad =  20.56692889810562 deg\n",
      "0.3589606262955124 rad =  20.56692889810562 deg\n",
      "0.34707216972875554 rad =  19.885770511905864 deg\n",
      "0.30913614778273624 rad =  17.71219656288329 deg\n",
      "0.31744410866572903 rad =  18.188207657838557 deg\n",
      "0.2649329173621315 rad =  15.179538018938345 deg\n",
      "\n",
      "\n",
      "\n",
      "0.3804817769347638 rad =  21.8 deg\n",
      "0.3804817769347638 rad =  21.8 deg\n",
      "0.3804817769347638 rad =  21.8 deg\n",
      "0.3804817769347638 rad =  21.8 deg\n",
      "0.3804817769347638 rad =  21.8 deg\n",
      "0.3804817769347638 rad =  21.8 deg\n",
      "0.3804817769347638 rad =  21.8 deg\n",
      "0.3804817769347638 rad =  21.8 deg\n",
      "0.3804817769347638 rad =  21.8 deg\n",
      "0.3804817769347638 rad =  21.8 deg\n",
      "0.3804817769347638 rad =  21.8 deg\n",
      "0.3804817769347638 rad =  21.8 deg\n"
     ]
    }
   ],
   "source": [
    "thetad = np.zeros(len(thetaEd))\n",
    "for i in range(0, len(sd)):\n",
    "    thetad[i] = float(solve(VRds(cot(theta), Asw0, sd[i]) == VRdmax(cot(theta)), theta, solution_dict=True)[1][theta])\n",
    "    print(thetad[i],'rad = ', deg(thetad[i]),'deg')\n",
    "    if thetad[i] < rad(21.8):\n",
    "        thetad[i] = rad(21.8)\n",
    "\n",
    "print('\\n\\n')\n",
    "for i in range(0, len(VEd)):\n",
    "    print(thetad[i],'rad = ', deg(thetad[i]),'deg')"
   ]
  },
  {
   "cell_type": "code",
   "execution_count": 686,
   "metadata": {},
   "outputs": [
    {
     "name": "stdout",
     "output_type": "stream",
     "text": [
      "\n",
      "VRds[kN]\t\tVRdmax[kN]\t\t\tVEd[kN]\n",
      " 150.80553029456914 \t 438.66686962357267 \t>\t 150.590000000000\n",
      "True\n",
      "\n",
      "VRds[kN]\t\tVRdmax[kN]\t\t\tVEd[kN]\n",
      " 254.48433237208536 \t 438.66686962357267 \t>\t 245.457000000000\n",
      "True\n",
      "\n",
      "VRds[kN]\t\tVRdmax[kN]\t\t\tVEd[kN]\n",
      " 290.839236996669 \t 438.66686962357267 \t>\t 286.437000000000\n",
      "True\n",
      "\n",
      "VRds[kN]\t\tVRdmax[kN]\t\t\tVEd[kN]\n",
      " 290.839236996669 \t 438.66686962357267 \t>\t 286.330000000000\n",
      "True\n",
      "\n",
      "VRds[kN]\t\tVRdmax[kN]\t\t\tVEd[kN]\n",
      " 290.839236996669 \t 438.66686962357267 \t>\t 272.636000000000\n",
      "True\n",
      "\n",
      "VRds[kN]\t\tVRdmax[kN]\t\t\tVEd[kN]\n",
      " 271.44995453022443 \t 438.66686962357267 \t>\t 266.498000000000\n",
      "True\n",
      "\n",
      "VRds[kN]\t\tVRdmax[kN]\t\t\tVEd[kN]\n",
      " 271.44995453022443 \t 438.66686962357267 \t>\t 266.790000000000\n",
      "True\n",
      "\n",
      "VRds[kN]\t\tVRdmax[kN]\t\t\tVEd[kN]\n",
      " 271.44995453022443 \t 438.66686962357267 \t>\t 261.915000000000\n",
      "True\n",
      "\n",
      "VRds[kN]\t\tVRdmax[kN]\t\t\tVEd[kN]\n",
      " 254.48433237208536 \t 438.66686962357267 \t>\t 246.693000000000\n",
      "True\n",
      "\n",
      "VRds[kN]\t\tVRdmax[kN]\t\t\tVEd[kN]\n",
      " 203.5874658976683 \t 438.66686962357267 \t>\t 202.222000000000\n",
      "True\n",
      "\n",
      "VRds[kN]\t\tVRdmax[kN]\t\t\tVEd[kN]\n",
      " 214.30259568175612 \t 438.66686962357267 \t>\t 208.848000000000\n",
      "True\n",
      "\n",
      "VRds[kN]\t\tVRdmax[kN]\t\t\tVEd[kN]\n",
      " 150.80553029456914 \t 438.66686962357267 \t>\t 105.286000000000\n",
      "True\n"
     ]
    }
   ],
   "source": [
    "VRds_d = np.zeros(len(VEd))\n",
    "VRdmax_d = np.zeros(len(VEd))\n",
    "for i in range(0, len(thetad)):\n",
    "    VRds_d [i] = (VRds(cot(thetad[i]), Asw0, sd[i]))\n",
    "    VRdmax_d [i] = VRdmax(cos(thetad[i]))\n",
    "for i in range(0, len(thetad)):\n",
    "    print('\\nVRds[kN]\\t\\tVRdmax[kN]\\t\\t\\tVEd[kN]\\n',VRds_d[i], '\\t',VRdmax_d[i],'\\t>\\t', VEd[i])\n",
    "    if VRds_d[i] > VEd[i]:\n",
    "        print('True')\n",
    "    else:\n",
    "        print('False')"
   ]
  },
  {
   "cell_type": "code",
   "execution_count": 687,
   "metadata": {},
   "outputs": [
    {
     "name": "stdout",
     "output_type": "stream",
     "text": [
      "150.80553029456914 kN\n",
      "254.48433237208536 kN\n",
      "290.839236996669 kN\n",
      "290.839236996669 kN\n",
      "290.839236996669 kN\n",
      "271.44995453022443 kN\n",
      "271.44995453022443 kN\n",
      "271.44995453022443 kN\n",
      "254.48433237208536 kN\n",
      "203.5874658976683 kN\n",
      "214.30259568175612 kN\n",
      "150.80553029456914 kN\n"
     ]
    }
   ],
   "source": [
    "VRd = np.zeros(len(VEd))\n",
    "for i in range(0, len(VEd)):\n",
    "    VRd[i] = min(VRds_d[i], VRdmax_d[i])\n",
    "    print(VRd[i], 'kN')"
   ]
  },
  {
   "cell_type": "code",
   "execution_count": 691,
   "metadata": {},
   "outputs": [
    {
     "data": {
      "image/png": "[encoded data removed]",
      "text/plain": [
       "Graphics Array of size 1 x 2"
      ]
     },
     "metadata": {},
     "output_type": "display_data"
    }
   ],
   "source": [
    "x = np.linspace(21.8, 45, 10)*pi/180\n",
    "x = x.tolist()\n",
    "\n",
    "ax1 = plot([VRdmax, max(VEd), VRds.subs({s:max(sd), Asw:Asw0})], (cot_theta, 0, 7), axes_labels=[r'$\\cot\\theta$', r'$V_{Rd}, V_{Ed}$'], legend_label=[r'$V_{Rd,max}$',r'$V_{Ed}$', r'$V_{Rd,s}$']) + line([(1,0), (1, VRdmax(1))], color='gray', linestyle=\"--\") + line([(2.5,0), (2.5, VRdmax(2.5))], color='gray', linestyle=\"--\", )\n",
    "ax2 = plot([VRdmax(cot(theta)), max(VEd), VRds(cot(theta), Asw0, max(sd))], (theta, 21.8/180 * math.pi, math.pi/4), axes_labels=[r'$\\theta\\,[deg]$', r'$V_{Rd}, V_{Ed}$'], legend_label=[r'$V_{Rd,max}$',r'$V_{Ed}$', r'$V_{Rd,s}$'], ticks=[x,50], tick_formatter=pi) + line([(math.pi/4,0), (math.pi/4, VRdmax(1))], color='gray', linestyle=\"--\") + line([(21.8/180 * math.pi,0), (21.8/180 * math.pi, VRdmax(2.5))], color='gray', linestyle=\"--\")\n",
    "ax1.set_legend_options(font_size='16')\n",
    "ax2.set_legend_options(font_size='16')\n",
    "graphics_array([ax1, ax2]).show(figsize=[20,6],fontsize='12')"
   ]
  }
 ],
 "metadata": {
  "kernelspec": {
   "display_name": "Python 3",
   "language": "python",
   "name": "python3"
  },
  "language_info": {
   "codemirror_mode": {
    "name": "ipython",
    "version": 3
   },
   "file_extension": ".py",
   "mimetype": "text/x-python",
   "name": "python",
   "nbconvert_exporter": "python",
   "pygments_lexer": "ipython3",
   "version": "3.8.3"
  }
 },
 "nbformat": 4,
 "nbformat_minor": 4
}
