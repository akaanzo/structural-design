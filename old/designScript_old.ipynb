{
 "cells": [
  {
   "cell_type": "code",
   "execution_count": 1,
   "metadata": {},
   "outputs": [],
   "source": [
    "import plotly.graph_objects as go\n",
    "import plotly.express as px\n",
    "import matplotlib.pyplot as plt\n",
    "import numpy as np\n",
    "from sklearn import datasets\n",
    "import sympy as sym\n",
    "from sympy import symbols\n",
    "from scipy.optimize import fsolve"
   ]
  },
  {
   "cell_type": "code",
   "execution_count": 74,
   "metadata": {},
   "outputs": [],
   "source": [
    "#b, psi, xi, d, fcd, beta, As, fyd, d2, MEd, mylambda, x, A1s, Es, epsilon_su = symbols('b psi xi d fcd beta As fyd d2 MEd mylambda x A1s Es, epsilon_su')\n"
   ]
  },
  {
   "cell_type": "code",
   "execution_count": 245,
   "metadata": {},
   "outputs": [],
   "source": [
    "def design():\n",
    "    b = float(input('b = [mm]'))\n",
    "    fck = float(input('fck = [MPa]'))\n",
    "    fcd = round(fck*.85/1.5, 2)\n",
    "    fyk = float(input('fyk = [MPa]'))\n",
    "    fyd = round(fyk/1.15, 2)\n",
    "    d2 = float(input('d2 = [mm]'))\n",
    "    Es = float(input('Es = [GPa]'))*10**3\n",
    "    epsilon_se = fyd/Es\n",
    "    epsilon_su = float(input('epsilon_su = [per thousand]'))/1000\n",
    "    epsilon_c2 = float(input('epsilon_c2 = [per thousand]'))/1000\n",
    "    epsilon_cu = float(input('epsilon_cu = [per thousand]'))/1000\n",
    "    beta = float(input('beta = A1s/As = '))\n",
    "    MEd = abs(float(input('MEd = [kNm]'))*10**6)\n",
    "    d = input(f'd = [mm] (empty if unknown)')    \n",
    "    \n",
    "    xi_23 = .2593;\n",
    "    \n",
    "    psi = 0.80952;\n",
    "    mylambda = 0.416;\n",
    "    xi = xi_23;\n",
    "    \n",
    "    if d == '':\n",
    "        d = symbols('d')\n",
    "        \n",
    "        dd = sym.solve(b*psi*xi*d**2 *fcd*(1-mylambda*xi) + beta* ((b*psi*xi*d*fcd)/(1-beta)) *(d-d2) - MEd, d)\n",
    "        d = list(filter(lambda val: val >= 0, dd))[0]\n",
    "        print('\\n\\nd = ', d, 'mm\\n')\n",
    "        As_0 = b*psi*xi*d*fcd/((1-beta)*fyd);\n",
    "        A1s_0 = beta*As_0;\n",
    "        print('As = ',As_0,'mm^2\\nA1s = ', A1s_0,'mm^2')\n",
    "        \n",
    "#------------------As----------------------------------\n",
    "\n",
    "        def steel_area():        \n",
    "            print('\\nInsert integer number of tensed steel reinforcement (>=2): ')\n",
    "            num_As = int(input('n.:'))\n",
    "\n",
    "            \n",
    "            if (num_As < 2):\n",
    "                i=0;\n",
    "                while i<3:\n",
    "                    print('\\nMinumum bars number must be greater or at least equal 2: ')\n",
    "                    num_As = int(input('n.:'))\n",
    "                    i+=1;\n",
    "                if i==3:\n",
    "                    num_As = 2;\n",
    "                    print('\\nNumber of tensed bars has been set to ', num_As)\n",
    "\n",
    "\n",
    "            print('\\nInsert tensed bars diameter (even number >= 12mm): ')\n",
    "            phi_As = int(input('Phi = '))\n",
    "\n",
    "\n",
    "            \n",
    "            if (phi_As % 2) != 0 or phi_As < 12:\n",
    "                i=0;\n",
    "                while i<3:\n",
    "                    print('\\nDiameter must be even and greater than 12mm): ')\n",
    "                    phi_As = int(input('Phi = '))\n",
    "                    i+=1;\n",
    "                if i==3:\n",
    "                    phi_As = 12;\n",
    "                    print('\\nDiameter of tensed bars has been set to ', phi_As, 'mm')\n",
    "            \n",
    "            As = round(num_As * np.pi * phi_As**2 /4,4)\n",
    "            print('\\nAs = ',num_As,'ϕ',phi_As,'mm = ',As,'mm^2\\n')\n",
    "            \n",
    "\n",
    "#--------------------------------------------------------------------------------\n",
    "\n",
    "#------------------A1s----------------------------------\n",
    "        def steel1_area():\n",
    "            print('Insert integer number of compressed steel reinforcement (>=2): ')\n",
    "            num_A1s = int(input('n.:'))\n",
    "\n",
    "\n",
    "            if (num_A1s < 2):\n",
    "                i=0;\n",
    "                while i<3:\n",
    "                    print('\\nMinumum bars number must be greater or at least equal 2: ')\n",
    "                    num_A1s = int(input('n.: '))\n",
    "                    i+=1;\n",
    "\n",
    "                if i==3:\n",
    "                    num_A1s = 2;\n",
    "                    print('\\nNumber of compressed bars has been set to ', num_A1s)\n",
    "\n",
    "\n",
    "            print('\\nInsert compressed bars diameter (even number >= 12mm): ')\n",
    "            phi_A1s = int(input('Phi = '))\n",
    "\n",
    "\n",
    "            if (phi_A1s % 2) != 0 or phi_A1s < 12:\n",
    "                i=0;\n",
    "                while i<3:                \n",
    "                    print('\\nDiameter must be even and greater than 12mm): ')\n",
    "                    phi_A1s = int(input('Phi = '))\n",
    "                    i+=1;\n",
    "                if i==3:\n",
    "                    phi_A1s = 12;\n",
    "                    print('\\nDiameter of compressed bars has been set to ', phi_A1s, 'mm')\n",
    "                    \n",
    "            A1s = round(num_A1s * np.pi * phi_A1s**2 /4,4)\n",
    "            print('\\nA1s = ',num_A1s,'ϕ',phi_A1s,'mm = ',A1s,'mm^2\\n')\n",
    "                       \n",
    "#----------------------------------------------------------------------------\n",
    "\n",
    "        steel_area()\n",
    "    \n",
    "        steel1_area()\n",
    "        \n",
    "        \n",
    "        \n",
    "        if As < As_0:\n",
    "            print(As,'<',As_0,'\\nMore bars needed')\n",
    "            steel_area()\n",
    "            \n",
    "        if A1s < A1s_0:\n",
    "            print(A1s,'<',A1s_0,'\\nMore bars needed')\n",
    "            steel1_area()\n",
    "\n",
    "        \n",
    "            \n",
    "        "
   ]
  },
  {
   "cell_type": "code",
   "execution_count": 246,
   "metadata": {},
   "outputs": [
    {
     "name": "stdin",
     "output_type": "stream",
     "text": [
      "b = [mm] 300\n",
      "fck = [MPa] 25\n",
      "fyk = [MPa] 450\n",
      "d2 = [mm] 40\n",
      "Es = [GPa] 210\n",
      "epsilon_su = [per thousand] 10\n",
      "epsilon_c2 = [per thousand] 2\n",
      "epsilon_cu = [per thousand] 3.5\n",
      "beta = A1s/As =  .3\n",
      "MEd = [kNm] 234.169\n",
      "d = [mm] (empty if unknown) \n"
     ]
    },
    {
     "name": "stdout",
     "output_type": "stream",
     "text": [
      "\n",
      "\n",
      "d =  452.297790574483 mm\n",
      "\n",
      "As =  1473.45807437857 mm^2\n",
      "A1s =  442.037422313570 mm^2\n",
      "\n",
      "Insert integer number of tensed steel reinforcement (>=2): \n"
     ]
    },
    {
     "name": "stdin",
     "output_type": "stream",
     "text": [
      "n.: 4\n"
     ]
    },
    {
     "name": "stdout",
     "output_type": "stream",
     "text": [
      "\n",
      "Insert tensed bars diameter (even number >= 12mm): \n"
     ]
    },
    {
     "name": "stdin",
     "output_type": "stream",
     "text": [
      "Phi =  12\n"
     ]
    },
    {
     "name": "stdout",
     "output_type": "stream",
     "text": [
      "\n",
      "As =  4 ϕ 12 mm =  452.3893 mm^2\n",
      "\n",
      "Insert integer number of compressed steel reinforcement (>=2): \n"
     ]
    },
    {
     "name": "stdin",
     "output_type": "stream",
     "text": [
      "n.: 4\n"
     ]
    },
    {
     "name": "stdout",
     "output_type": "stream",
     "text": [
      "\n",
      "Insert compressed bars diameter (even number >= 12mm): \n"
     ]
    },
    {
     "name": "stdin",
     "output_type": "stream",
     "text": [
      "Phi =  12\n"
     ]
    },
    {
     "name": "stdout",
     "output_type": "stream",
     "text": [
      "\n",
      "A1s =  4 ϕ 12 mm =  452.3893 mm^2\n",
      "\n",
      "226.1947 < 1473.45807437857 \n",
      "More bars needed\n",
      "\n",
      "Insert integer number of tensed steel reinforcement (>=2): \n"
     ]
    },
    {
     "name": "stdin",
     "output_type": "stream",
     "text": [
      "n.: 6\n"
     ]
    },
    {
     "name": "stdout",
     "output_type": "stream",
     "text": [
      "\n",
      "Insert tensed bars diameter (even number >= 12mm): \n"
     ]
    },
    {
     "name": "stdin",
     "output_type": "stream",
     "text": [
      "Phi =  18\n"
     ]
    },
    {
     "name": "stdout",
     "output_type": "stream",
     "text": [
      "\n",
      "As =  6 ϕ 18 mm =  1526.814 mm^2\n",
      "\n",
      "226.1947 < 442.037422313570 \n",
      "More bars needed\n",
      "Insert integer number of compressed steel reinforcement (>=2): \n"
     ]
    },
    {
     "name": "stdin",
     "output_type": "stream",
     "text": [
      "n.: 2\n"
     ]
    },
    {
     "name": "stdout",
     "output_type": "stream",
     "text": [
      "\n",
      "Insert compressed bars diameter (even number >= 12mm): \n"
     ]
    },
    {
     "name": "stdin",
     "output_type": "stream",
     "text": [
      "Phi =  18\n"
     ]
    },
    {
     "name": "stdout",
     "output_type": "stream",
     "text": [
      "\n",
      "A1s =  2 ϕ 18 mm =  508.938 mm^2\n",
      "\n"
     ]
    }
   ],
   "source": [
    "design()"
   ]
  },
  {
   "cell_type": "code",
   "execution_count": 240,
   "metadata": {},
   "outputs": [
    {
     "data": {
      "text/plain": [
       "226.1947"
      ]
     },
     "execution_count": 240,
     "metadata": {},
     "output_type": "execute_result"
    }
   ],
   "source": [
    "A1s = round(num_A1s * np.pi * phi_A1s**2 /4,4)\n",
    "A1s"
   ]
  },
  {
   "cell_type": "code",
   "execution_count": null,
   "metadata": {},
   "outputs": [],
   "source": []
  },
  {
   "cell_type": "code",
   "execution_count": null,
   "metadata": {},
   "outputs": [],
   "source": []
  },
  {
   "cell_type": "code",
   "execution_count": 14,
   "metadata": {},
   "outputs": [],
   "source": [
    "from mpl_toolkits.mplot3d import Axes3D\n",
    "from matplotlib import cm\n",
    "from matplotlib.ticker import LinearLocator, FormatStrFormatter"
   ]
  },
  {
   "cell_type": "code",
   "execution_count": 17,
   "metadata": {},
   "outputs": [
    {
     "data": {
      "text/plain": [
       "3"
      ]
     },
     "execution_count": 17,
     "metadata": {},
     "output_type": "execute_result"
    }
   ],
   "source": [
    "X = np.arange(1, 2.5, .5)\n",
    "Y = 1/np.tan([np.pi/4, np.pi/3, np.pi/2])\n",
    "\n",
    "func = (X+ Y) * 1/(1+X**2)\n",
    "\n",
    "len(func)"
   ]
  },
  {
   "cell_type": "code",
   "execution_count": 20,
   "metadata": {},
   "outputs": [
    {
     "data": {
      "text/plain": [
       "<mpl_toolkits.mplot3d.art3d.Poly3DCollection at 0x7f89aad8e9e8>"
      ]
     },
     "execution_count": 20,
     "metadata": {},
     "output_type": "execute_result"
    },
    {
     "data": {
      "image/png": "[encoded data removed]",
      "text/plain": [
       "<Figure size 432x288 with 1 Axes>"
      ]
     },
     "metadata": {
      "needs_background": "light"
     },
     "output_type": "display_data"
    }
   ],
   "source": [
    "fig = plt.figure()\n",
    "ax = fig.gca(projection='3d')\n",
    "\n",
    "ax.plot_trisurf(X,Y, func)"
   ]
  },
  {
   "cell_type": "code",
   "execution_count": null,
   "metadata": {},
   "outputs": [],
   "source": []
  }
 ],
 "metadata": {
  "kernelspec": {
   "display_name": "Python 3",
   "language": "python",
   "name": "python3"
  },
  "language_info": {
   "codemirror_mode": {
    "name": "ipython",
    "version": 3
   },
   "file_extension": ".py",
   "mimetype": "text/x-python",
   "name": "python",
   "nbconvert_exporter": "python",
   "pygments_lexer": "ipython3",
   "version": "3.6.9"
  }
 },
 "nbformat": 4,
 "nbformat_minor": 4
}
