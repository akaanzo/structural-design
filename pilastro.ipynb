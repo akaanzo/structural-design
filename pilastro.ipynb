{
 "cells": [
  {
   "cell_type": "code",
   "execution_count": 1,
   "metadata": {},
   "outputs": [],
   "source": [
    "import pandas as pd\n",
    "import numpy as np\n",
    "import os\n",
    "# from sage.symbolic.substitution_map import make_map\n",
    "#import sympy as sp\n",
    "from sympy import *\n",
    "import matplotlib.pyplot as plt\n",
    "%matplotlib inline\n",
    "from plotly import graph_objects as go\n",
    "import plotly.express as px\n",
    "from IPython.display import Image\n",
    "import seaborn as sns\n",
    "sns.set(font='Franklin Gothic Book',\n",
    "        rc={\n",
    " 'axes.axisbelow': False,\n",
    " 'axes.edgecolor': 'lightgrey',\n",
    " 'axes.facecolor': 'None',\n",
    " 'axes.grid': False,\n",
    " 'grid.color':'#D5D5D5',\n",
    " 'axes.labelcolor': 'dimgrey',\n",
    " 'axes.spines.right': False,\n",
    " 'axes.spines.top': False,\n",
    " 'figure.facecolor': '#FEFCFB',\n",
    " 'lines.solid_capstyle': 'round',\n",
    " 'patch.edgecolor': 'w',\n",
    " 'patch.force_edgecolor': True,\n",
    " 'text.color': 'dimgrey',\n",
    " 'xtick.bottom': False,\n",
    " 'xtick.color': 'dimgrey',\n",
    " 'xtick.direction': 'out',\n",
    " 'xtick.top': False,\n",
    " 'ytick.color': 'dimgrey',\n",
    " 'ytick.direction': 'out',\n",
    " 'ytick.left': False,\n",
    " 'ytick.right': False})\n",
    "sns.set_context(\"notebook\", rc={\"font.size\":16,\n",
    "                                \"axes.titlesize\":20,\n",
    "                                \"axes.labelsize\":18})"
   ]
  },
  {
   "cell_type": "markdown",
   "metadata": {},
   "source": [
    "# Pilastro\n",
    "## Progetto e verifica agli SLU"
   ]
  },
  {
   "cell_type": "code",
   "execution_count": 2,
   "metadata": {},
   "outputs": [],
   "source": [
    "fyk = 450\n",
    "gammas = 1.15\n",
    "fyd = round(fyk/gammas, 2)\n",
    "\n",
    "fck = 25\n",
    "gammac = 1.5\n",
    "alphacc = .85\n",
    "fcd = round(alphacc*fck/gammac, 2)"
   ]
  },
  {
   "cell_type": "code",
   "execution_count": 3,
   "metadata": {},
   "outputs": [
    {
     "output_type": "execute_result",
     "data": {
      "text/plain": "391.3"
     },
     "metadata": {},
     "execution_count": 3
    }
   ],
   "source": [
    "fyd"
   ]
  },
  {
   "cell_type": "code",
   "execution_count": 4,
   "metadata": {},
   "outputs": [
    {
     "output_type": "execute_result",
     "data": {
      "text/plain": "14.17"
     },
     "metadata": {},
     "execution_count": 4
    }
   ],
   "source": [
    "fcd"
   ]
  },
  {
   "cell_type": "code",
   "execution_count": 5,
   "metadata": {},
   "outputs": [],
   "source": [
    "NEd_slu = 1882 * 10**3 #N"
   ]
  },
  {
   "cell_type": "code",
   "execution_count": 6,
   "metadata": {},
   "outputs": [
    {
     "output_type": "execute_result",
     "data": {
      "text/plain": "480.96089956555073"
     },
     "metadata": {},
     "execution_count": 6
    }
   ],
   "source": [
    "Asmin = .10 * NEd_slu/fyd\n",
    "Asmin"
   ]
  },
  {
   "cell_type": "code",
   "execution_count": 7,
   "metadata": {},
   "outputs": [
    {
     "output_type": "execute_result",
     "data": {
      "text/plain": "119534.22724064926"
     },
     "metadata": {},
     "execution_count": 7
    }
   ],
   "source": [
    "Acmin = .9 * NEd_slu/fcd\n",
    "Acmin"
   ]
  },
  {
   "cell_type": "code",
   "execution_count": 8,
   "metadata": {},
   "outputs": [
    {
     "output_type": "execute_result",
     "data": {
      "text/plain": "345.737222816186",
      "text/latex": "$\\displaystyle 345.737222816186$"
     },
     "metadata": {},
     "execution_count": 8
    }
   ],
   "source": [
    "bmin = sqrt(Acmin)\n",
    "bmin"
   ]
  },
  {
   "cell_type": "markdown",
   "metadata": {},
   "source": [
    "Si sceglie \n",
    "$$ l = 350\\,mm$$"
   ]
  },
  {
   "cell_type": "code",
   "execution_count": 9,
   "metadata": {},
   "outputs": [
    {
     "output_type": "execute_result",
     "data": {
      "text/plain": "122500"
     },
     "metadata": {},
     "execution_count": 9
    }
   ],
   "source": [
    "b = 350\n",
    "h=b\n",
    "Ac = b*h\n",
    "Ac"
   ]
  },
  {
   "cell_type": "code",
   "execution_count": 10,
   "metadata": {},
   "outputs": [
    {
     "output_type": "execute_result",
     "data": {
      "text/plain": "367.5"
     },
     "metadata": {},
     "execution_count": 10
    }
   ],
   "source": [
    ".003* Ac"
   ]
  },
  {
   "cell_type": "code",
   "execution_count": 11,
   "metadata": {},
   "outputs": [
    {
     "output_type": "execute_result",
     "data": {
      "text/plain": "True"
     },
     "metadata": {},
     "execution_count": 11
    }
   ],
   "source": [
    "Asmin > .003 * Ac"
   ]
  },
  {
   "cell_type": "code",
   "execution_count": 12,
   "metadata": {},
   "outputs": [
    {
     "output_type": "execute_result",
     "data": {
      "text/plain": "4900.0"
     },
     "metadata": {},
     "execution_count": 12
    }
   ],
   "source": [
    "Asmax = 0.04*Ac\n",
    "Asmax"
   ]
  },
  {
   "cell_type": "code",
   "execution_count": 13,
   "metadata": {},
   "outputs": [],
   "source": [
    "def area(diam, num):\n",
    "    return num*pi*diam**2 /4"
   ]
  },
  {
   "cell_type": "code",
   "execution_count": 14,
   "metadata": {},
   "outputs": [
    {
     "output_type": "execute_result",
     "data": {
      "text/plain": "452.389342116930",
      "text/latex": "$\\displaystyle 452.38934211693$"
     },
     "metadata": {},
     "execution_count": 14
    }
   ],
   "source": [
    "#area minima 4 Phi 12mm\n",
    "N(area(12, 4))"
   ]
  },
  {
   "cell_type": "code",
   "execution_count": 15,
   "metadata": {},
   "outputs": [],
   "source": [
    "Phi_l = 14\n",
    "As = N(area(Phi_l, 4))"
   ]
  },
  {
   "cell_type": "code",
   "execution_count": 16,
   "metadata": {},
   "outputs": [
    {
     "output_type": "execute_result",
     "data": {
      "text/plain": "True",
      "text/latex": "$\\displaystyle \\text{True}$"
     },
     "metadata": {},
     "execution_count": 16
    }
   ],
   "source": [
    "NRd = Ac*fcd + As*fyd #\n",
    "NRd > NEd_slu"
   ]
  },
  {
   "cell_type": "code",
   "execution_count": 17,
   "metadata": {},
   "outputs": [
    {
     "output_type": "execute_result",
     "data": {
      "text/plain": "1976.76882024854",
      "text/latex": "$\\displaystyle 1976.76882024854$"
     },
     "metadata": {},
     "execution_count": 17
    }
   ],
   "source": [
    "NRd/10**3"
   ]
  },
  {
   "cell_type": "code",
   "execution_count": 18,
   "metadata": {},
   "outputs": [
    {
     "output_type": "execute_result",
     "data": {
      "text/plain": "168"
     },
     "metadata": {},
     "execution_count": 18
    }
   ],
   "source": [
    "smax = min(12*Phi_l, 250)\n",
    "smax"
   ]
  },
  {
   "cell_type": "code",
   "execution_count": 19,
   "metadata": {},
   "outputs": [
    {
     "output_type": "execute_result",
     "data": {
      "text/plain": "6"
     },
     "metadata": {},
     "execution_count": 19
    }
   ],
   "source": [
    "Phi_st_min = max(Phi_l/4, 6)\n",
    "Phi_st_min"
   ]
  },
  {
   "cell_type": "code",
   "execution_count": 20,
   "metadata": {},
   "outputs": [],
   "source": [
    "#lunghezze interassi pilastro dall'alto verso il basso\n",
    "l1 = 2.85*1000 #mm\n",
    "l2 = 3.10*1000 #mm\n",
    "l3 = 3.5*1000 #mm\n",
    "l4 = 2.75*1000 #mm"
   ]
  },
  {
   "cell_type": "code",
   "execution_count": 21,
   "metadata": {},
   "outputs": [],
   "source": [
    "l = [l1, l2, l3, l4]"
   ]
  },
  {
   "cell_type": "code",
   "execution_count": 22,
   "metadata": {},
   "outputs": [
    {
     "output_type": "execute_result",
     "data": {
      "text/plain": "12200.0"
     },
     "metadata": {},
     "execution_count": 22
    }
   ],
   "source": [
    "ss = [l1, l1+l2, l1+l2+l3, l1+l2+l3+l4]\n",
    "ltot = ss[-1]\n",
    "ltot"
   ]
  },
  {
   "cell_type": "code",
   "execution_count": 23,
   "metadata": {},
   "outputs": [
    {
     "output_type": "execute_result",
     "data": {
      "text/plain": "20"
     },
     "metadata": {},
     "execution_count": 23
    }
   ],
   "source": [
    "e = max(max(l)/200, 20)\n",
    "e"
   ]
  },
  {
   "cell_type": "code",
   "execution_count": 24,
   "metadata": {},
   "outputs": [
    {
     "output_type": "execute_result",
     "data": {
      "text/plain": "37.64"
     },
     "metadata": {},
     "execution_count": 24
    }
   ],
   "source": [
    "NEd = NEd_slu\n",
    "MEd = NEd*e\n",
    "MEd/10**6"
   ]
  },
  {
   "cell_type": "markdown",
   "metadata": {},
   "source": [
    "---\n",
    "## Verifica di stabilità (NTC 2018)\n",
    "Assumendo, a favore di sicurezza, le condizioni di vincolo del pilastro di tipo appoggio - appoggio si può calcolare la snellezza dell'elemento e confrontarla con la snellezza limite. Con questa ipotesi si ha\n",
    "$$\n",
    "l_0 = l\n",
    "$$ \n",
    "dove $l$ è l'altezza di interpiano."
   ]
  },
  {
   "cell_type": "code",
   "execution_count": 25,
   "metadata": {},
   "outputs": [
    {
     "output_type": "execute_result",
     "data": {
      "text/plain": "1250520833.3333333"
     },
     "metadata": {},
     "execution_count": 25
    }
   ],
   "source": [
    "#momento di inerzia della sezione di cls non fessurata\n",
    "J = b*h**3 /12\n",
    "J"
   ]
  },
  {
   "cell_type": "code",
   "execution_count": 26,
   "metadata": {},
   "outputs": [
    {
     "output_type": "execute_result",
     "data": {
      "text/plain": "array([101.036297108184, 101.036297108184, 101.036297108184,\n       101.036297108184], dtype=object)"
     },
     "metadata": {},
     "execution_count": 26
    }
   ],
   "source": [
    "#raggio giratore di inerzia\n",
    "rho = sqrt(J/(b*h)) * np.ones(len(l))\n",
    "rho"
   ]
  },
  {
   "cell_type": "markdown",
   "metadata": {},
   "source": [
    "Ipotizzando le condizioni di vincolo come una trave appoggiata \n",
    "$$\n",
    "l_0 = l\n",
    "$$"
   ]
  },
  {
   "cell_type": "code",
   "execution_count": 27,
   "metadata": {},
   "outputs": [
    {
     "output_type": "execute_result",
     "data": {
      "text/plain": "Matrix([\n[28.2076845804074],\n[30.6820428769344],\n[34.6410161513775],\n[27.2179412617966]])",
      "text/latex": "$\\displaystyle \\left[\\begin{matrix}28.2076845804074\\\\30.6820428769344\\\\34.6410161513775\\\\27.2179412617966\\end{matrix}\\right]$"
     },
     "metadata": {},
     "execution_count": 27
    }
   ],
   "source": [
    "l0 = l\n",
    "mylambda = l0/rho\n",
    "Matrix(mylambda)"
   ]
  },
  {
   "cell_type": "code",
   "execution_count": 28,
   "metadata": {},
   "outputs": [
    {
     "output_type": "execute_result",
     "data": {
      "text/plain": "24.01",
      "text/latex": "$\\displaystyle 24.01$"
     },
     "metadata": {},
     "execution_count": 28
    }
   ],
   "source": [
    "lambdalim = round(25/(sqrt(NEd/(b*h*fcd))),2)\n",
    "lambdalim"
   ]
  },
  {
   "cell_type": "code",
   "execution_count": 29,
   "metadata": {},
   "outputs": [
    {
     "output_type": "execute_result",
     "data": {
      "text/plain": "2"
     },
     "metadata": {},
     "execution_count": 29
    }
   ],
   "source": [
    "l.index(max(l))"
   ]
  },
  {
   "cell_type": "code",
   "execution_count": 30,
   "metadata": {},
   "outputs": [
    {
     "output_type": "execute_result",
     "data": {
      "text/plain": "Matrix([\n[False],\n[False],\n[False],\n[False]])",
      "text/latex": "$\\displaystyle \\left[\\begin{matrix}\\text{False}\\\\\\text{False}\\\\\\text{False}\\\\\\text{False}\\end{matrix}\\right]$"
     },
     "metadata": {},
     "execution_count": 30
    }
   ],
   "source": [
    "Matrix(mylambda < lambdalim)"
   ]
  },
  {
   "cell_type": "markdown",
   "metadata": {},
   "source": [
    "---\n",
    "# Colonna Modello\n",
    "Plot"
   ]
  },
  {
   "cell_type": "code",
   "execution_count": 43,
   "metadata": {},
   "outputs": [],
   "source": [
    "# chi = np.array([0,1.61453*10**(-4), 2.65324*10**(-3), 2.4567*10**(-2)])\n",
    "chi = np.array([0,7.76098*10**(-5), 1.18845*10**(-3), 0.0227654])\n",
    "\n",
    "M = np.array([0,17.5083, 237.202, 242.397])\n",
    "\n",
    "chiN = np.array([\n",
    "0,\n",
    "6.66448*10**-3,\n",
    "7.855*10**-3,\n",
    "0.0102693])\n",
    "\n",
    "MN = np.array([\n",
    "0,\n",
    "182.28,\n",
    "203.38,\n",
    "205.70])"
   ]
  },
  {
   "cell_type": "code",
   "execution_count": 44,
   "metadata": {},
   "outputs": [],
   "source": [
    "NEd=1882 #kN\n",
    "e0 = 20*10**-3  #m\n",
    "ea = 8.75*10**-3  #m\n",
    "e2 = chi*3.5**2/10"
   ]
  },
  {
   "cell_type": "code",
   "execution_count": 45,
   "metadata": {},
   "outputs": [
    {
     "output_type": "execute_result",
     "data": {
      "text/plain": "54.1075"
     },
     "metadata": {},
     "execution_count": 45
    }
   ],
   "source": [
    "#Momenti di primo e secondo ordine\n",
    "M1 = NEd*(e0+ea)\n",
    "M1 #kNm"
   ]
  },
  {
   "cell_type": "code",
   "execution_count": 46,
   "metadata": {},
   "outputs": [
    {
     "output_type": "execute_result",
     "data": {
      "text/plain": "array([ 0.        ,  0.17892551,  2.73991205, 52.48449143])"
     },
     "metadata": {},
     "execution_count": 46
    }
   ],
   "source": [
    "M2 = NEd*e2\n",
    "M2"
   ]
  },
  {
   "cell_type": "code",
   "execution_count": 53,
   "metadata": {},
   "outputs": [
    {
     "output_type": "execute_result",
     "data": {
      "text/plain": "[]"
     },
     "metadata": {},
     "execution_count": 53
    },
    {
     "output_type": "display_data",
     "data": {
      "text/plain": "<Figure size 1440x1296 with 1 Axes>",
      "image/svg+xml": "<?xml version=\"1.0\" encoding=\"utf-8\" standalone=\"no\"?>\r\n<!DOCTYPE svg PUBLIC \"-//W3C//DTD SVG 1.1//EN\"\r\n  \"http://www.w3.org/Graphics/SVG/1.1/DTD/svg11.dtd\">\r\n<!-- Created with matplotlib (https://matplotlib.org/) -->\r\n<svg height=\"1059.606875pt\" version=\"1.1\" viewBox=\"0 0 1196.43875 1059.606875\" width=\"1196.43875pt\" xmlns=\"http://www.w3.org/2000/svg\" xmlns:xlink=\"http://www.w3.org/1999/xlink\">\r\n <defs>\r\n  <style type=\"text/css\">\r\n*{stroke-linecap:butt;stroke-linejoin:round;}\r\n  </style>\r\n </defs>\r\n <g id=\"figure_1\">\r\n  <g id=\"patch_1\">\r\n   <path d=\"M 0 1059.606875 \r\nL 1196.43875 1059.606875 \r\nL 1196.43875 0 \r\nL 0 0 \r\nz\r\n\" style=\"fill:#fefcfb;\"/>\r\n  </g>\r\n  <g id=\"axes_1\">\r\n   <g id=\"patch_2\">\r\n    <path d=\"M 73.23875 1005.283125 \r\nL 1189.23875 1005.283125 \r\nL 1189.23875 26.803125 \r\nL 73.23875 26.803125 \r\nz\r\n\" style=\"fill:none;\"/>\r\n   </g>\r\n   <g id=\"line2d_1\">\r\n    <path clip-path=\"url(#pc26fc1490c)\" d=\"M 73.23875 1005.283125 \r\nL 732.779272 178.375616 \r\nL 851.072717 82.67881 \r\nL 1090.208642 72.167812 \r\n\" style=\"fill:none;stroke:#7fa5a5;stroke-linecap:round;stroke-width:3;\"/>\r\n   </g>\r\n   <g id=\"line2d_2\">\r\n    <path clip-path=\"url(#pc26fc1490c)\" d=\"M 73.23875 759.826147 \r\nL 80.924457 759.014457 \r\nL 190.931082 747.396621 \r\nL 1197.43875 641.099022 \r\n\" style=\"fill:none;stroke:#802b1d;stroke-linecap:round;stroke-width:3;\"/>\r\n   </g>\r\n   <g id=\"patch_3\">\r\n    <path d=\"M 73.23875 1005.283125 \r\nL 73.23875 26.803125 \r\n\" style=\"fill:none;stroke:#d3d3d3;stroke-linecap:square;stroke-linejoin:miter;stroke-width:1.25;\"/>\r\n   </g>\r\n   <g id=\"patch_4\">\r\n    <path d=\"M 73.23875 1005.283125 \r\nL 1189.23875 1005.283125 \r\n\" style=\"fill:none;stroke:#d3d3d3;stroke-linecap:square;stroke-linejoin:miter;stroke-width:1.25;\"/>\r\n   </g>\r\n   <g id=\"matplotlib.axis_1\">\r\n    <g id=\"xtick_1\">\r\n     <g id=\"line2d_3\">\r\n      <path clip-path=\"url(#pc26fc1490c)\" d=\"M 73.23875 1005.283125 \r\nL 73.23875 26.803125 \r\n\" style=\"fill:none;stroke:#d5d5d5;stroke-linecap:round;\"/>\r\n     </g>\r\n     <g id=\"text_1\">\r\n      <!-- 0.00000 -->\r\n      <defs>\r\n       <path d=\"M 29.390625 -1.3125 \r\nQ 17.875 -1.3125 10.984375 8.671875 \r\nQ 4.109375 18.65625 4.109375 33.453125 \r\nQ 4.109375 48 10.640625 58 \r\nQ 17.1875 68.015625 29.15625 68.015625 \r\nQ 41.65625 68.015625 48.125 57.5625 \r\nQ 54.59375 47.125 54.59375 33.0625 \r\nQ 54.59375 19.28125 47.953125 8.984375 \r\nQ 41.3125 -1.3125 29.390625 -1.3125 \r\nz\r\nM 29.4375 5.21875 \r\nQ 37.890625 5.21875 41.9375 12.859375 \r\nQ 46 20.515625 46 32.078125 \r\nQ 46 44.734375 41.84375 53.125 \r\nQ 37.703125 61.53125 29.046875 61.53125 \r\nQ 20.703125 61.53125 16.625 53.859375 \r\nQ 12.546875 46.1875 12.546875 33.6875 \r\nQ 12.546875 20.703125 16.84375 12.953125 \r\nQ 21.140625 5.21875 29.4375 5.21875 \r\nz\r\n\" id=\"FranklinGothic-Book-48\"/>\r\n       <path d=\"M 17.96875 10.9375 \r\nL 17.96875 0 \r\nL 7.078125 0 \r\nL 7.078125 10.9375 \r\nz\r\n\" id=\"FranklinGothic-Book-46\"/>\r\n      </defs>\r\n      <g style=\"fill:#696969;\" transform=\"translate(46.859688 1024.115)scale(0.14 -0.14)\">\r\n       <use xlink:href=\"#FranklinGothic-Book-48\"/>\r\n       <use x=\"58.642578\" xlink:href=\"#FranklinGothic-Book-46\"/>\r\n       <use x=\"83.642578\" xlink:href=\"#FranklinGothic-Book-48\"/>\r\n       <use x=\"142.285156\" xlink:href=\"#FranklinGothic-Book-48\"/>\r\n       <use x=\"200.927734\" xlink:href=\"#FranklinGothic-Book-48\"/>\r\n       <use x=\"259.570312\" xlink:href=\"#FranklinGothic-Book-48\"/>\r\n       <use x=\"318.212891\" xlink:href=\"#FranklinGothic-Book-48\"/>\r\n      </g>\r\n     </g>\r\n    </g>\r\n    <g id=\"xtick_2\">\r\n     <g id=\"line2d_4\">\r\n      <path clip-path=\"url(#pc26fc1490c)\" d=\"M 733.222926 1005.283125 \r\nL 733.222926 26.803125 \r\n\" style=\"fill:none;stroke:#d5d5d5;stroke-linecap:round;\"/>\r\n     </g>\r\n     <g id=\"text_2\">\r\n      <!-- 0.00666 -->\r\n      <defs>\r\n       <path d=\"M 53.5625 53.03125 \r\nL 46.046875 50.984375 \r\nQ 42.1875 61.140625 31.984375 61.140625 \r\nQ 13.234375 61.140625 12.796875 30.125 \r\nQ 15.765625 37.015625 21.234375 40.328125 \r\nQ 26.703125 43.65625 32.8125 43.65625 \r\nQ 42.09375 43.65625 48.359375 37.1875 \r\nQ 54.640625 30.71875 54.640625 21.6875 \r\nQ 54.640625 12.3125 47.96875 5.5 \r\nQ 41.3125 -1.3125 30.90625 -1.3125 \r\nQ 19.09375 -1.3125 12.078125 7.59375 \r\nQ 5.078125 16.5 5.078125 31.84375 \r\nQ 5.078125 46.828125 11.6875 57.421875 \r\nQ 18.3125 68.015625 32.171875 68.015625 \r\nQ 48.140625 68.015625 53.5625 53.03125 \r\nz\r\nM 30.765625 5.375 \r\nQ 37.84375 5.375 42.359375 10.03125 \r\nQ 46.875 14.703125 46.875 21.234375 \r\nQ 46.875 27.6875 42.453125 32.296875 \r\nQ 38.03125 36.921875 31.5 36.921875 \r\nQ 24.75 36.921875 19.71875 32.078125 \r\nQ 14.703125 27.25 14.703125 20.75 \r\nQ 14.703125 14.75 19.1875 10.0625 \r\nQ 23.6875 5.375 30.765625 5.375 \r\nz\r\n\" id=\"FranklinGothic-Book-54\"/>\r\n      </defs>\r\n      <g style=\"fill:#696969;\" transform=\"translate(706.843864 1024.115)scale(0.14 -0.14)\">\r\n       <use xlink:href=\"#FranklinGothic-Book-48\"/>\r\n       <use x=\"58.642578\" xlink:href=\"#FranklinGothic-Book-46\"/>\r\n       <use x=\"83.642578\" xlink:href=\"#FranklinGothic-Book-48\"/>\r\n       <use x=\"142.285156\" xlink:href=\"#FranklinGothic-Book-48\"/>\r\n       <use x=\"200.927734\" xlink:href=\"#FranklinGothic-Book-54\"/>\r\n       <use x=\"259.570312\" xlink:href=\"#FranklinGothic-Book-54\"/>\r\n       <use x=\"318.212891\" xlink:href=\"#FranklinGothic-Book-54\"/>\r\n      </g>\r\n     </g>\r\n    </g>\r\n    <g id=\"xtick_3\">\r\n     <g id=\"line2d_5\">\r\n      <path clip-path=\"url(#pc26fc1490c)\" d=\"M 851.120251 1005.283125 \r\nL 851.120251 26.803125 \r\n\" style=\"fill:none;stroke:#d5d5d5;stroke-linecap:round;\"/>\r\n     </g>\r\n     <g id=\"text_3\">\r\n      <!-- 0.00786 -->\r\n      <defs>\r\n       <path d=\"M 28.078125 0 \r\nL 19.484375 0 \r\nQ 19.484375 16.75 26.3125 32.59375 \r\nQ 33.15625 48.4375 43.0625 59.328125 \r\nL 6.890625 59.328125 \r\nL 7.71875 66.65625 \r\nL 51.765625 66.65625 \r\nL 51.765625 61.671875 \r\nQ 39.84375 47.3125 33.9375 31.78125 \r\nQ 28.03125 16.265625 28.03125 2.296875 \r\nQ 28.03125 1.515625 28.078125 0 \r\nz\r\n\" id=\"FranklinGothic-Book-55\"/>\r\n       <path d=\"M 19.484375 34.578125 \r\nQ 6.84375 40.09375 6.84375 50.59375 \r\nQ 6.84375 58.203125 13.140625 63.109375 \r\nQ 19.4375 68.015625 29.828125 68.015625 \r\nQ 40.09375 68.015625 46.140625 63.296875 \r\nQ 52.203125 58.59375 52.203125 50.984375 \r\nQ 52.203125 40.375 39.265625 35.796875 \r\nQ 49.703125 30.953125 52.359375 26.453125 \r\nQ 55.03125 21.96875 55.03125 17.484375 \r\nQ 55.03125 9.46875 48.21875 4.078125 \r\nQ 41.40625 -1.3125 29.734375 -1.3125 \r\nQ 17.28125 -1.3125 10.4375 4.171875 \r\nQ 3.609375 9.671875 3.609375 17.234375 \r\nQ 3.609375 28.515625 19.484375 34.578125 \r\nz\r\nM 29.59375 38.71875 \r\nQ 37.984375 40.96875 41.453125 43.890625 \r\nQ 44.921875 46.828125 44.921875 51.21875 \r\nQ 44.921875 56.34375 40.796875 59 \r\nQ 36.671875 61.671875 29.9375 61.671875 \r\nQ 23.484375 61.671875 19.375 58.859375 \r\nQ 15.28125 56.0625 15.28125 51.3125 \r\nQ 15.28125 46.625 19.84375 43.203125 \r\nQ 24.421875 39.796875 29.59375 38.71875 \r\nz\r\nM 28.65625 31.0625 \r\nQ 11.765625 27.046875 11.765625 16.9375 \r\nQ 11.765625 11.671875 16.375 8.328125 \r\nQ 21 4.984375 29.984375 4.984375 \r\nQ 37.59375 4.984375 42.234375 8.25 \r\nQ 46.875 11.53125 46.875 16.609375 \r\nQ 46.875 26.3125 28.65625 31.0625 \r\nz\r\n\" id=\"FranklinGothic-Book-56\"/>\r\n      </defs>\r\n      <g style=\"fill:#696969;\" transform=\"translate(825.134939 1024.115)scale(0.14 -0.14)\">\r\n       <use xlink:href=\"#FranklinGothic-Book-48\"/>\r\n       <use x=\"58.642578\" xlink:href=\"#FranklinGothic-Book-46\"/>\r\n       <use x=\"83.642578\" xlink:href=\"#FranklinGothic-Book-48\"/>\r\n       <use x=\"142.285156\" xlink:href=\"#FranklinGothic-Book-48\"/>\r\n       <use x=\"195.302734\" xlink:href=\"#FranklinGothic-Book-55\"/>\r\n       <use x=\"253.945312\" xlink:href=\"#FranklinGothic-Book-56\"/>\r\n       <use x=\"312.587891\" xlink:href=\"#FranklinGothic-Book-54\"/>\r\n      </g>\r\n     </g>\r\n    </g>\r\n    <g id=\"xtick_4\">\r\n     <g id=\"line2d_6\">\r\n      <path clip-path=\"url(#pc26fc1490c)\" d=\"M 1090.208642 1005.283125 \r\nL 1090.208642 26.803125 \r\n\" style=\"fill:none;stroke:#d5d5d5;stroke-linecap:round;\"/>\r\n     </g>\r\n     <g id=\"text_4\">\r\n      <!-- 0.01027 -->\r\n      <defs>\r\n       <path d=\"M 55.859375 6.203125 \r\nL 55.859375 0 \r\nL 9.1875 0 \r\nL 9.1875 6.203125 \r\nL 29.203125 6.203125 \r\nL 29.203125 57.671875 \r\nQ 20.359375 48.4375 10.84375 43.265625 \r\nL 10.84375 51.65625 \r\nQ 23.96875 58.546875 31.203125 68.015625 \r\nL 37.15625 68.015625 \r\nL 37.15625 6.203125 \r\nz\r\n\" id=\"FranklinGothic-Book-49\"/>\r\n       <path d=\"M 52.484375 6.9375 \r\nL 52.484375 0 \r\nL 5.171875 0 \r\nL 5.171875 6.9375 \r\nQ 33.203125 27.9375 38.59375 34.59375 \r\nQ 44 41.265625 44 47.796875 \r\nQ 44 53.90625 39.453125 57.65625 \r\nQ 34.90625 61.421875 29 61.421875 \r\nQ 22.90625 61.421875 18.21875 57.296875 \r\nQ 13.53125 53.171875 12.9375 46.09375 \r\nL 5.171875 48.4375 \r\nQ 10.0625 68.015625 29.109375 68.015625 \r\nQ 39.40625 68.015625 45.84375 62.15625 \r\nQ 52.296875 56.296875 52.296875 47.859375 \r\nQ 52.296875 42.046875 49.234375 36.671875 \r\nQ 46.1875 31.296875 37.6875 23.828125 \r\nQ 29.203125 16.359375 15.71875 6.9375 \r\nz\r\n\" id=\"FranklinGothic-Book-50\"/>\r\n      </defs>\r\n      <g style=\"fill:#696969;\" transform=\"translate(1064.634579 1024.115)scale(0.14 -0.14)\">\r\n       <use xlink:href=\"#FranklinGothic-Book-48\"/>\r\n       <use x=\"58.642578\" xlink:href=\"#FranklinGothic-Book-46\"/>\r\n       <use x=\"83.642578\" xlink:href=\"#FranklinGothic-Book-48\"/>\r\n       <use x=\"138.535156\" xlink:href=\"#FranklinGothic-Book-49\"/>\r\n       <use x=\"193.927734\" xlink:href=\"#FranklinGothic-Book-48\"/>\r\n       <use x=\"252.570312\" xlink:href=\"#FranklinGothic-Book-50\"/>\r\n       <use x=\"306.712891\" xlink:href=\"#FranklinGothic-Book-55\"/>\r\n      </g>\r\n     </g>\r\n    </g>\r\n    <g id=\"text_5\">\r\n     <!-- $\\chi\\,\\left[\\frac{1}{m}\\right]$ -->\r\n     <defs>\r\n      <path d=\"M 30.03125 -12.203125 \r\nL 26.421875 6.5 \r\nL 6.15625 -20.84375 \r\nL -4.4375 -20.84375 \r\nL 24.265625 17.828125 \r\nL 19.828125 40.828125 \r\nQ 18.65625 46.96875 11.140625 46.96875 \r\nL 8.734375 46.96875 \r\nL 10.203125 54.6875 \r\nL 13.625 54.59375 \r\nQ 26.171875 54.25 27.734375 46.09375 \r\nL 31.34375 27.390625 \r\nL 51.609375 54.734375 \r\nL 62.203125 54.734375 \r\nL 33.5 16.0625 \r\nL 37.9375 -6.9375 \r\nQ 39.109375 -13.09375 46.625 -13.09375 \r\nL 49.03125 -13.09375 \r\nL 47.5625 -20.796875 \r\nL 44.140625 -20.703125 \r\nQ 31.59375 -20.359375 30.03125 -12.203125 \r\nz\r\n\" id=\"DejaVuSans-Oblique-967\"/>\r\n      <path d=\"M 36.296875 -16.40625 \r\nL 18 -16.40625 \r\nL 18 106.59375 \r\nL 36.296875 106.59375 \r\nL 36.296875 103.296875 \r\nL 25 103.296875 \r\nL 25 -13.09375 \r\nL 36.296875 -13.09375 \r\nz\r\n\" id=\"STIXSizeOneSym-Regular-91\"/>\r\n      <path d=\"M 12.40625 8.296875 \r\nL 28.515625 8.296875 \r\nL 28.515625 63.921875 \r\nL 10.984375 60.40625 \r\nL 10.984375 69.390625 \r\nL 28.421875 72.90625 \r\nL 38.28125 72.90625 \r\nL 38.28125 8.296875 \r\nL 54.390625 8.296875 \r\nL 54.390625 0 \r\nL 12.40625 0 \r\nz\r\n\" id=\"DejaVuSans-49\"/>\r\n      <path d=\"M 89.796875 33.015625 \r\nL 83.40625 0 \r\nL 74.421875 0 \r\nL 80.71875 32.71875 \r\nQ 81.109375 34.8125 81.296875 36.328125 \r\nQ 81.5 37.84375 81.5 38.921875 \r\nQ 81.5 43.3125 79.046875 45.75 \r\nQ 76.609375 48.1875 72.21875 48.1875 \r\nQ 65.671875 48.1875 60.546875 43.28125 \r\nQ 55.421875 38.375 53.90625 30.515625 \r\nL 47.90625 0 \r\nL 38.921875 0 \r\nL 45.3125 32.71875 \r\nQ 45.703125 34.515625 45.890625 36.046875 \r\nQ 46.09375 37.59375 46.09375 38.8125 \r\nQ 46.09375 43.265625 43.65625 45.71875 \r\nQ 41.21875 48.1875 36.921875 48.1875 \r\nQ 30.28125 48.1875 25.140625 43.28125 \r\nQ 20.015625 38.375 18.5 30.515625 \r\nL 12.5 0 \r\nL 3.515625 0 \r\nL 14.203125 54.6875 \r\nL 23.1875 54.6875 \r\nL 21.484375 46.1875 \r\nQ 25.140625 50.984375 30.046875 53.484375 \r\nQ 34.96875 56 40.578125 56 \r\nQ 46.53125 56 50.359375 52.875 \r\nQ 54.203125 49.75 54.984375 44.1875 \r\nQ 59.078125 49.953125 64.46875 52.96875 \r\nQ 69.875 56 75.875 56 \r\nQ 82.90625 56 86.734375 51.953125 \r\nQ 90.578125 47.90625 90.578125 40.484375 \r\nQ 90.578125 38.875 90.375 36.9375 \r\nQ 90.1875 35.015625 89.796875 33.015625 \r\nz\r\n\" id=\"DejaVuSans-Oblique-109\"/>\r\n      <path d=\"M 20.296875 -16.40625 \r\nL 2 -16.40625 \r\nL 2 -13.09375 \r\nL 13.296875 -13.09375 \r\nL 13.296875 103.296875 \r\nL 2 103.296875 \r\nL 2 106.59375 \r\nL 20.296875 106.59375 \r\nz\r\n\" id=\"STIXSizeOneSym-Regular-93\"/>\r\n     </defs>\r\n     <g style=\"fill:#696969;\" transform=\"translate(610.35875 1047.546875)scale(0.18 -0.18)\">\r\n      <use transform=\"translate(0 0.16875)\" xlink:href=\"#DejaVuSans-Oblique-967\"/>\r\n      <use transform=\"translate(75.415364 -10.28125)scale(0.987678)\" xlink:href=\"#STIXSizeOneSym-Regular-91\"/>\r\n      <use transform=\"translate(125.242589 43.965625)scale(0.7)\" xlink:href=\"#DejaVuSans-49\"/>\r\n      <use transform=\"translate(113.242589 -26.484375)scale(0.7)\" xlink:href=\"#DejaVuSans-Oblique-109\"/>\r\n      <use transform=\"translate(193.931065 -10.28125)scale(0.987678)\" xlink:href=\"#STIXSizeOneSym-Regular-93\"/>\r\n      <path d=\"M 113.242589 18.965625 \r\nL 113.242589 25.215625 \r\nL 181.431065 25.215625 \r\nL 181.431065 18.965625 \r\nL 113.242589 18.965625 \r\nz\r\n\"/>\r\n     </g>\r\n    </g>\r\n   </g>\r\n   <g id=\"matplotlib.axis_2\">\r\n    <g id=\"ytick_1\">\r\n     <g id=\"line2d_7\">\r\n      <path clip-path=\"url(#pc26fc1490c)\" d=\"M 73.23875 1005.283125 \r\nL 1189.23875 1005.283125 \r\n\" style=\"fill:none;stroke:#d5d5d5;stroke-linecap:round;\"/>\r\n     </g>\r\n     <g id=\"text_6\">\r\n      <!-- 0.0 -->\r\n      <g style=\"fill:#696969;\" transform=\"translate(43.819375 1009.949063)scale(0.14 -0.14)\">\r\n       <use xlink:href=\"#FranklinGothic-Book-48\"/>\r\n       <use x=\"58.642578\" xlink:href=\"#FranklinGothic-Book-46\"/>\r\n       <use x=\"83.642578\" xlink:href=\"#FranklinGothic-Book-48\"/>\r\n      </g>\r\n     </g>\r\n    </g>\r\n    <g id=\"ytick_2\">\r\n     <g id=\"line2d_8\">\r\n      <path clip-path=\"url(#pc26fc1490c)\" d=\"M 73.23875 178.375616 \r\nL 1189.23875 178.375616 \r\n\" style=\"fill:none;stroke:#d5d5d5;stroke-linecap:round;\"/>\r\n     </g>\r\n     <g id=\"text_7\">\r\n      <!-- 182.3 -->\r\n      <defs>\r\n       <path d=\"M 19.34375 31.34375 \r\nL 19.34375 37.984375 \r\nL 26.953125 37.984375 \r\nQ 35.296875 37.984375 38.890625 41.40625 \r\nQ 42.484375 44.828125 42.484375 49.703125 \r\nQ 42.484375 55.078125 38.46875 58.21875 \r\nQ 34.46875 61.375 28.421875 61.375 \r\nQ 17.1875 61.375 12.890625 50.53125 \r\nL 5.375 52.6875 \r\nQ 11.8125 68.015625 29.203125 68.015625 \r\nQ 38.96875 68.015625 44.96875 62.8125 \r\nQ 50.984375 57.625 50.984375 50.296875 \r\nQ 50.984375 44.625 47.359375 40.40625 \r\nQ 43.75 36.1875 38.09375 35.109375 \r\nQ 44.4375 34.1875 49 29.78125 \r\nQ 53.5625 25.390625 53.5625 18.40625 \r\nQ 53.5625 10.0625 46.765625 4.375 \r\nQ 39.984375 -1.3125 28.171875 -1.3125 \r\nQ 18.796875 -1.3125 12.125 3.125 \r\nQ 5.46875 7.5625 2.9375 14.9375 \r\nL 10.6875 17.53125 \r\nQ 14.203125 5.46875 28.03125 5.46875 \r\nQ 37.015625 5.46875 40.9375 9.296875 \r\nQ 44.875 13.140625 44.875 18.453125 \r\nQ 44.875 24.21875 40.15625 27.78125 \r\nQ 35.453125 31.34375 26.953125 31.34375 \r\nz\r\n\" id=\"FranklinGothic-Book-51\"/>\r\n      </defs>\r\n      <g style=\"fill:#696969;\" transform=\"translate(27.4875 183.041554)scale(0.14 -0.14)\">\r\n       <use xlink:href=\"#FranklinGothic-Book-49\"/>\r\n       <use x=\"58.017578\" xlink:href=\"#FranklinGothic-Book-56\"/>\r\n       <use x=\"116.660156\" xlink:href=\"#FranklinGothic-Book-50\"/>\r\n       <use x=\"175.302734\" xlink:href=\"#FranklinGothic-Book-46\"/>\r\n       <use x=\"200.302734\" xlink:href=\"#FranklinGothic-Book-51\"/>\r\n      </g>\r\n     </g>\r\n    </g>\r\n    <g id=\"ytick_3\">\r\n     <g id=\"line2d_9\">\r\n      <path clip-path=\"url(#pc26fc1490c)\" d=\"M 73.23875 82.656127 \r\nL 1189.23875 82.656127 \r\n\" style=\"fill:none;stroke:#d5d5d5;stroke-linecap:round;\"/>\r\n     </g>\r\n     <g id=\"text_8\">\r\n      <!-- 203.4 -->\r\n      <defs>\r\n       <path d=\"M 44.09375 0 \r\nL 36.03125 0 \r\nL 36.03125 15.875 \r\nL 3.078125 15.875 \r\nL 3.078125 21.484375 \r\nL 33.640625 68.0625 \r\nL 44.09375 68.0625 \r\nL 44.09375 22.46875 \r\nL 54.890625 22.46875 \r\nL 54.890625 15.875 \r\nL 44.09375 15.875 \r\nz\r\nM 36.03125 22.46875 \r\nL 36.03125 54 \r\nQ 36.03125 57.421875 36.1875 61.375 \r\nQ 34.078125 57.515625 32.5625 55.125 \r\nL 11.765625 22.46875 \r\nz\r\n\" id=\"FranklinGothic-Book-52\"/>\r\n      </defs>\r\n      <g style=\"fill:#696969;\" transform=\"translate(27.4 87.322065)scale(0.14 -0.14)\">\r\n       <use xlink:href=\"#FranklinGothic-Book-50\"/>\r\n       <use x=\"58.642578\" xlink:href=\"#FranklinGothic-Book-48\"/>\r\n       <use x=\"117.285156\" xlink:href=\"#FranklinGothic-Book-51\"/>\r\n       <use x=\"175.927734\" xlink:href=\"#FranklinGothic-Book-46\"/>\r\n       <use x=\"200.927734\" xlink:href=\"#FranklinGothic-Book-52\"/>\r\n      </g>\r\n     </g>\r\n    </g>\r\n    <g id=\"ytick_4\">\r\n     <g id=\"line2d_10\">\r\n      <path clip-path=\"url(#pc26fc1490c)\" d=\"M 73.23875 72.13152 \r\nL 1189.23875 72.13152 \r\n\" style=\"fill:none;stroke:#d5d5d5;stroke-linecap:round;\"/>\r\n     </g>\r\n     <g id=\"text_9\">\r\n      <!-- 205.7 -->\r\n      <defs>\r\n       <path d=\"M 48.875 66.65625 \r\nL 48.1875 59.46875 \r\nL 15.4375 59.46875 \r\nL 14.015625 37.84375 \r\nQ 21.4375 45.125 30.328125 45.125 \r\nQ 39.703125 45.125 46.515625 38.625 \r\nQ 53.328125 32.125 53.328125 22.015625 \r\nQ 53.328125 11.765625 45.921875 5.21875 \r\nQ 38.53125 -1.3125 27.828125 -1.3125 \r\nQ 19.4375 -1.3125 12.890625 3.078125 \r\nQ 6.34375 7.46875 4.296875 14.453125 \r\nL 11.421875 16.890625 \r\nQ 15.828125 5.28125 27.9375 5.28125 \r\nQ 35.890625 5.28125 40.578125 9.984375 \r\nQ 45.265625 14.703125 45.265625 22.015625 \r\nQ 45.265625 29.6875 40.625 33.984375 \r\nQ 35.984375 38.28125 29.5 38.28125 \r\nQ 20.015625 38.28125 13.8125 29.203125 \r\nL 7.234375 30.609375 \r\nL 9.375 66.65625 \r\nz\r\n\" id=\"FranklinGothic-Book-53\"/>\r\n      </defs>\r\n      <g style=\"fill:#696969;\" transform=\"translate(27.4 76.797457)scale(0.14 -0.14)\">\r\n       <use xlink:href=\"#FranklinGothic-Book-50\"/>\r\n       <use x=\"58.642578\" xlink:href=\"#FranklinGothic-Book-48\"/>\r\n       <use x=\"117.285156\" xlink:href=\"#FranklinGothic-Book-53\"/>\r\n       <use x=\"175.927734\" xlink:href=\"#FranklinGothic-Book-46\"/>\r\n       <use x=\"200.927734\" xlink:href=\"#FranklinGothic-Book-55\"/>\r\n      </g>\r\n     </g>\r\n    </g>\r\n    <g id=\"text_10\">\r\n     <!-- $M\\,[kN\\,m]$ -->\r\n     <defs>\r\n      <path d=\"M 16.890625 72.90625 \r\nL 31.6875 72.90625 \r\nL 40.1875 23.78125 \r\nL 68.40625 72.90625 \r\nL 83.59375 72.90625 \r\nL 69.390625 0 \r\nL 59.8125 0 \r\nL 72.21875 63.921875 \r\nL 43.609375 14.015625 \r\nL 33.984375 14.015625 \r\nL 24.703125 64.109375 \r\nL 12.3125 0 \r\nL 2.6875 0 \r\nz\r\n\" id=\"DejaVuSans-Oblique-77\"/>\r\n      <path d=\"M 8.59375 75.984375 \r\nL 29.296875 75.984375 \r\nL 29.296875 69 \r\nL 17.578125 69 \r\nL 17.578125 -6.203125 \r\nL 29.296875 -6.203125 \r\nL 29.296875 -13.1875 \r\nL 8.59375 -13.1875 \r\nz\r\n\" id=\"DejaVuSans-91\"/>\r\n      <path d=\"M 18.3125 75.984375 \r\nL 27.296875 75.984375 \r\nL 18.703125 31.6875 \r\nL 49.515625 54.6875 \r\nL 61.1875 54.6875 \r\nL 26.8125 28.515625 \r\nL 51.90625 0 \r\nL 41.015625 0 \r\nL 17.671875 26.703125 \r\nL 12.5 0 \r\nL 3.515625 0 \r\nz\r\n\" id=\"DejaVuSans-Oblique-107\"/>\r\n      <path d=\"M 16.890625 72.90625 \r\nL 30.171875 72.90625 \r\nL 50.296875 10.40625 \r\nL 62.5 72.90625 \r\nL 72.125 72.90625 \r\nL 57.90625 0 \r\nL 44.578125 0 \r\nL 24.515625 62.890625 \r\nL 12.3125 0 \r\nL 2.6875 0 \r\nz\r\n\" id=\"DejaVuSans-Oblique-78\"/>\r\n      <path d=\"M 30.421875 75.984375 \r\nL 30.421875 -13.1875 \r\nL 9.71875 -13.1875 \r\nL 9.71875 -6.203125 \r\nL 21.390625 -6.203125 \r\nL 21.390625 69 \r\nL 9.71875 69 \r\nL 9.71875 75.984375 \r\nz\r\n\" id=\"DejaVuSans-93\"/>\r\n     </defs>\r\n     <g style=\"fill:#696969;\" transform=\"translate(20.401875 554.473125)rotate(-90)scale(0.18 -0.18)\">\r\n      <use transform=\"translate(0 0.015625)\" xlink:href=\"#DejaVuSans-Oblique-77\"/>\r\n      <use transform=\"translate(102.514973 0.015625)\" xlink:href=\"#DejaVuSans-91\"/>\r\n      <use transform=\"translate(141.528645 0.015625)\" xlink:href=\"#DejaVuSans-Oblique-107\"/>\r\n      <use transform=\"translate(199.438801 0.015625)\" xlink:href=\"#DejaVuSans-Oblique-78\"/>\r\n      <use transform=\"translate(290.479165 0.015625)\" xlink:href=\"#DejaVuSans-Oblique-109\"/>\r\n      <use transform=\"translate(387.891274 0.015625)\" xlink:href=\"#DejaVuSans-93\"/>\r\n     </g>\r\n    </g>\r\n   </g>\r\n   <g id=\"text_11\">\r\n    <!-- Metodo della colonna modello - pilastro P27 -->\r\n    <defs>\r\n     <path d=\"M 72.703125 0 \r\nL 64.59375 0 \r\nL 64.59375 58.203125 \r\nL 42.921875 0 \r\nL 37.25 0 \r\nL 15.4375 58.203125 \r\nL 15.4375 0 \r\nL 8.34375 0 \r\nL 8.34375 66.65625 \r\nL 20.75 66.65625 \r\nL 40.828125 13.328125 \r\nL 60.5 66.65625 \r\nL 72.703125 66.65625 \r\nz\r\n\" id=\"FranklinGothic-Book-77\"/>\r\n     <path d=\"M 40.234375 14.703125 \r\nL 47.359375 13.234375 \r\nQ 45.40625 6.9375 39.734375 2.8125 \r\nQ 34.078125 -1.3125 26.421875 -1.3125 \r\nQ 16.3125 -1.3125 10.0625 5.78125 \r\nQ 3.8125 12.890625 3.8125 24.421875 \r\nQ 3.8125 36.1875 10.296875 43.4375 \r\nQ 16.796875 50.6875 26.609375 50.6875 \r\nQ 36.28125 50.6875 42.15625 44 \r\nQ 48.046875 37.3125 48.1875 23.96875 \r\nL 12.359375 23.96875 \r\nQ 12.359375 12.796875 17.046875 8.890625 \r\nQ 21.734375 4.984375 26.953125 4.984375 \r\nQ 36.375 4.984375 40.234375 14.703125 \r\nz\r\nM 39.796875 29.6875 \r\nQ 39.703125 33.84375 38.421875 37.0625 \r\nQ 37.15625 40.28125 34.125 42.546875 \r\nQ 31.109375 44.828125 26.859375 44.828125 \r\nQ 21.140625 44.828125 17.15625 40.71875 \r\nQ 13.1875 36.625 12.703125 29.6875 \r\nz\r\n\" id=\"FranklinGothic-Book-101\"/>\r\n     <path d=\"M 30.03125 5.28125 \r\nL 30.03125 -0.78125 \r\nQ 25.984375 -1.3125 23 -1.3125 \r\nQ 8.6875 -1.3125 8.6875 13.625 \r\nL 8.6875 43.3125 \r\nL -0.046875 43.3125 \r\nL -0.046875 49.3125 \r\nL 8.6875 49.3125 \r\nL 9.03125 61.71875 \r\nL 16.15625 62.40625 \r\nL 16.15625 49.3125 \r\nL 27.203125 49.3125 \r\nL 27.203125 43.3125 \r\nL 16.15625 43.3125 \r\nL 16.15625 12.359375 \r\nQ 16.15625 4.734375 24.078125 4.734375 \r\nQ 26.703125 4.734375 30.03125 5.28125 \r\nz\r\n\" id=\"FranklinGothic-Book-116\"/>\r\n     <path d=\"M 25.34375 -1.3125 \r\nQ 15.1875 -1.3125 9.5 6.203125 \r\nQ 3.8125 13.71875 3.8125 24.859375 \r\nQ 3.8125 36.625 10.203125 43.65625 \r\nQ 16.609375 50.6875 26.125 50.6875 \r\nQ 36.328125 50.6875 42.203125 43.28125 \r\nQ 48.09375 35.890625 48.09375 24.8125 \r\nQ 48.09375 13.28125 41.75 5.984375 \r\nQ 35.40625 -1.3125 25.34375 -1.3125 \r\nz\r\nM 25.921875 4.984375 \r\nQ 31.78125 4.984375 35.734375 9.8125 \r\nQ 39.703125 14.65625 39.703125 24.859375 \r\nQ 39.703125 35.109375 35.546875 39.71875 \r\nQ 31.390625 44.34375 25.828125 44.34375 \r\nQ 20.125 44.34375 16.15625 39.671875 \r\nQ 12.203125 35.015625 12.203125 24.90625 \r\nQ 12.203125 14.203125 16.15625 9.59375 \r\nQ 20.125 4.984375 25.921875 4.984375 \r\nz\r\n\" id=\"FranklinGothic-Book-111\"/>\r\n     <path d=\"M 46.1875 66.65625 \r\nL 46.1875 0 \r\nL 39.203125 0 \r\nL 39.203125 8.453125 \r\nQ 34.03125 -1.3125 23.640625 -1.3125 \r\nQ 14.984375 -1.3125 9.421875 5.9375 \r\nQ 3.859375 13.1875 3.859375 24.265625 \r\nQ 3.859375 35.59375 9.375 43.140625 \r\nQ 14.890625 50.6875 24.03125 50.6875 \r\nQ 32.90625 50.6875 38.53125 42.578125 \r\nL 38.53125 66.65625 \r\nz\r\nM 38.53125 30.28125 \r\nQ 38.53125 36.765625 34.5625 40.671875 \r\nQ 30.609375 44.578125 25.34375 44.578125 \r\nQ 19.625 44.578125 15.9375 39.5 \r\nQ 12.25 34.421875 12.25 25.25 \r\nQ 12.25 15.328125 15.640625 10.15625 \r\nQ 19.046875 4.984375 24.953125 4.984375 \r\nQ 30.328125 4.984375 34.421875 9.46875 \r\nQ 38.53125 13.96875 38.53125 20.015625 \r\nz\r\n\" id=\"FranklinGothic-Book-100\"/>\r\n     <path id=\"FranklinGothic-Book-32\"/>\r\n     <path d=\"M 15.328125 0 \r\nL 7.671875 0 \r\nL 7.671875 66.65625 \r\nL 15.328125 66.65625 \r\nz\r\n\" id=\"FranklinGothic-Book-108\"/>\r\n     <path d=\"M 46.296875 0 \r\nL 38.671875 0 \r\nQ 38.234375 2.34375 37.796875 8.890625 \r\nQ 32.71875 -1.3125 20.515625 -1.3125 \r\nQ 12.203125 -1.3125 7.765625 3.078125 \r\nQ 3.328125 7.46875 3.328125 13.625 \r\nQ 3.328125 21.09375 9.671875 25.90625 \r\nQ 16.015625 30.71875 31.25 30.71875 \r\nQ 33.296875 30.71875 37.796875 30.515625 \r\nQ 37.796875 36.375 36.890625 38.984375 \r\nQ 35.984375 41.609375 33.046875 43.171875 \r\nQ 30.125 44.734375 25.34375 44.734375 \r\nQ 13.671875 44.734375 11.765625 35.84375 \r\nL 4.6875 37.0625 \r\nQ 7.28125 50.6875 26.46875 50.6875 \r\nQ 36.671875 50.6875 40.9375 46.171875 \r\nQ 45.21875 41.65625 45.21875 30.515625 \r\nL 45.21875 9.578125 \r\nQ 45.21875 4.34375 46.296875 0 \r\nz\r\nM 37.796875 24.65625 \r\nQ 33.109375 24.953125 30.671875 24.953125 \r\nQ 21.578125 24.953125 16.546875 21.96875 \r\nQ 11.53125 19 11.53125 13.28125 \r\nQ 11.53125 9.671875 14.234375 7.125 \r\nQ 16.9375 4.59375 22.078125 4.59375 \r\nQ 29 4.59375 33.46875 9.625 \r\nQ 37.9375 14.65625 37.9375 21.4375 \r\nQ 37.9375 22.796875 37.796875 24.65625 \r\nz\r\n\" id=\"FranklinGothic-Book-97\"/>\r\n     <path d=\"M 36.8125 17.28125 \r\nL 43.75 16.0625 \r\nQ 42.28125 7.90625 37.25 3.296875 \r\nQ 32.234375 -1.3125 24.703125 -1.3125 \r\nQ 14.5 -1.3125 9.15625 6.203125 \r\nQ 3.8125 13.71875 3.8125 24.5625 \r\nQ 3.8125 35.796875 9.453125 43.234375 \r\nQ 15.09375 50.6875 24.8125 50.6875 \r\nQ 32.859375 50.6875 37.71875 45.875 \r\nQ 42.578125 41.0625 43.75 33.453125 \r\nL 36.8125 32.125 \r\nQ 34.859375 44.34375 25 44.34375 \r\nQ 18.65625 44.34375 15.234375 38.9375 \r\nQ 11.8125 33.546875 11.8125 24.953125 \r\nQ 11.8125 15.484375 15.203125 10.234375 \r\nQ 18.609375 4.984375 24.75 4.984375 \r\nQ 34.28125 4.984375 36.8125 17.28125 \r\nz\r\n\" id=\"FranklinGothic-Book-99\"/>\r\n     <path d=\"M 46.53125 0 \r\nL 39.359375 0 \r\nL 39.359375 31.6875 \r\nQ 39.359375 38.53125 36.375 41.3125 \r\nQ 33.40625 44.09375 29.15625 44.09375 \r\nQ 23.296875 44.09375 19.3125 39.40625 \r\nQ 15.328125 34.71875 15.328125 27.046875 \r\nL 15.328125 0 \r\nL 7.671875 0 \r\nL 7.671875 49.3125 \r\nL 14.796875 49.3125 \r\nL 14.796875 40.234375 \r\nQ 20.796875 50.6875 30.375 50.6875 \r\nQ 35.890625 50.6875 39.765625 47.828125 \r\nQ 43.65625 44.96875 45.09375 41.40625 \r\nQ 46.53125 37.84375 46.53125 28.515625 \r\nz\r\n\" id=\"FranklinGothic-Book-110\"/>\r\n     <path d=\"M 73.734375 0 \r\nL 66.265625 0 \r\nL 66.265625 30.671875 \r\nQ 66.265625 35.40625 65.59375 37.765625 \r\nQ 64.9375 40.140625 62.390625 42.109375 \r\nQ 59.859375 44.09375 56.6875 44.09375 \r\nQ 52.296875 44.09375 48.21875 40.0625 \r\nQ 44.140625 36.03125 44.140625 27.78125 \r\nL 44.140625 0 \r\nL 36.71875 0 \r\nL 36.71875 32.46875 \r\nQ 36.71875 38.96875 33.609375 41.65625 \r\nQ 30.515625 44.34375 27.09375 44.34375 \r\nQ 22.21875 44.34375 18.59375 40.140625 \r\nQ 14.984375 35.9375 14.984375 29.5 \r\nL 14.984375 0 \r\nL 7.671875 0 \r\nL 7.671875 49.3125 \r\nL 14.265625 49.3125 \r\nL 14.265625 39.84375 \r\nQ 19.78125 50.6875 29.4375 50.6875 \r\nQ 34.765625 50.6875 38.46875 47.21875 \r\nQ 42.1875 43.75 43.265625 38.875 \r\nQ 48.34375 50.6875 58.84375 50.6875 \r\nQ 63.875 50.6875 67.65625 47.796875 \r\nQ 71.4375 44.921875 72.578125 41.1875 \r\nQ 73.734375 37.453125 73.734375 30.671875 \r\nz\r\n\" id=\"FranklinGothic-Book-109\"/>\r\n     <path d=\"M 23.53125 27.984375 \r\nL 23.53125 22.015625 \r\nL 1.46875 22.015625 \r\nL 1.46875 27.984375 \r\nz\r\n\" id=\"FranklinGothic-Book-45\"/>\r\n     <path d=\"M 15.328125 -16.65625 \r\nL 7.671875 -16.65625 \r\nL 7.671875 49.3125 \r\nL 14.546875 49.3125 \r\nL 14.546875 39.75 \r\nQ 19.78125 50.6875 30.125 50.6875 \r\nQ 38.875 50.6875 44.234375 43.375 \r\nQ 49.609375 36.078125 49.609375 24.90625 \r\nQ 49.609375 12.84375 44.09375 5.765625 \r\nQ 38.578125 -1.3125 29.9375 -1.3125 \r\nQ 20.65625 -1.3125 15.328125 7.515625 \r\nz\r\nM 15.328125 31.78125 \r\nL 15.328125 17.921875 \r\nQ 16.0625 12.3125 20.0625 8.640625 \r\nQ 24.078125 4.984375 28.421875 4.984375 \r\nQ 33.453125 4.984375 37.328125 9.375 \r\nQ 41.21875 13.765625 41.21875 24.5625 \r\nQ 41.21875 33.890625 37.703125 38.9375 \r\nQ 34.1875 44 28.375 44 \r\nQ 23.78125 44 20.140625 40.421875 \r\nQ 16.5 36.859375 15.328125 31.78125 \r\nz\r\n\" id=\"FranklinGothic-Book-112\"/>\r\n     <path d=\"M 15.578125 66.65625 \r\nL 15.578125 58.15625 \r\nL 7.328125 58.15625 \r\nL 7.328125 66.65625 \r\nz\r\nM 15.328125 49.3125 \r\nL 15.328125 0 \r\nL 7.671875 0 \r\nL 7.671875 49.3125 \r\nz\r\n\" id=\"FranklinGothic-Book-105\"/>\r\n     <path d=\"M 1.03125 12.796875 \r\nL 8.34375 14.3125 \r\nQ 10.796875 4.984375 23.78125 4.984375 \r\nQ 28.5625 4.984375 31.875 7.125 \r\nQ 35.203125 9.28125 35.203125 13.1875 \r\nQ 35.203125 19 26.765625 20.5625 \r\nL 16.359375 22.515625 \r\nQ 10.25 23.6875 6.640625 27.09375 \r\nQ 3.03125 30.515625 3.03125 36.140625 \r\nQ 3.03125 42.328125 7.953125 46.5 \r\nQ 12.890625 50.6875 21.234375 50.6875 \r\nQ 37.3125 50.6875 41.0625 38.140625 \r\nL 34.03125 36.625 \r\nQ 31 44.34375 21.578125 44.34375 \r\nQ 16.890625 44.34375 13.890625 42.40625 \r\nQ 10.890625 40.484375 10.890625 37.015625 \r\nQ 10.890625 31.546875 18.5625 30.125 \r\nL 28.171875 28.421875 \r\nQ 43.265625 25.6875 43.265625 13.8125 \r\nQ 43.265625 7.03125 37.640625 2.859375 \r\nQ 32.03125 -1.3125 22.703125 -1.3125 \r\nQ 5.171875 -1.3125 1.03125 12.796875 \r\nz\r\n\" id=\"FranklinGothic-Book-115\"/>\r\n     <path d=\"M 15.328125 0 \r\nL 7.671875 0 \r\nL 7.671875 49.3125 \r\nL 14.40625 49.3125 \r\nL 14.40625 37.796875 \r\nQ 17.96875 45.953125 21.546875 48.359375 \r\nQ 25.140625 50.78125 28.90625 50.78125 \r\nQ 30.078125 50.78125 31.9375 50.59375 \r\nL 31.9375 43.265625 \r\nL 30.375 43.265625 \r\nQ 24.03125 43.265625 19.828125 38.53125 \r\nQ 15.625 33.796875 15.328125 26.078125 \r\nz\r\n\" id=\"FranklinGothic-Book-114\"/>\r\n     <path d=\"M 16.703125 0 \r\nL 8.34375 0 \r\nL 8.34375 66.65625 \r\nL 31.984375 66.65625 \r\nQ 43.0625 66.65625 48.328125 60.625 \r\nQ 53.609375 54.59375 53.609375 46.875 \r\nQ 53.609375 38.28125 47.875 32.65625 \r\nQ 42.140625 27.046875 32.859375 27.046875 \r\nL 16.703125 27.046875 \r\nz\r\nM 16.703125 33.984375 \r\nL 32.03125 33.984375 \r\nQ 37.9375 33.984375 41.546875 37.515625 \r\nQ 45.171875 41.0625 45.171875 46.875 \r\nQ 45.171875 51.859375 41.9375 55.765625 \r\nQ 38.71875 59.671875 32.625 59.671875 \r\nL 16.703125 59.671875 \r\nz\r\n\" id=\"FranklinGothic-Book-80\"/>\r\n    </defs>\r\n    <g style=\"fill:#696969;\" transform=\"translate(445.980937 20.803125)scale(0.2 -0.2)\">\r\n     <use xlink:href=\"#FranklinGothic-Book-77\"/>\r\n     <use x=\"81.005859\" xlink:href=\"#FranklinGothic-Book-101\"/>\r\n     <use x=\"132.556641\" xlink:href=\"#FranklinGothic-Book-116\"/>\r\n     <use x=\"161.818359\" xlink:href=\"#FranklinGothic-Book-111\"/>\r\n     <use x=\"213.771484\" xlink:href=\"#FranklinGothic-Book-100\"/>\r\n     <use x=\"267.628906\" xlink:href=\"#FranklinGothic-Book-111\"/>\r\n     <use x=\"319.582031\" xlink:href=\"#FranklinGothic-Book-32\"/>\r\n     <use x=\"344.582031\" xlink:href=\"#FranklinGothic-Book-100\"/>\r\n     <use x=\"398.439453\" xlink:href=\"#FranklinGothic-Book-101\"/>\r\n     <use x=\"450.490234\" xlink:href=\"#FranklinGothic-Book-108\"/>\r\n     <use x=\"473.488281\" xlink:href=\"#FranklinGothic-Book-108\"/>\r\n     <use x=\"496.486328\" xlink:href=\"#FranklinGothic-Book-97\"/>\r\n     <use x=\"549.367188\" xlink:href=\"#FranklinGothic-Book-32\"/>\r\n     <use x=\"574.367188\" xlink:href=\"#FranklinGothic-Book-99\"/>\r\n     <use x=\"620.949219\" xlink:href=\"#FranklinGothic-Book-111\"/>\r\n     <use x=\"672.902344\" xlink:href=\"#FranklinGothic-Book-108\"/>\r\n     <use x=\"695.900391\" xlink:href=\"#FranklinGothic-Book-111\"/>\r\n     <use x=\"747.853516\" xlink:href=\"#FranklinGothic-Book-110\"/>\r\n     <use x=\"802.052734\" xlink:href=\"#FranklinGothic-Book-110\"/>\r\n     <use x=\"856.251953\" xlink:href=\"#FranklinGothic-Book-97\"/>\r\n     <use x=\"909.132812\" xlink:href=\"#FranklinGothic-Book-32\"/>\r\n     <use x=\"934.132812\" xlink:href=\"#FranklinGothic-Book-109\"/>\r\n     <use x=\"1015.529297\" xlink:href=\"#FranklinGothic-Book-111\"/>\r\n     <use x=\"1067.482422\" xlink:href=\"#FranklinGothic-Book-100\"/>\r\n     <use x=\"1121.339844\" xlink:href=\"#FranklinGothic-Book-101\"/>\r\n     <use x=\"1173.390625\" xlink:href=\"#FranklinGothic-Book-108\"/>\r\n     <use x=\"1196.388672\" xlink:href=\"#FranklinGothic-Book-108\"/>\r\n     <use x=\"1219.386719\" xlink:href=\"#FranklinGothic-Book-111\"/>\r\n     <use x=\"1271.339844\" xlink:href=\"#FranklinGothic-Book-32\"/>\r\n     <use x=\"1296.339844\" xlink:href=\"#FranklinGothic-Book-45\"/>\r\n     <use x=\"1321.339844\" xlink:href=\"#FranklinGothic-Book-32\"/>\r\n     <use x=\"1346.339844\" xlink:href=\"#FranklinGothic-Book-112\"/>\r\n     <use x=\"1399.757812\" xlink:href=\"#FranklinGothic-Book-105\"/>\r\n     <use x=\"1422.707031\" xlink:href=\"#FranklinGothic-Book-108\"/>\r\n     <use x=\"1445.705078\" xlink:href=\"#FranklinGothic-Book-97\"/>\r\n     <use x=\"1498.585938\" xlink:href=\"#FranklinGothic-Book-115\"/>\r\n     <use x=\"1544.972656\" xlink:href=\"#FranklinGothic-Book-116\"/>\r\n     <use x=\"1575.734375\" xlink:href=\"#FranklinGothic-Book-114\"/>\r\n     <use x=\"1606.943359\" xlink:href=\"#FranklinGothic-Book-111\"/>\r\n     <use x=\"1658.896484\" xlink:href=\"#FranklinGothic-Book-32\"/>\r\n     <use x=\"1683.896484\" xlink:href=\"#FranklinGothic-Book-80\"/>\r\n     <use x=\"1739.804688\" xlink:href=\"#FranklinGothic-Book-50\"/>\r\n     <use x=\"1793.947266\" xlink:href=\"#FranklinGothic-Book-55\"/>\r\n    </g>\r\n   </g>\r\n   <g id=\"legend_1\">\r\n    <g id=\"patch_5\">\r\n     <path d=\"M 83.03875 78.743125 \r\nL 224.85875 78.743125 \r\nQ 227.65875 78.743125 227.65875 75.943125 \r\nL 227.65875 36.603125 \r\nQ 227.65875 33.803125 224.85875 33.803125 \r\nL 83.03875 33.803125 \r\nQ 80.23875 33.803125 80.23875 36.603125 \r\nL 80.23875 75.943125 \r\nQ 80.23875 78.743125 83.03875 78.743125 \r\nz\r\n\" style=\"fill:none;opacity:0.8;stroke:#cccccc;stroke-linejoin:miter;\"/>\r\n    </g>\r\n    <g id=\"line2d_11\">\r\n     <path d=\"M 85.83875 45.143125 \r\nL 113.83875 45.143125 \r\n\" style=\"fill:none;stroke:#7fa5a5;stroke-linecap:round;stroke-width:3;\"/>\r\n    </g>\r\n    <g id=\"line2d_12\"/>\r\n    <g id=\"text_12\">\r\n     <!-- $N_{Ed} = 1882\\,kN$ -->\r\n     <defs>\r\n      <path d=\"M 16.890625 72.90625 \r\nL 62.984375 72.90625 \r\nL 61.375 64.59375 \r\nL 25.09375 64.59375 \r\nL 20.90625 43.015625 \r\nL 55.71875 43.015625 \r\nL 54.109375 34.71875 \r\nL 19.28125 34.71875 \r\nL 14.203125 8.296875 \r\nL 51.3125 8.296875 \r\nL 49.703125 0 \r\nL 2.6875 0 \r\nz\r\n\" id=\"DejaVuSans-Oblique-69\"/>\r\n      <path d=\"M 41.796875 8.203125 \r\nQ 38.1875 3.46875 33.25 1.015625 \r\nQ 28.328125 -1.421875 22.3125 -1.421875 \r\nQ 14.109375 -1.421875 9.34375 4.171875 \r\nQ 4.59375 9.765625 4.59375 19.484375 \r\nQ 4.59375 27.59375 7.46875 34.9375 \r\nQ 10.359375 42.28125 15.828125 48.09375 \r\nQ 19.4375 51.953125 23.96875 53.96875 \r\nQ 28.515625 56 33.5 56 \r\nQ 38.765625 56 42.796875 53.453125 \r\nQ 46.828125 50.921875 49.03125 46.1875 \r\nL 54.890625 75.984375 \r\nL 63.921875 75.984375 \r\nL 49.125 0 \r\nL 40.09375 0 \r\nz\r\nM 13.921875 21.09375 \r\nQ 13.921875 14.015625 17.109375 10.0625 \r\nQ 20.3125 6.109375 25.984375 6.109375 \r\nQ 30.171875 6.109375 33.765625 8.125 \r\nQ 37.359375 10.15625 40.09375 14.109375 \r\nQ 42.96875 18.21875 44.625 23.578125 \r\nQ 46.296875 28.953125 46.296875 34.1875 \r\nQ 46.296875 40.96875 43.09375 44.765625 \r\nQ 39.890625 48.578125 34.28125 48.578125 \r\nQ 30.03125 48.578125 26.359375 46.578125 \r\nQ 22.703125 44.578125 20.125 40.828125 \r\nQ 17.28125 36.765625 15.59375 31.390625 \r\nQ 13.921875 26.03125 13.921875 21.09375 \r\nz\r\n\" id=\"DejaVuSans-Oblique-100\"/>\r\n      <path d=\"M 10.59375 45.40625 \r\nL 73.1875 45.40625 \r\nL 73.1875 37.203125 \r\nL 10.59375 37.203125 \r\nz\r\nM 10.59375 25.484375 \r\nL 73.1875 25.484375 \r\nL 73.1875 17.1875 \r\nL 10.59375 17.1875 \r\nz\r\n\" id=\"DejaVuSans-61\"/>\r\n      <path d=\"M 31.78125 34.625 \r\nQ 24.75 34.625 20.71875 30.859375 \r\nQ 16.703125 27.09375 16.703125 20.515625 \r\nQ 16.703125 13.921875 20.71875 10.15625 \r\nQ 24.75 6.390625 31.78125 6.390625 \r\nQ 38.8125 6.390625 42.859375 10.171875 \r\nQ 46.921875 13.96875 46.921875 20.515625 \r\nQ 46.921875 27.09375 42.890625 30.859375 \r\nQ 38.875 34.625 31.78125 34.625 \r\nz\r\nM 21.921875 38.8125 \r\nQ 15.578125 40.375 12.03125 44.71875 \r\nQ 8.5 49.078125 8.5 55.328125 \r\nQ 8.5 64.0625 14.71875 69.140625 \r\nQ 20.953125 74.21875 31.78125 74.21875 \r\nQ 42.671875 74.21875 48.875 69.140625 \r\nQ 55.078125 64.0625 55.078125 55.328125 \r\nQ 55.078125 49.078125 51.53125 44.71875 \r\nQ 48 40.375 41.703125 38.8125 \r\nQ 48.828125 37.15625 52.796875 32.3125 \r\nQ 56.78125 27.484375 56.78125 20.515625 \r\nQ 56.78125 9.90625 50.3125 4.234375 \r\nQ 43.84375 -1.421875 31.78125 -1.421875 \r\nQ 19.734375 -1.421875 13.25 4.234375 \r\nQ 6.78125 9.90625 6.78125 20.515625 \r\nQ 6.78125 27.484375 10.78125 32.3125 \r\nQ 14.796875 37.15625 21.921875 38.8125 \r\nz\r\nM 18.3125 54.390625 \r\nQ 18.3125 48.734375 21.84375 45.5625 \r\nQ 25.390625 42.390625 31.78125 42.390625 \r\nQ 38.140625 42.390625 41.71875 45.5625 \r\nQ 45.3125 48.734375 45.3125 54.390625 \r\nQ 45.3125 60.0625 41.71875 63.234375 \r\nQ 38.140625 66.40625 31.78125 66.40625 \r\nQ 25.390625 66.40625 21.84375 63.234375 \r\nQ 18.3125 60.0625 18.3125 54.390625 \r\nz\r\n\" id=\"DejaVuSans-56\"/>\r\n      <path d=\"M 19.1875 8.296875 \r\nL 53.609375 8.296875 \r\nL 53.609375 0 \r\nL 7.328125 0 \r\nL 7.328125 8.296875 \r\nQ 12.9375 14.109375 22.625 23.890625 \r\nQ 32.328125 33.6875 34.8125 36.53125 \r\nQ 39.546875 41.84375 41.421875 45.53125 \r\nQ 43.3125 49.21875 43.3125 52.78125 \r\nQ 43.3125 58.59375 39.234375 62.25 \r\nQ 35.15625 65.921875 28.609375 65.921875 \r\nQ 23.96875 65.921875 18.8125 64.3125 \r\nQ 13.671875 62.703125 7.8125 59.421875 \r\nL 7.8125 69.390625 \r\nQ 13.765625 71.78125 18.9375 73 \r\nQ 24.125 74.21875 28.421875 74.21875 \r\nQ 39.75 74.21875 46.484375 68.546875 \r\nQ 53.21875 62.890625 53.21875 53.421875 \r\nQ 53.21875 48.921875 51.53125 44.890625 \r\nQ 49.859375 40.875 45.40625 35.40625 \r\nQ 44.1875 33.984375 37.640625 27.21875 \r\nQ 31.109375 20.453125 19.1875 8.296875 \r\nz\r\n\" id=\"DejaVuSans-50\"/>\r\n     </defs>\r\n     <g style=\"fill:#696969;\" transform=\"translate(125.03875 50.043125)scale(0.14 -0.14)\">\r\n      <use transform=\"translate(0 0.015625)\" xlink:href=\"#DejaVuSans-Oblique-78\"/>\r\n      <use transform=\"translate(74.804688 -16.390625)scale(0.7)\" xlink:href=\"#DejaVuSans-Oblique-69\"/>\r\n      <use transform=\"translate(119.033203 -16.390625)scale(0.7)\" xlink:href=\"#DejaVuSans-Oblique-100\"/>\r\n      <use transform=\"translate(185.683594 0.015625)\" xlink:href=\"#DejaVuSans-61\"/>\r\n      <use transform=\"translate(288.955078 0.015625)\" xlink:href=\"#DejaVuSans-49\"/>\r\n      <use transform=\"translate(352.578125 0.015625)\" xlink:href=\"#DejaVuSans-56\"/>\r\n      <use transform=\"translate(416.201172 0.015625)\" xlink:href=\"#DejaVuSans-56\"/>\r\n      <use transform=\"translate(479.824219 0.015625)\" xlink:href=\"#DejaVuSans-50\"/>\r\n      <use transform=\"translate(559.682942 0.015625)\" xlink:href=\"#DejaVuSans-Oblique-107\"/>\r\n      <use transform=\"translate(617.593098 0.015625)\" xlink:href=\"#DejaVuSans-Oblique-78\"/>\r\n     </g>\r\n    </g>\r\n    <g id=\"line2d_13\">\r\n     <path d=\"M 85.83875 65.303125 \r\nL 113.83875 65.303125 \r\n\" style=\"fill:none;stroke:#802b1d;stroke-linecap:round;stroke-width:3;\"/>\r\n    </g>\r\n    <g id=\"line2d_14\"/>\r\n    <g id=\"text_13\">\r\n     <!-- $M_I + M_{II}(\\chi)$ -->\r\n     <defs>\r\n      <path d=\"M 16.890625 72.90625 \r\nL 26.8125 72.90625 \r\nL 12.59375 0 \r\nL 2.6875 0 \r\nz\r\n\" id=\"DejaVuSans-Oblique-73\"/>\r\n      <path d=\"M 46 62.703125 \r\nL 46 35.5 \r\nL 73.1875 35.5 \r\nL 73.1875 27.203125 \r\nL 46 27.203125 \r\nL 46 0 \r\nL 37.796875 0 \r\nL 37.796875 27.203125 \r\nL 10.59375 27.203125 \r\nL 10.59375 35.5 \r\nL 37.796875 35.5 \r\nL 37.796875 62.703125 \r\nz\r\n\" id=\"DejaVuSans-43\"/>\r\n      <path d=\"M 31 75.875 \r\nQ 24.46875 64.65625 21.28125 53.65625 \r\nQ 18.109375 42.671875 18.109375 31.390625 \r\nQ 18.109375 20.125 21.3125 9.0625 \r\nQ 24.515625 -2 31 -13.1875 \r\nL 23.1875 -13.1875 \r\nQ 15.875 -1.703125 12.234375 9.375 \r\nQ 8.59375 20.453125 8.59375 31.390625 \r\nQ 8.59375 42.28125 12.203125 53.3125 \r\nQ 15.828125 64.359375 23.1875 75.875 \r\nz\r\n\" id=\"DejaVuSans-40\"/>\r\n      <path d=\"M 8.015625 75.875 \r\nL 15.828125 75.875 \r\nQ 23.140625 64.359375 26.78125 53.3125 \r\nQ 30.421875 42.28125 30.421875 31.390625 \r\nQ 30.421875 20.453125 26.78125 9.375 \r\nQ 23.140625 -1.703125 15.828125 -13.1875 \r\nL 8.015625 -13.1875 \r\nQ 14.5 -2 17.703125 9.0625 \r\nQ 20.90625 20.125 20.90625 31.390625 \r\nQ 20.90625 42.671875 17.703125 53.65625 \r\nQ 14.5 64.65625 8.015625 75.875 \r\nz\r\n\" id=\"DejaVuSans-41\"/>\r\n     </defs>\r\n     <g style=\"fill:#696969;\" transform=\"translate(125.03875 70.203125)scale(0.14 -0.14)\">\r\n      <use transform=\"translate(0 0.125)\" xlink:href=\"#DejaVuSans-Oblique-77\"/>\r\n      <use transform=\"translate(86.279297 -16.28125)scale(0.7)\" xlink:href=\"#DejaVuSans-Oblique-73\"/>\r\n      <use transform=\"translate(129.140625 0.125)\" xlink:href=\"#DejaVuSans-43\"/>\r\n      <use transform=\"translate(232.412109 0.125)\" xlink:href=\"#DejaVuSans-Oblique-77\"/>\r\n      <use transform=\"translate(318.691406 -16.28125)scale(0.7)\" xlink:href=\"#DejaVuSans-Oblique-73\"/>\r\n      <use transform=\"translate(339.335938 -16.28125)scale(0.7)\" xlink:href=\"#DejaVuSans-Oblique-73\"/>\r\n      <use transform=\"translate(362.714844 0.125)\" xlink:href=\"#DejaVuSans-40\"/>\r\n      <use transform=\"translate(401.728516 0.125)\" xlink:href=\"#DejaVuSans-Oblique-967\"/>\r\n      <use transform=\"translate(460.908203 0.125)\" xlink:href=\"#DejaVuSans-41\"/>\r\n     </g>\r\n    </g>\r\n   </g>\r\n  </g>\r\n </g>\r\n <defs>\r\n  <clipPath id=\"pc26fc1490c\">\r\n   <rect height=\"978.48\" width=\"1116\" x=\"73.23875\" y=\"26.803125\"/>\r\n  </clipPath>\r\n </defs>\r\n</svg>\r\n",
      "image/png": "[encoded data removed]"
     },
     "metadata": {}
    }
   ],
   "source": [
    "fig, ax = plt.subplots(figsize=(20,18))\n",
    "# plt.plot(chi, M, color='#7FA5A5', linewidth=3, label=r'$N_{Ed}=0$')\n",
    "plt.plot(chiN, MN,color='#7FA5A5', linewidth='3', label=r'$N_{Ed} = 1882\\,kN$')\n",
    "plt.plot(chi, M1*np.ones(len(chi))+M2, label=r'$M_I + M_{II}(\\chi)$', linewidth=3, color='#802B1D')\n",
    "ax.set_xlim(min(chiN), max(chiN)+10**-3)\n",
    "ax.set_ylim(0,max(MN)+10)\n",
    "plt.xticks([0,\n",
    "6.66448*10**-3,\n",
    "7.855*10**-3,\n",
    "0.0102693], fontsize='14', )\n",
    "plt.yticks([0,182.28,\n",
    "203.38,\n",
    "205.70], fontsize='14')\n",
    "plt.grid()\n",
    "plt.title('Metodo della colonna modello - pilastro P27')\n",
    "plt.legend(loc=0, fontsize=14)\n",
    "plt.ylabel(r'$M\\,[kN\\,m]$')\n",
    "plt.xlabel(r'$\\chi\\,\\left[\\frac{1}{m}\\right]$')\n",
    "plt.savefig('export/img/colonnaModello.pdf', bbox_inches='tight')\n",
    "plt.plot()"
   ]
  },
  {
   "cell_type": "code",
   "execution_count": null,
   "metadata": {},
   "outputs": [],
   "source": []
  },
  {
   "cell_type": "code",
   "execution_count": null,
   "metadata": {},
   "outputs": [],
   "source": []
  }
 ],
 "metadata": {
  "kernelspec": {
   "display_name": "Python 3",
   "language": "python",
   "name": "python3"
  },
  "language_info": {
   "codemirror_mode": {
    "name": "ipython",
    "version": 3
   },
   "file_extension": ".py",
   "mimetype": "text/x-python",
   "name": "python",
   "nbconvert_exporter": "python",
   "pygments_lexer": "ipython3",
   "version": "3.8.3-final"
  }
 },
 "nbformat": 4,
 "nbformat_minor": 4
}